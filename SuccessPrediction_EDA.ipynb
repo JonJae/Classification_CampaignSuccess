{
 "cells": [
  {
   "cell_type": "markdown",
   "metadata": {},
   "source": [
    "![title image](figures/kickstarter_project_title.png)\n",
    "\n",
    "# 1. Business Understanding\n",
    "\n",
    "\n",
    "## 1.1 About Kickstarter\n",
    "In recent years, the range of funding options for projects created by individuals and small companies has expanded considerably. In addition to savings, bank loans, friends & family funding and other traditional options, crowdfunding has become a popular and readily available alternative.\n",
    "\n",
    "Kickstarter, founded in 2009, is one particularly well-known and popular crowdfunding platform. It has an all-or-nothing funding model, whereby a project is only funded if it meets its goal amount; otherwise no money is given by backers to a project. A huge variety of factors contribute to the success or failure of a project — in general, and also on Kickstarter. Some of these are able to be quantified or categorized, which allows for the construction of a model to attempt to predict whether a project will succeed or not.\n",
    "\n",
    "The aim of this project is:\n",
    "- to construct such a model \n",
    "- and also to analyse Kickstarter project data more generally, in order to help potential project creators assess whether or not Kickstarter is a good funding option for them, and what their chances of success are.\n",
    "\n",
    "\n",
    "## 1.2 Project Presentation\n",
    "Presentation of the results in Fall 2020, using the [Project Presentation deck](https://github.com/JonJae/SUCCESS_PREDICTION/blob/main/SuccessPrediction_presentation.pdf) .\n",
    "\n",
    "\n",
    "## 1.3 Business Case / Key Questions\n",
    "- Can a model (based on given or created project parameters) be created that predicts the success of a project on Kickstarter, greater than the baseline rate? Building such a model is the main task!\n",
    "- Which factors have the greatest influence on a successful project? A list of recommendations for for project creators sould be another outcome of this work!\n",
    "\n",
    "\n",
    "## 1.4 Performance Metric\n",
    "The main aim of this project is to predict wether or not a Kickstarer campaign is successful (y=1) or not (y=0). As with all classification predictions, the model of concern might not be perfectly accurate. The model might predict a campaign as successful while the campaign actually failed (FP).  Or, an actual successful campaign is predicted as unsuccessful (FN). To compare different models among each other but also to describe the performance of a specific model to a shareholder, a Performance Metric needs to be chosen. \n",
    "\n",
    "This project focuses on the **F1-Score** as target metric. Reasoning: \n",
    "\n",
    "- F1-Score combines both precision (PPV ) and  recall (TPR, or sensitivity). Unlike PPV and TPR separately, it takes both false positives and false negatives into account simultaneously.\n",
    "- In the context of success prediction, both wrongly predicted failing (False Negatives; prediction: failed, actual: success) and wrongly predicted succes (False Postive; prediction: success, actual: failed) are equally important. This is different e.g., for cancer predictions, where a low FN (prediction: no-cancer, actual: caner) rate is of utmost importance. \n",
    "\n",
    "The F1-Score is the *harmonic mean* of precision and recall. As a result, a prediction will only get a high F1-Score if both recall and precision are high. The F1-Score is calculated as followed: *F1 = 2 · (PPV · TPR) / (PPV + TPR)*\n",
    "\n",
    "ROC-AUC was considered as alternative performance metric. The idea of using ROC-AUIC was discarded due to the easier interpretation of the F1-Score.  "
   ]
  },
  {
   "cell_type": "markdown",
   "metadata": {},
   "source": [
    "# 2. Dataset Details\n",
    "\n",
    "## 2.1 Origin of the dataset\n",
    "Due to the fact that the given data sets (Kickstarter000.csv to Kickstarter055.csv) have the same structure (features and column-format, only 'country_displayable_name'- a reasonable feature btw. - is missing) as the data to be found on https://webrobots.io/kickstarter-datasets/ it can be assumed that this is also their source.  \n",
    "\n",
    "The data was crawled by the company [WebRobots](https://webrobots.io/) ('We provide B2B web crawling and scraping services') directly from the [Kickstarter-Website](https://www.kickstarter.com/).\n",
    "\n",
    "Current data (crawled within the timeframe 2014-04-22 to 2020-08-13) can be found there.  \n",
    "All of the datasets contains snapshots of all kickstarter-projects (from the beginning in 2009) in the status at the crawl-date.\n",
    "\n",
    "Notes from WebRobots:  \n",
    "- From December 2015 we modified the collection approach to go through all sub-categories instead of only top level categories. This yields more results in the datasets, but possible **duplication where projects are listed in multiple categories**.\n",
    "- From March 2016 we run this data crawl once a month. Datasets are available from scrape dates.\n",
    "- We receive many question about timestamp format used in this dataset. It is unix-time. (Unix timestamps correspond to the number of seconds that have passed since 01.01.1970.)\n",
    "\n",
    "\n",
    "\n",
    "\n",
    "## 2.2 Feature Glossary\n",
    "**Prediction relevant features:**\n",
    "- **state** - Indicates the status of the project. Categorical values: successful, failed, live, cancelled and suspended.  \n",
    "THIS IS OUR TARGET. But we will only look after finalized projects with state successful or failed.\n",
    "- **id** - Project-Id \n",
    "- **profile** - Contains the project-id and indicates the status (active/inactive).\n",
    "- **category** - Contains (among other stuff) main and subcategory.\n",
    "- **source_url** - URL of the corresponding category/subcategory.\n",
    "- **country** - Country of origin of the project.\n",
    "- **creator** - Data about the person who created the project.\n",
    "- **backers_count** - Number of supporters who are invested (at crawling-date).\n",
    "- **staff_pick** - True/false-values. Indicates that this project is highlighted by the staff. Promoted by email-newsletter and highlighted spots around the site.\n",
    "- **launched_at** - Launch date of the project (UNIX Format).\n",
    "- **deadline** - Deadline of the project. At this point the decision is made wheater the project gets realized (goal is reached) or not.\n",
    "- **currency** - Currency of the project (e.g. USD, EUR)\n",
    "- **goal** - Target-amount in project-currency.\n",
    "- **static_usd_rate** - Static currency conversion rate.\n",
    "- **usd_pledged** - Current pledged amount of USD (at crawling date, converted from \"pledged\" via \"static_usd_rate\", float).\n",
    "\n",
    "\n",
    "**For our prediction not further considered:**\n",
    "- **converted_pledged_amount** - Current pledged amount of USD (at crawling date, converted from \"pledged\" via \"static_usd_rate\", rounded).\n",
    "- **created_at** - Date when Project was created (UNIX Format).\n",
    "- **currency_symbol** - Symbol of the currency.\n",
    "- **currency_trailing_code** - Defines whether the currency codes are always shown after the amounte locale.\n",
    "- **current_currency** - Unknown (!) current currency. Not important, because we only look after converted USD.\n",
    "- **disable_communication** - True when the campaign is suspend (?)\n",
    "- **friends** - Many NaN and a few empty lists.\n",
    "- **fx_rate** - Used to create 'converted_pledged_amount' from 'pledged', but does not always convert to dollars. Can be dropped ('static_usd_rate'  always converts to dollars).\n",
    "- **is_backing** - Many empty entries and a few false-values.\n",
    "- **is_starrable** - true/false-values. Unknown (!)\n",
    "- **is_starred** - Many empty entries and a few false-values.\n",
    "- **name** - Name of the project.\n",
    "- **permissions** - Many NaN and a few empty lists.\n",
    "- **photo** - Some information regarding the project-photos.\n",
    "- **pledged** - Unconverted pledged amount as float.\n",
    "- **slug** - Creator-selected keyword id of the project.\n",
    "- **spotlight** - True/false-values. A possible feature that allows every successfully funded Kickstarter project to tell its story from beginning to end.\n",
    "- **state_changed_at** - State-changed-date of the project (UNIX Format).\n",
    "- **urls** - Link directly to the project on kickstarter.\n",
    "- **usd_type** - domestic, international or NaN. Not important, because we only look after converted USD."
   ]
  },
  {
   "cell_type": "markdown",
   "metadata": {},
   "source": [
    "# 3. Environment Set-Up\n",
    "## 3.1 Imports"
   ]
  },
  {
   "cell_type": "code",
   "execution_count": 1,
   "metadata": {},
   "outputs": [],
   "source": [
    "#standard imports\n",
    "import numpy as np\n",
    "import pandas as pd\n",
    "import seaborn as sns\n",
    "import matplotlib.pyplot as plt\n",
    "\n",
    "# special imports\n",
    "import warnings\n",
    "\n",
    "\n",
    "#specific libaries\n",
    "import glob \n",
    "    # read all csv files in the directory\n",
    "    # documentation: https://docs.python.org/3/library/glob.html#glob.glob\n",
    "import time\n",
    "    # converting int/unix representation of Dates to DateTime Format\n",
    "\n",
    "#ML - PreProcessing\n",
    "from sklearn.utils import resample\n",
    "from sklearn.model_selection import train_test_split\n",
    "\n",
    "#ML - Models and Grids \n",
    "from sklearn.ensemble import RandomForestClassifier\n",
    "from sklearn.model_selection import GridSearchCV\n",
    "from sklearn.model_selection import RandomizedSearchCV\n",
    "\n",
    "#Output and Validation\n",
    "from sklearn.metrics import confusion_matrix\n",
    "from sklearn.metrics import classification_report"
   ]
  },
  {
   "cell_type": "markdown",
   "metadata": {},
   "source": [
    "## 3.2 Global Variables and Settings"
   ]
  },
  {
   "cell_type": "code",
   "execution_count": 2,
   "metadata": {},
   "outputs": [],
   "source": [
    "#reset -f#cleaning the namespace / self assigned variables\n",
    "\n",
    "warnings.filterwarnings('ignore') #for suppression of depricated messages\n",
    "RSEED = 42       #for replicability purposes\n",
    "sns.set(style=\"white\")  #default plot styling \n",
    "\n",
    "#Modeling\n",
    "scoring = \"f1\""
   ]
  },
  {
   "cell_type": "markdown",
   "metadata": {},
   "source": [
    "# 4. Data Mining\n"
   ]
  },
  {
   "cell_type": "code",
   "execution_count": 3,
   "metadata": {},
   "outputs": [],
   "source": [
    "raw_content = [pd.read_csv(file) for file in glob.glob('data/Kickstarter*.csv')]\n",
    "#df_rawdata --> data as imported\n",
    "df_rawdata = pd.concat(raw_content, ignore_index = True)"
   ]
  },
  {
   "cell_type": "code",
   "execution_count": 4,
   "metadata": {},
   "outputs": [
    {
     "name": "stdout",
     "output_type": "stream",
     "text": [
      "(186499, 37)\n"
     ]
    },
    {
     "data": {
      "text/html": [
       "<div>\n",
       "<style scoped>\n",
       "    .dataframe tbody tr th:only-of-type {\n",
       "        vertical-align: middle;\n",
       "    }\n",
       "\n",
       "    .dataframe tbody tr th {\n",
       "        vertical-align: top;\n",
       "    }\n",
       "\n",
       "    .dataframe thead th {\n",
       "        text-align: right;\n",
       "    }\n",
       "</style>\n",
       "<table border=\"1\" class=\"dataframe\">\n",
       "  <thead>\n",
       "    <tr style=\"text-align: right;\">\n",
       "      <th></th>\n",
       "      <th>115988</th>\n",
       "      <th>75097</th>\n",
       "    </tr>\n",
       "  </thead>\n",
       "  <tbody>\n",
       "    <tr>\n",
       "      <th>backers_count</th>\n",
       "      <td>167</td>\n",
       "      <td>9</td>\n",
       "    </tr>\n",
       "    <tr>\n",
       "      <th>blurb</th>\n",
       "      <td>A revolutionary hockey stick with an offset sh...</td>\n",
       "      <td>Enable Full Walrus make people feel weird all ...</td>\n",
       "    </tr>\n",
       "    <tr>\n",
       "      <th>category</th>\n",
       "      <td>{\"id\":7,\"name\":\"Design\",\"slug\":\"design\",\"posit...</td>\n",
       "      <td>{\"id\":40,\"name\":\"Indie Rock\",\"slug\":\"music/ind...</td>\n",
       "    </tr>\n",
       "    <tr>\n",
       "      <th>converted_pledged_amount</th>\n",
       "      <td>32729</td>\n",
       "      <td>520</td>\n",
       "    </tr>\n",
       "    <tr>\n",
       "      <th>country</th>\n",
       "      <td>US</td>\n",
       "      <td>US</td>\n",
       "    </tr>\n",
       "    <tr>\n",
       "      <th>created_at</th>\n",
       "      <td>1528324043</td>\n",
       "      <td>1499611960</td>\n",
       "    </tr>\n",
       "    <tr>\n",
       "      <th>creator</th>\n",
       "      <td>{\"id\":1241679019,\"name\":\"Elevate Hockey\",\"slug...</td>\n",
       "      <td>{\"id\":466868908,\"name\":\"Noah Schneidman\",\"is_r...</td>\n",
       "    </tr>\n",
       "    <tr>\n",
       "      <th>currency</th>\n",
       "      <td>USD</td>\n",
       "      <td>USD</td>\n",
       "    </tr>\n",
       "    <tr>\n",
       "      <th>currency_symbol</th>\n",
       "      <td>$</td>\n",
       "      <td>$</td>\n",
       "    </tr>\n",
       "    <tr>\n",
       "      <th>currency_trailing_code</th>\n",
       "      <td>True</td>\n",
       "      <td>True</td>\n",
       "    </tr>\n",
       "    <tr>\n",
       "      <th>current_currency</th>\n",
       "      <td>USD</td>\n",
       "      <td>USD</td>\n",
       "    </tr>\n",
       "    <tr>\n",
       "      <th>deadline</th>\n",
       "      <td>1533247500</td>\n",
       "      <td>1502638909</td>\n",
       "    </tr>\n",
       "    <tr>\n",
       "      <th>disable_communication</th>\n",
       "      <td>False</td>\n",
       "      <td>False</td>\n",
       "    </tr>\n",
       "    <tr>\n",
       "      <th>friends</th>\n",
       "      <td>NaN</td>\n",
       "      <td>NaN</td>\n",
       "    </tr>\n",
       "    <tr>\n",
       "      <th>fx_rate</th>\n",
       "      <td>1</td>\n",
       "      <td>1</td>\n",
       "    </tr>\n",
       "    <tr>\n",
       "      <th>goal</th>\n",
       "      <td>25000</td>\n",
       "      <td>500</td>\n",
       "    </tr>\n",
       "    <tr>\n",
       "      <th>id</th>\n",
       "      <td>1859229019</td>\n",
       "      <td>1187578598</td>\n",
       "    </tr>\n",
       "    <tr>\n",
       "      <th>is_backing</th>\n",
       "      <td>NaN</td>\n",
       "      <td>NaN</td>\n",
       "    </tr>\n",
       "    <tr>\n",
       "      <th>is_starrable</th>\n",
       "      <td>False</td>\n",
       "      <td>False</td>\n",
       "    </tr>\n",
       "    <tr>\n",
       "      <th>is_starred</th>\n",
       "      <td>NaN</td>\n",
       "      <td>NaN</td>\n",
       "    </tr>\n",
       "    <tr>\n",
       "      <th>launched_at</th>\n",
       "      <td>1529982299</td>\n",
       "      <td>1499614909</td>\n",
       "    </tr>\n",
       "    <tr>\n",
       "      <th>location</th>\n",
       "      <td>{\"id\":2452078,\"name\":\"Minneapolis\",\"slug\":\"min...</td>\n",
       "      <td>{\"id\":2523734,\"name\":\"Woodstock\",\"slug\":\"woods...</td>\n",
       "    </tr>\n",
       "    <tr>\n",
       "      <th>name</th>\n",
       "      <td>Elevate Hockey XL27 Dual Axis Hockey Stick - B...</td>\n",
       "      <td>Full Walrus hits the road!</td>\n",
       "    </tr>\n",
       "    <tr>\n",
       "      <th>permissions</th>\n",
       "      <td>NaN</td>\n",
       "      <td>NaN</td>\n",
       "    </tr>\n",
       "    <tr>\n",
       "      <th>photo</th>\n",
       "      <td>{\"key\":\"assets/021/638/160/95aec60113a65a4a266...</td>\n",
       "      <td>{\"key\":\"assets/017/433/294/daf69653ce5b2017c15...</td>\n",
       "    </tr>\n",
       "    <tr>\n",
       "      <th>pledged</th>\n",
       "      <td>32729</td>\n",
       "      <td>520</td>\n",
       "    </tr>\n",
       "    <tr>\n",
       "      <th>profile</th>\n",
       "      <td>{\"id\":3398945,\"project_id\":3398945,\"state\":\"ac...</td>\n",
       "      <td>{\"id\":3067123,\"project_id\":3067123,\"state\":\"in...</td>\n",
       "    </tr>\n",
       "    <tr>\n",
       "      <th>slug</th>\n",
       "      <td>elevate-hockey-xl27-dual-axis-hockey-stick-ben...</td>\n",
       "      <td>full-walrus-hits-the-road</td>\n",
       "    </tr>\n",
       "    <tr>\n",
       "      <th>source_url</th>\n",
       "      <td>https://www.kickstarter.com/discover/categorie...</td>\n",
       "      <td>https://www.kickstarter.com/discover/categorie...</td>\n",
       "    </tr>\n",
       "    <tr>\n",
       "      <th>spotlight</th>\n",
       "      <td>True</td>\n",
       "      <td>True</td>\n",
       "    </tr>\n",
       "    <tr>\n",
       "      <th>staff_pick</th>\n",
       "      <td>False</td>\n",
       "      <td>False</td>\n",
       "    </tr>\n",
       "    <tr>\n",
       "      <th>state</th>\n",
       "      <td>successful</td>\n",
       "      <td>successful</td>\n",
       "    </tr>\n",
       "    <tr>\n",
       "      <th>state_changed_at</th>\n",
       "      <td>1533247500</td>\n",
       "      <td>1502638911</td>\n",
       "    </tr>\n",
       "    <tr>\n",
       "      <th>static_usd_rate</th>\n",
       "      <td>1</td>\n",
       "      <td>1</td>\n",
       "    </tr>\n",
       "    <tr>\n",
       "      <th>urls</th>\n",
       "      <td>{\"web\":{\"project\":\"https://www.kickstarter.com...</td>\n",
       "      <td>{\"web\":{\"project\":\"https://www.kickstarter.com...</td>\n",
       "    </tr>\n",
       "    <tr>\n",
       "      <th>usd_pledged</th>\n",
       "      <td>32729</td>\n",
       "      <td>520</td>\n",
       "    </tr>\n",
       "    <tr>\n",
       "      <th>usd_type</th>\n",
       "      <td>domestic</td>\n",
       "      <td>domestic</td>\n",
       "    </tr>\n",
       "  </tbody>\n",
       "</table>\n",
       "</div>"
      ],
      "text/plain": [
       "                                                                     115988  \\\n",
       "backers_count                                                           167   \n",
       "blurb                     A revolutionary hockey stick with an offset sh...   \n",
       "category                  {\"id\":7,\"name\":\"Design\",\"slug\":\"design\",\"posit...   \n",
       "converted_pledged_amount                                              32729   \n",
       "country                                                                  US   \n",
       "created_at                                                       1528324043   \n",
       "creator                   {\"id\":1241679019,\"name\":\"Elevate Hockey\",\"slug...   \n",
       "currency                                                                USD   \n",
       "currency_symbol                                                           $   \n",
       "currency_trailing_code                                                 True   \n",
       "current_currency                                                        USD   \n",
       "deadline                                                         1533247500   \n",
       "disable_communication                                                 False   \n",
       "friends                                                                 NaN   \n",
       "fx_rate                                                                   1   \n",
       "goal                                                                  25000   \n",
       "id                                                               1859229019   \n",
       "is_backing                                                              NaN   \n",
       "is_starrable                                                          False   \n",
       "is_starred                                                              NaN   \n",
       "launched_at                                                      1529982299   \n",
       "location                  {\"id\":2452078,\"name\":\"Minneapolis\",\"slug\":\"min...   \n",
       "name                      Elevate Hockey XL27 Dual Axis Hockey Stick - B...   \n",
       "permissions                                                             NaN   \n",
       "photo                     {\"key\":\"assets/021/638/160/95aec60113a65a4a266...   \n",
       "pledged                                                               32729   \n",
       "profile                   {\"id\":3398945,\"project_id\":3398945,\"state\":\"ac...   \n",
       "slug                      elevate-hockey-xl27-dual-axis-hockey-stick-ben...   \n",
       "source_url                https://www.kickstarter.com/discover/categorie...   \n",
       "spotlight                                                              True   \n",
       "staff_pick                                                            False   \n",
       "state                                                            successful   \n",
       "state_changed_at                                                 1533247500   \n",
       "static_usd_rate                                                           1   \n",
       "urls                      {\"web\":{\"project\":\"https://www.kickstarter.com...   \n",
       "usd_pledged                                                           32729   \n",
       "usd_type                                                           domestic   \n",
       "\n",
       "                                                                     75097   \n",
       "backers_count                                                             9  \n",
       "blurb                     Enable Full Walrus make people feel weird all ...  \n",
       "category                  {\"id\":40,\"name\":\"Indie Rock\",\"slug\":\"music/ind...  \n",
       "converted_pledged_amount                                                520  \n",
       "country                                                                  US  \n",
       "created_at                                                       1499611960  \n",
       "creator                   {\"id\":466868908,\"name\":\"Noah Schneidman\",\"is_r...  \n",
       "currency                                                                USD  \n",
       "currency_symbol                                                           $  \n",
       "currency_trailing_code                                                 True  \n",
       "current_currency                                                        USD  \n",
       "deadline                                                         1502638909  \n",
       "disable_communication                                                 False  \n",
       "friends                                                                 NaN  \n",
       "fx_rate                                                                   1  \n",
       "goal                                                                    500  \n",
       "id                                                               1187578598  \n",
       "is_backing                                                              NaN  \n",
       "is_starrable                                                          False  \n",
       "is_starred                                                              NaN  \n",
       "launched_at                                                      1499614909  \n",
       "location                  {\"id\":2523734,\"name\":\"Woodstock\",\"slug\":\"woods...  \n",
       "name                                             Full Walrus hits the road!  \n",
       "permissions                                                             NaN  \n",
       "photo                     {\"key\":\"assets/017/433/294/daf69653ce5b2017c15...  \n",
       "pledged                                                                 520  \n",
       "profile                   {\"id\":3067123,\"project_id\":3067123,\"state\":\"in...  \n",
       "slug                                              full-walrus-hits-the-road  \n",
       "source_url                https://www.kickstarter.com/discover/categorie...  \n",
       "spotlight                                                              True  \n",
       "staff_pick                                                            False  \n",
       "state                                                            successful  \n",
       "state_changed_at                                                 1502638911  \n",
       "static_usd_rate                                                           1  \n",
       "urls                      {\"web\":{\"project\":\"https://www.kickstarter.com...  \n",
       "usd_pledged                                                             520  \n",
       "usd_type                                                           domestic  "
      ]
     },
     "execution_count": 4,
     "metadata": {},
     "output_type": "execute_result"
    }
   ],
   "source": [
    "#df --> data for data cleaning and data exploration\n",
    "df = df_rawdata.copy()\n",
    "print(df.shape)\n",
    "df.sample(2).T"
   ]
  },
  {
   "cell_type": "markdown",
   "metadata": {},
   "source": [
    "## 4.1 Inspection"
   ]
  },
  {
   "cell_type": "code",
   "execution_count": 5,
   "metadata": {},
   "outputs": [
    {
     "name": "stdout",
     "output_type": "stream",
     "text": [
      "number of features: 37\n",
      "number of data points: 186499\n",
      "\n",
      "Coloumn names:  \n",
      " Index(['backers_count', 'blurb', 'category', 'converted_pledged_amount',\n",
      "       'country', 'created_at', 'creator', 'currency', 'currency_symbol',\n",
      "       'currency_trailing_code', 'current_currency', 'deadline',\n",
      "       'disable_communication', 'friends', 'fx_rate', 'goal', 'id',\n",
      "       'is_backing', 'is_starrable', 'is_starred', 'launched_at', 'location',\n",
      "       'name', 'permissions', 'photo', 'pledged', 'profile', 'slug',\n",
      "       'source_url', 'spotlight', 'staff_pick', 'state', 'state_changed_at',\n",
      "       'static_usd_rate', 'urls', 'usd_pledged', 'usd_type'],\n",
      "      dtype='object')\n"
     ]
    }
   ],
   "source": [
    "#Key Facts about the DataSet\n",
    "print(f'number of features: {df.shape[1]}') \n",
    "print(f'number of data points: {df.shape[0]}') \n",
    "print()\n",
    "print(f'Coloumn names:  \\n {df.columns}')"
   ]
  },
  {
   "cell_type": "code",
   "execution_count": 6,
   "metadata": {},
   "outputs": [
    {
     "name": "stdout",
     "output_type": "stream",
     "text": [
      "<class 'pandas.core.frame.DataFrame'>\n",
      "RangeIndex: 186499 entries, 0 to 186498\n",
      "Data columns (total 37 columns):\n",
      " #   Column                    Non-Null Count   Dtype  \n",
      "---  ------                    --------------   -----  \n",
      " 0   backers_count             186499 non-null  int64  \n",
      " 1   blurb                     186492 non-null  object \n",
      " 2   category                  186499 non-null  object \n",
      " 3   converted_pledged_amount  186499 non-null  int64  \n",
      " 4   country                   186499 non-null  object \n",
      " 5   created_at                186499 non-null  int64  \n",
      " 6   creator                   186499 non-null  object \n",
      " 7   currency                  186499 non-null  object \n",
      " 8   currency_symbol           186499 non-null  object \n",
      " 9   currency_trailing_code    186499 non-null  bool   \n",
      " 10  current_currency          186499 non-null  object \n",
      " 11  deadline                  186499 non-null  int64  \n",
      " 12  disable_communication     186499 non-null  bool   \n",
      " 13  friends                   257 non-null     object \n",
      " 14  fx_rate                   186499 non-null  float64\n",
      " 15  goal                      186499 non-null  float64\n",
      " 16  id                        186499 non-null  int64  \n",
      " 17  is_backing                257 non-null     object \n",
      " 18  is_starrable              186499 non-null  bool   \n",
      " 19  is_starred                257 non-null     object \n",
      " 20  launched_at               186499 non-null  int64  \n",
      " 21  location                  186294 non-null  object \n",
      " 22  name                      186499 non-null  object \n",
      " 23  permissions               257 non-null     object \n",
      " 24  photo                     186499 non-null  object \n",
      " 25  pledged                   186499 non-null  float64\n",
      " 26  profile                   186499 non-null  object \n",
      " 27  slug                      186499 non-null  object \n",
      " 28  source_url                186499 non-null  object \n",
      " 29  spotlight                 186499 non-null  bool   \n",
      " 30  staff_pick                186499 non-null  bool   \n",
      " 31  state                     186499 non-null  object \n",
      " 32  state_changed_at          186499 non-null  int64  \n",
      " 33  static_usd_rate           186499 non-null  float64\n",
      " 34  urls                      186499 non-null  object \n",
      " 35  usd_pledged               186499 non-null  float64\n",
      " 36  usd_type                  186084 non-null  object \n",
      "dtypes: bool(5), float64(5), int64(7), object(20)\n",
      "memory usage: 46.4+ MB\n"
     ]
    }
   ],
   "source": [
    "df.info()"
   ]
  },
  {
   "cell_type": "markdown",
   "metadata": {},
   "source": [
    "## 4.2 Missing Values"
   ]
  },
  {
   "cell_type": "code",
   "execution_count": 7,
   "metadata": {},
   "outputs": [
    {
     "data": {
      "image/png": "[encoded data removed]",
      "text/plain": [
       "<Figure size 1008x288 with 1 Axes>"
      ]
     },
     "metadata": {},
     "output_type": "display_data"
    }
   ],
   "source": [
    "#exploring missing values --> few coloumns where close to all values are missing. \n",
    "plt.figure(figsize=(14,4))\n",
    "sns.heatmap(df.isnull(),yticklabels=False,cbar=False);"
   ]
  },
  {
   "cell_type": "code",
   "execution_count": 8,
   "metadata": {},
   "outputs": [
    {
     "name": "stdout",
     "output_type": "stream",
     "text": [
      "isnull values per coloumn (if there are any)\n",
      "permissions    186242\n",
      "is_starred     186242\n",
      "is_backing     186242\n",
      "friends        186242\n",
      "usd_type          415\n",
      "location          205\n",
      "blurb               7\n",
      "dtype: int64\n"
     ]
    }
   ],
   "source": [
    "mask = df.columns[df.isnull().any(axis=0)]\n",
    "null_values = df[mask].isnull().sum()\n",
    "null_values = null_values.sort_values(ascending=False)\n",
    "print('isnull values per coloumn (if there are any)')\n",
    "print(null_values)"
   ]
  },
  {
   "cell_type": "code",
   "execution_count": 9,
   "metadata": {},
   "outputs": [
    {
     "data": {
      "text/html": [
       "<div>\n",
       "<style scoped>\n",
       "    .dataframe tbody tr th:only-of-type {\n",
       "        vertical-align: middle;\n",
       "    }\n",
       "\n",
       "    .dataframe tbody tr th {\n",
       "        vertical-align: top;\n",
       "    }\n",
       "\n",
       "    .dataframe thead th {\n",
       "        text-align: right;\n",
       "    }\n",
       "</style>\n",
       "<table border=\"1\" class=\"dataframe\">\n",
       "  <thead>\n",
       "    <tr style=\"text-align: right;\">\n",
       "      <th></th>\n",
       "      <th>backers_count</th>\n",
       "      <th>converted_pledged_amount</th>\n",
       "      <th>created_at</th>\n",
       "      <th>deadline</th>\n",
       "      <th>fx_rate</th>\n",
       "      <th>goal</th>\n",
       "      <th>id</th>\n",
       "      <th>launched_at</th>\n",
       "      <th>pledged</th>\n",
       "      <th>state_changed_at</th>\n",
       "      <th>static_usd_rate</th>\n",
       "      <th>usd_pledged</th>\n",
       "    </tr>\n",
       "  </thead>\n",
       "  <tbody>\n",
       "    <tr>\n",
       "      <th>count</th>\n",
       "      <td>186499.00</td>\n",
       "      <td>186499.00</td>\n",
       "      <td>1.864990e+05</td>\n",
       "      <td>1.864990e+05</td>\n",
       "      <td>186499.00</td>\n",
       "      <td>1.864990e+05</td>\n",
       "      <td>1.864990e+05</td>\n",
       "      <td>1.864990e+05</td>\n",
       "      <td>186499.00</td>\n",
       "      <td>1.864990e+05</td>\n",
       "      <td>186499.00</td>\n",
       "      <td>186499.00</td>\n",
       "    </tr>\n",
       "    <tr>\n",
       "      <th>mean</th>\n",
       "      <td>145.94</td>\n",
       "      <td>12883.18</td>\n",
       "      <td>1.456167e+09</td>\n",
       "      <td>1.463106e+09</td>\n",
       "      <td>0.99</td>\n",
       "      <td>4.911979e+04</td>\n",
       "      <td>1.073433e+09</td>\n",
       "      <td>1.460279e+09</td>\n",
       "      <td>18775.78</td>\n",
       "      <td>1.462910e+09</td>\n",
       "      <td>1.01</td>\n",
       "      <td>12885.65</td>\n",
       "    </tr>\n",
       "    <tr>\n",
       "      <th>std</th>\n",
       "      <td>895.10</td>\n",
       "      <td>86418.36</td>\n",
       "      <td>6.341964e+07</td>\n",
       "      <td>6.307278e+07</td>\n",
       "      <td>0.21</td>\n",
       "      <td>1.163584e+06</td>\n",
       "      <td>6.198831e+08</td>\n",
       "      <td>6.310738e+07</td>\n",
       "      <td>329457.28</td>\n",
       "      <td>6.292094e+07</td>\n",
       "      <td>0.23</td>\n",
       "      <td>86472.21</td>\n",
       "    </tr>\n",
       "    <tr>\n",
       "      <th>min</th>\n",
       "      <td>0.00</td>\n",
       "      <td>0.00</td>\n",
       "      <td>1.240456e+09</td>\n",
       "      <td>1.241334e+09</td>\n",
       "      <td>0.01</td>\n",
       "      <td>1.000000e-02</td>\n",
       "      <td>1.852000e+04</td>\n",
       "      <td>1.240603e+09</td>\n",
       "      <td>0.00</td>\n",
       "      <td>1.241334e+09</td>\n",
       "      <td>0.01</td>\n",
       "      <td>0.00</td>\n",
       "    </tr>\n",
       "    <tr>\n",
       "      <th>25%</th>\n",
       "      <td>4.00</td>\n",
       "      <td>107.00</td>\n",
       "      <td>1.413425e+09</td>\n",
       "      <td>1.420770e+09</td>\n",
       "      <td>1.00</td>\n",
       "      <td>1.500000e+03</td>\n",
       "      <td>5.353814e+08</td>\n",
       "      <td>1.417757e+09</td>\n",
       "      <td>110.00</td>\n",
       "      <td>1.420655e+09</td>\n",
       "      <td>1.00</td>\n",
       "      <td>107.02</td>\n",
       "    </tr>\n",
       "    <tr>\n",
       "      <th>50%</th>\n",
       "      <td>27.00</td>\n",
       "      <td>1538.00</td>\n",
       "      <td>1.457993e+09</td>\n",
       "      <td>1.464804e+09</td>\n",
       "      <td>1.00</td>\n",
       "      <td>5.000000e+03</td>\n",
       "      <td>1.075065e+09</td>\n",
       "      <td>1.462029e+09</td>\n",
       "      <td>1555.00</td>\n",
       "      <td>1.464754e+09</td>\n",
       "      <td>1.00</td>\n",
       "      <td>1538.00</td>\n",
       "    </tr>\n",
       "    <tr>\n",
       "      <th>75%</th>\n",
       "      <td>89.00</td>\n",
       "      <td>6543.00</td>\n",
       "      <td>1.511806e+09</td>\n",
       "      <td>1.519583e+09</td>\n",
       "      <td>1.00</td>\n",
       "      <td>1.500000e+04</td>\n",
       "      <td>1.609994e+09</td>\n",
       "      <td>1.516771e+09</td>\n",
       "      <td>6881.16</td>\n",
       "      <td>1.519503e+09</td>\n",
       "      <td>1.00</td>\n",
       "      <td>6543.50</td>\n",
       "    </tr>\n",
       "    <tr>\n",
       "      <th>max</th>\n",
       "      <td>105857.00</td>\n",
       "      <td>7211620.00</td>\n",
       "      <td>1.552515e+09</td>\n",
       "      <td>1.557718e+09</td>\n",
       "      <td>1.88</td>\n",
       "      <td>1.000000e+08</td>\n",
       "      <td>2.147476e+09</td>\n",
       "      <td>1.552536e+09</td>\n",
       "      <td>81030744.00</td>\n",
       "      <td>1.552536e+09</td>\n",
       "      <td>1.72</td>\n",
       "      <td>7211620.08</td>\n",
       "    </tr>\n",
       "  </tbody>\n",
       "</table>\n",
       "</div>"
      ],
      "text/plain": [
       "       backers_count  converted_pledged_amount    created_at      deadline  \\\n",
       "count      186499.00                 186499.00  1.864990e+05  1.864990e+05   \n",
       "mean          145.94                  12883.18  1.456167e+09  1.463106e+09   \n",
       "std           895.10                  86418.36  6.341964e+07  6.307278e+07   \n",
       "min             0.00                      0.00  1.240456e+09  1.241334e+09   \n",
       "25%             4.00                    107.00  1.413425e+09  1.420770e+09   \n",
       "50%            27.00                   1538.00  1.457993e+09  1.464804e+09   \n",
       "75%            89.00                   6543.00  1.511806e+09  1.519583e+09   \n",
       "max        105857.00                7211620.00  1.552515e+09  1.557718e+09   \n",
       "\n",
       "         fx_rate          goal            id   launched_at      pledged  \\\n",
       "count  186499.00  1.864990e+05  1.864990e+05  1.864990e+05    186499.00   \n",
       "mean        0.99  4.911979e+04  1.073433e+09  1.460279e+09     18775.78   \n",
       "std         0.21  1.163584e+06  6.198831e+08  6.310738e+07    329457.28   \n",
       "min         0.01  1.000000e-02  1.852000e+04  1.240603e+09         0.00   \n",
       "25%         1.00  1.500000e+03  5.353814e+08  1.417757e+09       110.00   \n",
       "50%         1.00  5.000000e+03  1.075065e+09  1.462029e+09      1555.00   \n",
       "75%         1.00  1.500000e+04  1.609994e+09  1.516771e+09      6881.16   \n",
       "max         1.88  1.000000e+08  2.147476e+09  1.552536e+09  81030744.00   \n",
       "\n",
       "       state_changed_at  static_usd_rate  usd_pledged  \n",
       "count      1.864990e+05        186499.00    186499.00  \n",
       "mean       1.462910e+09             1.01     12885.65  \n",
       "std        6.292094e+07             0.23     86472.21  \n",
       "min        1.241334e+09             0.01         0.00  \n",
       "25%        1.420655e+09             1.00       107.02  \n",
       "50%        1.464754e+09             1.00      1538.00  \n",
       "75%        1.519503e+09             1.00      6543.50  \n",
       "max        1.552536e+09             1.72   7211620.08  "
      ]
     },
     "execution_count": 9,
     "metadata": {},
     "output_type": "execute_result"
    }
   ],
   "source": [
    "df.describe().round(2)"
   ]
  },
  {
   "cell_type": "code",
   "execution_count": 10,
   "metadata": {},
   "outputs": [
    {
     "name": "stdout",
     "output_type": "stream",
     "text": [
      "number of observations:  186499\n",
      "number of unique IDs: 165018\n",
      "duplicates in ID colm:  21481\n"
     ]
    }
   ],
   "source": [
    "print('number of observations: ', df.shape[0])\n",
    "print(f'number of unique IDs:', df.id.nunique())\n",
    "print('duplicates in ID colm: ', df.shape[0]- df.id.nunique())"
   ]
  },
  {
   "cell_type": "code",
   "execution_count": 11,
   "metadata": {},
   "outputs": [
    {
     "name": "stdout",
     "output_type": "stream",
     "text": [
      "Unique Values per Column:\n"
     ]
    },
    {
     "data": {
      "text/plain": [
       "permissions                      1\n",
       "is_backing                       1\n",
       "friends                          1\n",
       "is_starrable                     2\n",
       "staff_pick                       2\n",
       "spotlight                        2\n",
       "is_starred                       2\n",
       "disable_communication            2\n",
       "currency_trailing_code           2\n",
       "usd_type                         2\n",
       "current_currency                 5\n",
       "state                            5\n",
       "currency_symbol                  6\n",
       "currency                        14\n",
       "country                         22\n",
       "fx_rate                         65\n",
       "category                       169\n",
       "source_url                     169\n",
       "backers_count                 3143\n",
       "goal                          4792\n",
       "static_usd_rate              10838\n",
       "location                     14416\n",
       "converted_pledged_amount     29963\n",
       "pledged                      41729\n",
       "usd_pledged                  73110\n",
       "deadline                    155227\n",
       "state_changed_at            156289\n",
       "blurb                       163695\n",
       "name                        164544\n",
       "launched_at                 164892\n",
       "created_at                  164934\n",
       "photo                       165017\n",
       "id                          165018\n",
       "slug                        165018\n",
       "profile                     165019\n",
       "urls                        165239\n",
       "creator                     185959\n",
       "dtype: int64"
      ]
     },
     "execution_count": 11,
     "metadata": {},
     "output_type": "execute_result"
    }
   ],
   "source": [
    "print('Unique Values per Column:')\n",
    "df.nunique().sort_values()"
   ]
  },
  {
   "cell_type": "code",
   "execution_count": 12,
   "metadata": {},
   "outputs": [
    {
     "name": "stdout",
     "output_type": "stream",
     "text": [
      "different states campaigns have:  ['live' 'successful' 'failed' 'canceled' 'suspended']\n"
     ]
    }
   ],
   "source": [
    "print('different states campaigns have: ', df.state.unique())"
   ]
  },
  {
   "cell_type": "markdown",
   "metadata": {},
   "source": [
    "## 4.3 Observations\n",
    "- **non-intutive colm names** e.g., `blurb`, `fx_rate`, `friend`, `permission`, `slug` --> further explaination\n",
    "- **insignificant number of entries** in `friend`, `is_starre`, `is_backing` --> possibily dropping these features\n",
    "- most features contain no missing values, no specific handling of missing values required\n",
    "- **few missing values in usd_type, location and blurb** --> possibly dropping these observation\n",
    "- various **duplicate IDs** --> might be caused by change of state \n",
    "- **state** contains additional states beyond `Successful` / `Unsuccessful` --> dropping? \n",
    "  "
   ]
  },
  {
   "cell_type": "code",
   "execution_count": 13,
   "metadata": {},
   "outputs": [
    {
     "data": {
      "text/plain": [
       "Index(['backers_count', 'blurb', 'category', 'converted_pledged_amount',\n",
       "       'country', 'created_at', 'creator', 'currency', 'currency_symbol',\n",
       "       'currency_trailing_code', 'current_currency', 'deadline',\n",
       "       'disable_communication', 'friends', 'fx_rate', 'goal', 'id',\n",
       "       'is_backing', 'is_starrable', 'is_starred', 'launched_at', 'location',\n",
       "       'name', 'permissions', 'photo', 'pledged', 'profile', 'slug',\n",
       "       'source_url', 'spotlight', 'staff_pick', 'state', 'state_changed_at',\n",
       "       'static_usd_rate', 'urls', 'usd_pledged', 'usd_type'],\n",
       "      dtype='object')"
      ]
     },
     "execution_count": 13,
     "metadata": {},
     "output_type": "execute_result"
    }
   ],
   "source": [
    "df.columns"
   ]
  },
  {
   "cell_type": "markdown",
   "metadata": {},
   "source": [
    "# 5. Data Cleaning\n"
   ]
  },
  {
   "cell_type": "markdown",
   "metadata": {},
   "source": [
    "## 5.1 Dropping Non-Usefull Columns"
   ]
  },
  {
   "cell_type": "code",
   "execution_count": 14,
   "metadata": {},
   "outputs": [
    {
     "name": "stdout",
     "output_type": "stream",
     "text": [
      "features to drop: \n",
      " ['location', 'blurb', 'slug', 'converted_pledged_amount', 'created_at', 'currency_symbol', 'currency_trailing_code', 'current_currency', 'disable_communication', 'friends', 'fx_rate', 'is_backing', 'is_starrable', 'is_starred', 'name', 'permissions', 'photo', 'pledged', 'spotlight', 'state_changed_at', 'urls', 'usd_type', 'source_url']\n"
     ]
    }
   ],
   "source": [
    "lst = []\n",
    "\n",
    "lst.append('location') #--> Detailed Location of the project. We have 'Country of origin'. MAYBE USEFULL.\n",
    "lst.append('blurb') #--> short description of the offered product/service written for promotional purposes. MAYBE USEFULL.\n",
    "lst.append('slug') #--> Creator-selected keyword id of the project. Not used here. MAYBE USEFULL.\n",
    "\n",
    "lst.append('converted_pledged_amount') #--> redundant, a better version is usd_pledged\n",
    "lst.append('created_at') #--> Date when Project was created (UNIX Format). Not used here.\n",
    "lst.append('currency_symbol') #--> Symbol of the currency. Not used here.\n",
    "lst.append('currency_trailing_code') #--> Defines whether the currency codes are always shown after the amounte locale. Not used here.\n",
    "lst.append('current_currency') #--> Unknown (!) current currency. Not important, because we only look after converted USD.\n",
    "lst.append('disable_communication') #--> True when the campaign is suspend (?) Not used here.\n",
    "lst.append('friends') #--> Many NaN and a few empty lists. Not used here.\n",
    "lst.append('fx_rate') #--> Used to create 'converted_pledged_amount' from 'pledged', but does not always convert to dollars. Can be dropped ('static_usd_rate'  always converts to dollars).\n",
    "lst.append('is_backing') #--> Many empty entries and a few false-values. Not used here.\n",
    "lst.append('is_starrable') #--> true/false-values. Unknown (!) Not used here.\n",
    "lst.append('is_starred') #--> Many empty entries and a few false-values. Not used here.\n",
    "lst.append('name') #--> Name of the project. Not used here.\n",
    "lst.append('permissions') #--> Many NaN and a few empty lists. Not used here.\n",
    "lst.append('photo') #--> Some information regarding the project-photos. contains non-callable link to image. Not used here.\n",
    "lst.append('pledged') #--> Unconverted pledged amount as float. Not used here.\n",
    "lst.append('spotlight') #--> True/false-values. A possible feature that allows every successfully funded Kickstarter project to tell its story from beginning to end.\n",
    "lst.append('state_changed_at') #--> State-changed-date of the project (UNIX Format). Not used here.\n",
    "lst.append('urls') #--> Link directly to the project on kickstarter. Not used here.\n",
    "lst.append('usd_type') #--> domestic, international or NaN. Not important, because we only look after converted USD.\n",
    "lst.append('source_url') #--> URL of the corresponding category/subcategory. Not used here.\n",
    "\n",
    "print('features to drop: \\n', lst)\n",
    "\n",
    "#DECOMMEND FOR ACTUAL DROP \n",
    "df.drop(lst, axis=1, inplace=True)"
   ]
  },
  {
   "cell_type": "markdown",
   "metadata": {},
   "source": [
    "## 5.2 Calc of 'usd_goal' ('goal' * 'static_usd_rate')"
   ]
  },
  {
   "cell_type": "markdown",
   "metadata": {},
   "source": [
    "For ease of reading and better comparability between projects, the `goal` feature is transfer into USD using the given `static_usd_rate`. The new column is named `ùsd_goal`. Note that addtional feature engneering is done in the chapter '7.Feature Engneering', but since currency consistent goal data will help with the analysis, an exception is made. "
   ]
  },
  {
   "cell_type": "code",
   "execution_count": 15,
   "metadata": {},
   "outputs": [
    {
     "name": "stdout",
     "output_type": "stream",
     "text": [
      "Example USD_goal Colm:\n"
     ]
    },
    {
     "data": {
      "text/html": [
       "<div>\n",
       "<style scoped>\n",
       "    .dataframe tbody tr th:only-of-type {\n",
       "        vertical-align: middle;\n",
       "    }\n",
       "\n",
       "    .dataframe tbody tr th {\n",
       "        vertical-align: top;\n",
       "    }\n",
       "\n",
       "    .dataframe thead th {\n",
       "        text-align: right;\n",
       "    }\n",
       "</style>\n",
       "<table border=\"1\" class=\"dataframe\">\n",
       "  <thead>\n",
       "    <tr style=\"text-align: right;\">\n",
       "      <th></th>\n",
       "      <th>country</th>\n",
       "      <th>currency</th>\n",
       "      <th>goal</th>\n",
       "      <th>static_usd_rate</th>\n",
       "      <th>usd_goal</th>\n",
       "    </tr>\n",
       "  </thead>\n",
       "  <tbody>\n",
       "    <tr>\n",
       "      <th>42</th>\n",
       "      <td>US</td>\n",
       "      <td>USD</td>\n",
       "      <td>2550.0</td>\n",
       "      <td>1.0</td>\n",
       "      <td>2550.0</td>\n",
       "    </tr>\n",
       "    <tr>\n",
       "      <th>43</th>\n",
       "      <td>US</td>\n",
       "      <td>USD</td>\n",
       "      <td>3876.0</td>\n",
       "      <td>1.0</td>\n",
       "      <td>3876.0</td>\n",
       "    </tr>\n",
       "  </tbody>\n",
       "</table>\n",
       "</div>"
      ],
      "text/plain": [
       "   country currency    goal  static_usd_rate  usd_goal\n",
       "42      US      USD  2550.0              1.0    2550.0\n",
       "43      US      USD  3876.0              1.0    3876.0"
      ]
     },
     "execution_count": 15,
     "metadata": {},
     "output_type": "execute_result"
    }
   ],
   "source": [
    "# Creation of a new Colm defined as Goal * Static USD Rate\n",
    "df['usd_goal'] = round(df['goal'] * df['static_usd_rate'], 2)\n",
    "print('Example USD_goal Colm:')\n",
    "df[['country','currency','goal','static_usd_rate','usd_goal']][42:44]"
   ]
  },
  {
   "cell_type": "code",
   "execution_count": 16,
   "metadata": {},
   "outputs": [
    {
     "name": "stdout",
     "output_type": "stream",
     "text": [
      "<class 'pandas.core.frame.DataFrame'>\n",
      "RangeIndex: 186499 entries, 0 to 186498\n",
      "Data columns (total 15 columns):\n",
      " #   Column           Non-Null Count   Dtype  \n",
      "---  ------           --------------   -----  \n",
      " 0   backers_count    186499 non-null  int64  \n",
      " 1   category         186499 non-null  object \n",
      " 2   country          186499 non-null  object \n",
      " 3   creator          186499 non-null  object \n",
      " 4   currency         186499 non-null  object \n",
      " 5   deadline         186499 non-null  int64  \n",
      " 6   goal             186499 non-null  float64\n",
      " 7   id               186499 non-null  int64  \n",
      " 8   launched_at      186499 non-null  int64  \n",
      " 9   profile          186499 non-null  object \n",
      " 10  staff_pick       186499 non-null  bool   \n",
      " 11  state            186499 non-null  object \n",
      " 12  static_usd_rate  186499 non-null  float64\n",
      " 13  usd_pledged      186499 non-null  float64\n",
      " 14  usd_goal         186499 non-null  float64\n",
      "dtypes: bool(1), float64(4), int64(4), object(6)\n",
      "memory usage: 20.1+ MB\n"
     ]
    }
   ],
   "source": [
    "df.info()"
   ]
  },
  {
   "cell_type": "markdown",
   "metadata": {},
   "source": [
    "## 5.3 Creating 'project-id' from 'profile'"
   ]
  },
  {
   "cell_type": "code",
   "execution_count": 17,
   "metadata": {},
   "outputs": [],
   "source": [
    "# Creating 'project_id' for checking duplicates"
   ]
  },
  {
   "cell_type": "code",
   "execution_count": 18,
   "metadata": {},
   "outputs": [
    {
     "data": {
      "text/plain": [
       "42     452338\n",
       "43    1211337\n",
       "Name: project_id, dtype: int64"
      ]
     },
     "execution_count": 18,
     "metadata": {},
     "output_type": "execute_result"
    }
   ],
   "source": [
    "df['project_id'] = [int(df.profile[i].split(':')[2].split(',')[0]) for i in df.index]\n",
    "df.project_id[42:44]"
   ]
  },
  {
   "cell_type": "markdown",
   "metadata": {},
   "source": [
    "## 5.4 Creating Target-Column 'success' from 'state'"
   ]
  },
  {
   "cell_type": "code",
   "execution_count": 19,
   "metadata": {},
   "outputs": [],
   "source": [
    "# Creation of a new Column `success` \n",
    "def success_recognition(row):\n",
    "    \"\"\"returns 0 for unsuccessful and 1 for successful projects\"\"\"\n",
    "    if row['state'] == 'successful':\n",
    "        return 1\n",
    "    if row['state'] == 'live' and row['usd_pledged'] >= row['usd_goal']:\n",
    "        return 1\n",
    "    else:\n",
    "        return 0\n",
    "\n",
    "df['success'] = df.apply(success_recognition, axis=1)"
   ]
  },
  {
   "cell_type": "code",
   "execution_count": 20,
   "metadata": {},
   "outputs": [
    {
     "name": "stdout",
     "output_type": "stream",
     "text": [
      "state,usd_pledged, usd_goal and resulting success:\n"
     ]
    },
    {
     "data": {
      "text/html": [
       "<div>\n",
       "<style scoped>\n",
       "    .dataframe tbody tr th:only-of-type {\n",
       "        vertical-align: middle;\n",
       "    }\n",
       "\n",
       "    .dataframe tbody tr th {\n",
       "        vertical-align: top;\n",
       "    }\n",
       "\n",
       "    .dataframe thead th {\n",
       "        text-align: right;\n",
       "    }\n",
       "</style>\n",
       "<table border=\"1\" class=\"dataframe\">\n",
       "  <thead>\n",
       "    <tr style=\"text-align: right;\">\n",
       "      <th></th>\n",
       "      <th>state</th>\n",
       "      <th>usd_pledged</th>\n",
       "      <th>usd_goal</th>\n",
       "      <th>success</th>\n",
       "    </tr>\n",
       "  </thead>\n",
       "  <tbody>\n",
       "    <tr>\n",
       "      <th>0</th>\n",
       "      <td>live</td>\n",
       "      <td>28645.000000</td>\n",
       "      <td>28000.00</td>\n",
       "      <td>1</td>\n",
       "    </tr>\n",
       "    <tr>\n",
       "      <th>3</th>\n",
       "      <td>failed</td>\n",
       "      <td>165.384934</td>\n",
       "      <td>12160.66</td>\n",
       "      <td>0</td>\n",
       "    </tr>\n",
       "    <tr>\n",
       "      <th>10</th>\n",
       "      <td>failed</td>\n",
       "      <td>0.000000</td>\n",
       "      <td>150000.00</td>\n",
       "      <td>0</td>\n",
       "    </tr>\n",
       "    <tr>\n",
       "      <th>12</th>\n",
       "      <td>live</td>\n",
       "      <td>47.000000</td>\n",
       "      <td>10000.00</td>\n",
       "      <td>0</td>\n",
       "    </tr>\n",
       "    <tr>\n",
       "      <th>24</th>\n",
       "      <td>failed</td>\n",
       "      <td>5.473783</td>\n",
       "      <td>54737.83</td>\n",
       "      <td>0</td>\n",
       "    </tr>\n",
       "    <tr>\n",
       "      <th>...</th>\n",
       "      <td>...</td>\n",
       "      <td>...</td>\n",
       "      <td>...</td>\n",
       "      <td>...</td>\n",
       "    </tr>\n",
       "    <tr>\n",
       "      <th>186484</th>\n",
       "      <td>failed</td>\n",
       "      <td>1.207595</td>\n",
       "      <td>1811.39</td>\n",
       "      <td>0</td>\n",
       "    </tr>\n",
       "    <tr>\n",
       "      <th>186485</th>\n",
       "      <td>failed</td>\n",
       "      <td>394.300000</td>\n",
       "      <td>5500.00</td>\n",
       "      <td>0</td>\n",
       "    </tr>\n",
       "    <tr>\n",
       "      <th>186488</th>\n",
       "      <td>failed</td>\n",
       "      <td>1583.000000</td>\n",
       "      <td>28000.00</td>\n",
       "      <td>0</td>\n",
       "    </tr>\n",
       "    <tr>\n",
       "      <th>186489</th>\n",
       "      <td>failed</td>\n",
       "      <td>156.000000</td>\n",
       "      <td>800.00</td>\n",
       "      <td>0</td>\n",
       "    </tr>\n",
       "    <tr>\n",
       "      <th>186490</th>\n",
       "      <td>failed</td>\n",
       "      <td>12.000000</td>\n",
       "      <td>15000.00</td>\n",
       "      <td>0</td>\n",
       "    </tr>\n",
       "  </tbody>\n",
       "</table>\n",
       "<p>73403 rows × 4 columns</p>\n",
       "</div>"
      ],
      "text/plain": [
       "         state   usd_pledged   usd_goal  success\n",
       "0         live  28645.000000   28000.00        1\n",
       "3       failed    165.384934   12160.66        0\n",
       "10      failed      0.000000  150000.00        0\n",
       "12        live     47.000000   10000.00        0\n",
       "24      failed      5.473783   54737.83        0\n",
       "...        ...           ...        ...      ...\n",
       "186484  failed      1.207595    1811.39        0\n",
       "186485  failed    394.300000    5500.00        0\n",
       "186488  failed   1583.000000   28000.00        0\n",
       "186489  failed    156.000000     800.00        0\n",
       "186490  failed     12.000000   15000.00        0\n",
       "\n",
       "[73403 rows x 4 columns]"
      ]
     },
     "execution_count": 20,
     "metadata": {},
     "output_type": "execute_result"
    }
   ],
   "source": [
    "print('state,usd_pledged, usd_goal and resulting success:')\n",
    "df[['state','usd_pledged','usd_goal','success']][(df['state'] == 'live')|(df['state'] == 'failed')]"
   ]
  },
  {
   "cell_type": "markdown",
   "metadata": {},
   "source": [
    "## 5.5 Visualization of 'state' Distribution\n",
    "Graphical representation of the distribution of the different states"
   ]
  },
  {
   "cell_type": "code",
   "execution_count": 21,
   "metadata": {},
   "outputs": [
    {
     "name": "stdout",
     "output_type": "stream",
     "text": [
      "state\n",
      "canceled        7718\n",
      "failed         66900\n",
      "live            6503\n",
      "successful    104812\n",
      "suspended        566\n",
      "Name: id, dtype: int64\n"
     ]
    },
    {
     "data": {
      "image/png": "[encoded data removed]",
      "text/plain": [
       "<Figure size 864x576 with 1 Axes>"
      ]
     },
     "metadata": {},
     "output_type": "display_data"
    }
   ],
   "source": [
    "# How many Kickstarter projects are there? What about the distribution of types?\n",
    "state_counts = df.groupby(by='state')['id'].count()\n",
    "state_counts_labels = state_counts.index.values.tolist()\n",
    "state_counts_sizes = state_counts.values.tolist()\n",
    "print(state_counts)\n",
    "\n",
    "f, ax = plt.subplots(figsize=(12, 8))\n",
    "sns.barplot(x = state_counts_sizes, y = state_counts_labels)\n",
    "#sns.despine(trim=True)\n",
    "ax.set_title(\"Number of Projects by State\")\n",
    "ax.set_xlabel(\"Number of Projects\")\n",
    "plt.savefig('figures/state_distribution_before.png', transparent=True)\n",
    "plt.show()"
   ]
  },
  {
   "cell_type": "markdown",
   "metadata": {},
   "source": [
    "**Observation:** Distinguishing between successful and unsuccessful is not all that easy. In the following step all cancled, suspended and live projects that are not yet successful are dropped to generate a binary target column. "
   ]
  },
  {
   "cell_type": "markdown",
   "metadata": {},
   "source": [
    "\n",
    "## 5.6 Dropping rows: 'state' == 'cancled' or 'suspended' or 'live' (!=1)"
   ]
  },
  {
   "cell_type": "code",
   "execution_count": 22,
   "metadata": {},
   "outputs": [
    {
     "name": "stdout",
     "output_type": "stream",
     "text": [
      "df.shape:  (186499, 17)\n",
      "df.shape:  (178781, 17)\n",
      "df.shape:  (178215, 17)\n",
      "df.shape:  (173420, 17)\n"
     ]
    }
   ],
   "source": [
    "## Dropping all rows with 'state'= 'cancled' or 'suspended' or ('live' and 'success' !=1)\n",
    "print('df.shape: ',df.shape)\n",
    "\n",
    "non_success1 = df[df['state'] == 'canceled'].index # length=8624\n",
    "df.drop(non_success1 , inplace=True)\n",
    "print('df.shape: ',df.shape)\n",
    "\n",
    "non_success2 = df[df['state'] == 'suspended'].index # length=623\n",
    "df.drop(non_success2 , inplace=True)\n",
    "print('df.shape: ',df.shape)\n",
    "\n",
    "non_success3 = df[(df['state'] == 'live')&(df['success'] == 0)].index # length=5377\n",
    "df.drop(non_success3 , inplace=True)\n",
    "print('df.shape: ',df.shape)"
   ]
  },
  {
   "cell_type": "markdown",
   "metadata": {},
   "source": [
    "## 5.7 Visualization of new 'state' Distribution\n",
    "Graphical representation of the new distribution of the different states (only Success or Failed)"
   ]
  },
  {
   "cell_type": "code",
   "execution_count": 23,
   "metadata": {},
   "outputs": [
    {
     "name": "stdout",
     "output_type": "stream",
     "text": [
      "success\n",
      "0     66900\n",
      "1    106520\n",
      "Name: id, dtype: int64\n"
     ]
    },
    {
     "data": {
      "image/png": "[encoded data removed]",
      "text/plain": [
       "<Figure size 576x576 with 1 Axes>"
      ]
     },
     "metadata": {},
     "output_type": "display_data"
    }
   ],
   "source": [
    "# Suitable here, because Live-Projects contains no success=0 at this time\n",
    "new_state_counts = df.groupby(by='success')['id'].count()\n",
    "new_state_counts_labels = new_state_counts.index.values.tolist()\n",
    "new_state_counts_sizes = new_state_counts.values.tolist()\n",
    "#new_state_counts\n",
    "print(new_state_counts)\n",
    "\n",
    "f, ax = plt.subplots(figsize=(8, 8))\n",
    "plt.pie(new_state_counts_sizes, labels=new_state_counts_labels, autopct='%.0f%%', labeldistance=.5)\n",
    "plt.title(\"Success (1) vs. Failure (0)\")\n",
    "plt.savefig('figures/state_distribution_after.png', transparent=True)\n",
    "plt.show()"
   ]
  },
  {
   "cell_type": "markdown",
   "metadata": {},
   "source": [
    "**Observation:** 60% of all projects are successful. "
   ]
  },
  {
   "cell_type": "markdown",
   "metadata": {},
   "source": [
    "## 5.8 Extracting 'category' / 'sub_category' Features from string formated colms"
   ]
  },
  {
   "cell_type": "code",
   "execution_count": 24,
   "metadata": {},
   "outputs": [
    {
     "name": "stdout",
     "output_type": "stream",
     "text": [
      "BEFORE extraction: \n",
      " 45    {\"id\":312,\"name\":\"Restaurants\",\"slug\":\"food/re...\n",
      "46    {\"id\":313,\"name\":\"Small Batch\",\"slug\":\"food/sm...\n",
      "Name: category, dtype: object\n",
      "AFTER extraction: \n",
      " 45    Food\n",
      "46    Food\n",
      "Name: main_category, dtype: object\n"
     ]
    }
   ],
   "source": [
    "#\"category\" --> main_category, keeping category intact\n",
    "print('BEFORE extraction: \\n', df.category[42:44])\n",
    "df[\"main_category\"] = [df.category[i].split('\"')[9].split('/')[0].title() for i in df.index]\n",
    "print('AFTER extraction: \\n', df.main_category[42:44])"
   ]
  },
  {
   "cell_type": "code",
   "execution_count": 25,
   "metadata": {},
   "outputs": [
    {
     "name": "stdout",
     "output_type": "stream",
     "text": [
      "BEFORE extraction: \n",
      " 45    {\"id\":312,\"name\":\"Restaurants\",\"slug\":\"food/re...\n",
      "46    {\"id\":313,\"name\":\"Small Batch\",\"slug\":\"food/sm...\n",
      "Name: category, dtype: object\n",
      "AFTER extraction: \n",
      " 45    Restaurants\n",
      "46    Small Batch\n",
      "Name: sub_category, dtype: object\n"
     ]
    }
   ],
   "source": [
    "# category --> subcategory, keeping category intact\n",
    "print('BEFORE extraction: \\n', df.category[42:44])\n",
    "df[\"sub_category\"] = [df.category[i].split('\"')[5] for i in df.index]\n",
    "df[\"sub_category\"] = df[\"sub_category\"].str.replace(\"%20\", \"_\")\n",
    "print('AFTER extraction: \\n', df.sub_category[42:44])"
   ]
  },
  {
   "cell_type": "code",
   "execution_count": 26,
   "metadata": {},
   "outputs": [],
   "source": [
    "# Creating a combined total_category\n",
    "df[\"total_category\"] = df[\"main_category\"]+'//'+df[\"sub_category\"]"
   ]
  },
  {
   "cell_type": "code",
   "execution_count": 27,
   "metadata": {},
   "outputs": [
    {
     "name": "stdout",
     "output_type": "stream",
     "text": [
      "\n",
      "Number of unique Main-Categories:    15\n",
      "Number of unique Sub-Categories:    159\n",
      "Number of unique Total-Categories:  169\n"
     ]
    }
   ],
   "source": [
    "print(f'''\n",
    "Number of unique Main-Categories:    {df.main_category.nunique()}\n",
    "Number of unique Sub-Categories:    {df.sub_category.nunique()}\n",
    "Number of unique Total-Categories:  {df.total_category.nunique()}''')"
   ]
  },
  {
   "cell_type": "code",
   "execution_count": 28,
   "metadata": {},
   "outputs": [
    {
     "data": {
      "text/html": [
       "<div>\n",
       "<style scoped>\n",
       "    .dataframe tbody tr th:only-of-type {\n",
       "        vertical-align: middle;\n",
       "    }\n",
       "\n",
       "    .dataframe tbody tr th {\n",
       "        vertical-align: top;\n",
       "    }\n",
       "\n",
       "    .dataframe thead th {\n",
       "        text-align: right;\n",
       "    }\n",
       "</style>\n",
       "<table border=\"1\" class=\"dataframe\">\n",
       "  <thead>\n",
       "    <tr style=\"text-align: right;\">\n",
       "      <th></th>\n",
       "      <th></th>\n",
       "      <th>backers_count</th>\n",
       "      <th>category</th>\n",
       "      <th>country</th>\n",
       "      <th>creator</th>\n",
       "      <th>currency</th>\n",
       "      <th>deadline</th>\n",
       "      <th>goal</th>\n",
       "      <th>id</th>\n",
       "      <th>launched_at</th>\n",
       "      <th>profile</th>\n",
       "      <th>staff_pick</th>\n",
       "      <th>state</th>\n",
       "      <th>static_usd_rate</th>\n",
       "      <th>usd_pledged</th>\n",
       "      <th>usd_goal</th>\n",
       "      <th>project_id</th>\n",
       "      <th>success</th>\n",
       "      <th>main_category</th>\n",
       "    </tr>\n",
       "    <tr>\n",
       "      <th>sub_category</th>\n",
       "      <th>total_category</th>\n",
       "      <th></th>\n",
       "      <th></th>\n",
       "      <th></th>\n",
       "      <th></th>\n",
       "      <th></th>\n",
       "      <th></th>\n",
       "      <th></th>\n",
       "      <th></th>\n",
       "      <th></th>\n",
       "      <th></th>\n",
       "      <th></th>\n",
       "      <th></th>\n",
       "      <th></th>\n",
       "      <th></th>\n",
       "      <th></th>\n",
       "      <th></th>\n",
       "      <th></th>\n",
       "      <th></th>\n",
       "    </tr>\n",
       "  </thead>\n",
       "  <tbody>\n",
       "    <tr>\n",
       "      <th>3D Printing</th>\n",
       "      <th>Technology//3D Printing</th>\n",
       "      <td>682</td>\n",
       "      <td>682</td>\n",
       "      <td>682</td>\n",
       "      <td>682</td>\n",
       "      <td>682</td>\n",
       "      <td>682</td>\n",
       "      <td>682</td>\n",
       "      <td>682</td>\n",
       "      <td>682</td>\n",
       "      <td>682</td>\n",
       "      <td>682</td>\n",
       "      <td>682</td>\n",
       "      <td>682</td>\n",
       "      <td>682</td>\n",
       "      <td>682</td>\n",
       "      <td>682</td>\n",
       "      <td>682</td>\n",
       "      <td>682</td>\n",
       "    </tr>\n",
       "    <tr>\n",
       "      <th>Academic</th>\n",
       "      <th>Publishing//Academic</th>\n",
       "      <td>888</td>\n",
       "      <td>888</td>\n",
       "      <td>888</td>\n",
       "      <td>888</td>\n",
       "      <td>888</td>\n",
       "      <td>888</td>\n",
       "      <td>888</td>\n",
       "      <td>888</td>\n",
       "      <td>888</td>\n",
       "      <td>888</td>\n",
       "      <td>888</td>\n",
       "      <td>888</td>\n",
       "      <td>888</td>\n",
       "      <td>888</td>\n",
       "      <td>888</td>\n",
       "      <td>888</td>\n",
       "      <td>888</td>\n",
       "      <td>888</td>\n",
       "    </tr>\n",
       "    <tr>\n",
       "      <th>Accessories</th>\n",
       "      <th>Fashion//Accessories</th>\n",
       "      <td>3092</td>\n",
       "      <td>3092</td>\n",
       "      <td>3092</td>\n",
       "      <td>3092</td>\n",
       "      <td>3092</td>\n",
       "      <td>3092</td>\n",
       "      <td>3092</td>\n",
       "      <td>3092</td>\n",
       "      <td>3092</td>\n",
       "      <td>3092</td>\n",
       "      <td>3092</td>\n",
       "      <td>3092</td>\n",
       "      <td>3092</td>\n",
       "      <td>3092</td>\n",
       "      <td>3092</td>\n",
       "      <td>3092</td>\n",
       "      <td>3092</td>\n",
       "      <td>3092</td>\n",
       "    </tr>\n",
       "    <tr>\n",
       "      <th>Action</th>\n",
       "      <th>Film &amp; Video//Action</th>\n",
       "      <td>700</td>\n",
       "      <td>700</td>\n",
       "      <td>700</td>\n",
       "      <td>700</td>\n",
       "      <td>700</td>\n",
       "      <td>700</td>\n",
       "      <td>700</td>\n",
       "      <td>700</td>\n",
       "      <td>700</td>\n",
       "      <td>700</td>\n",
       "      <td>700</td>\n",
       "      <td>700</td>\n",
       "      <td>700</td>\n",
       "      <td>700</td>\n",
       "      <td>700</td>\n",
       "      <td>700</td>\n",
       "      <td>700</td>\n",
       "      <td>700</td>\n",
       "    </tr>\n",
       "    <tr>\n",
       "      <th>Animals</th>\n",
       "      <th>Photography//Animals</th>\n",
       "      <td>283</td>\n",
       "      <td>283</td>\n",
       "      <td>283</td>\n",
       "      <td>283</td>\n",
       "      <td>283</td>\n",
       "      <td>283</td>\n",
       "      <td>283</td>\n",
       "      <td>283</td>\n",
       "      <td>283</td>\n",
       "      <td>283</td>\n",
       "      <td>283</td>\n",
       "      <td>283</td>\n",
       "      <td>283</td>\n",
       "      <td>283</td>\n",
       "      <td>283</td>\n",
       "      <td>283</td>\n",
       "      <td>283</td>\n",
       "      <td>283</td>\n",
       "    </tr>\n",
       "    <tr>\n",
       "      <th>...</th>\n",
       "      <th>...</th>\n",
       "      <td>...</td>\n",
       "      <td>...</td>\n",
       "      <td>...</td>\n",
       "      <td>...</td>\n",
       "      <td>...</td>\n",
       "      <td>...</td>\n",
       "      <td>...</td>\n",
       "      <td>...</td>\n",
       "      <td>...</td>\n",
       "      <td>...</td>\n",
       "      <td>...</td>\n",
       "      <td>...</td>\n",
       "      <td>...</td>\n",
       "      <td>...</td>\n",
       "      <td>...</td>\n",
       "      <td>...</td>\n",
       "      <td>...</td>\n",
       "      <td>...</td>\n",
       "    </tr>\n",
       "    <tr>\n",
       "      <th>Woodworking</th>\n",
       "      <th>Crafts//Woodworking</th>\n",
       "      <td>1403</td>\n",
       "      <td>1403</td>\n",
       "      <td>1403</td>\n",
       "      <td>1403</td>\n",
       "      <td>1403</td>\n",
       "      <td>1403</td>\n",
       "      <td>1403</td>\n",
       "      <td>1403</td>\n",
       "      <td>1403</td>\n",
       "      <td>1403</td>\n",
       "      <td>1403</td>\n",
       "      <td>1403</td>\n",
       "      <td>1403</td>\n",
       "      <td>1403</td>\n",
       "      <td>1403</td>\n",
       "      <td>1403</td>\n",
       "      <td>1403</td>\n",
       "      <td>1403</td>\n",
       "    </tr>\n",
       "    <tr>\n",
       "      <th>Workshops</th>\n",
       "      <th>Dance//Workshops</th>\n",
       "      <td>193</td>\n",
       "      <td>193</td>\n",
       "      <td>193</td>\n",
       "      <td>193</td>\n",
       "      <td>193</td>\n",
       "      <td>193</td>\n",
       "      <td>193</td>\n",
       "      <td>193</td>\n",
       "      <td>193</td>\n",
       "      <td>193</td>\n",
       "      <td>193</td>\n",
       "      <td>193</td>\n",
       "      <td>193</td>\n",
       "      <td>193</td>\n",
       "      <td>193</td>\n",
       "      <td>193</td>\n",
       "      <td>193</td>\n",
       "      <td>193</td>\n",
       "    </tr>\n",
       "    <tr>\n",
       "      <th>World Music</th>\n",
       "      <th>Music//World Music</th>\n",
       "      <td>2034</td>\n",
       "      <td>2034</td>\n",
       "      <td>2034</td>\n",
       "      <td>2034</td>\n",
       "      <td>2034</td>\n",
       "      <td>2034</td>\n",
       "      <td>2034</td>\n",
       "      <td>2034</td>\n",
       "      <td>2034</td>\n",
       "      <td>2034</td>\n",
       "      <td>2034</td>\n",
       "      <td>2034</td>\n",
       "      <td>2034</td>\n",
       "      <td>2034</td>\n",
       "      <td>2034</td>\n",
       "      <td>2034</td>\n",
       "      <td>2034</td>\n",
       "      <td>2034</td>\n",
       "    </tr>\n",
       "    <tr>\n",
       "      <th>Young Adult</th>\n",
       "      <th>Publishing//Young Adult</th>\n",
       "      <td>758</td>\n",
       "      <td>758</td>\n",
       "      <td>758</td>\n",
       "      <td>758</td>\n",
       "      <td>758</td>\n",
       "      <td>758</td>\n",
       "      <td>758</td>\n",
       "      <td>758</td>\n",
       "      <td>758</td>\n",
       "      <td>758</td>\n",
       "      <td>758</td>\n",
       "      <td>758</td>\n",
       "      <td>758</td>\n",
       "      <td>758</td>\n",
       "      <td>758</td>\n",
       "      <td>758</td>\n",
       "      <td>758</td>\n",
       "      <td>758</td>\n",
       "    </tr>\n",
       "    <tr>\n",
       "      <th>Zines</th>\n",
       "      <th>Publishing//Zines</th>\n",
       "      <td>474</td>\n",
       "      <td>474</td>\n",
       "      <td>474</td>\n",
       "      <td>474</td>\n",
       "      <td>474</td>\n",
       "      <td>474</td>\n",
       "      <td>474</td>\n",
       "      <td>474</td>\n",
       "      <td>474</td>\n",
       "      <td>474</td>\n",
       "      <td>474</td>\n",
       "      <td>474</td>\n",
       "      <td>474</td>\n",
       "      <td>474</td>\n",
       "      <td>474</td>\n",
       "      <td>474</td>\n",
       "      <td>474</td>\n",
       "      <td>474</td>\n",
       "    </tr>\n",
       "  </tbody>\n",
       "</table>\n",
       "<p>169 rows × 18 columns</p>\n",
       "</div>"
      ],
      "text/plain": [
       "                                      backers_count  category  country  \\\n",
       "sub_category total_category                                              \n",
       "3D Printing  Technology//3D Printing            682       682      682   \n",
       "Academic     Publishing//Academic               888       888      888   \n",
       "Accessories  Fashion//Accessories              3092      3092     3092   \n",
       "Action       Film & Video//Action               700       700      700   \n",
       "Animals      Photography//Animals               283       283      283   \n",
       "...                                             ...       ...      ...   \n",
       "Woodworking  Crafts//Woodworking               1403      1403     1403   \n",
       "Workshops    Dance//Workshops                   193       193      193   \n",
       "World Music  Music//World Music                2034      2034     2034   \n",
       "Young Adult  Publishing//Young Adult            758       758      758   \n",
       "Zines        Publishing//Zines                  474       474      474   \n",
       "\n",
       "                                      creator  currency  deadline  goal    id  \\\n",
       "sub_category total_category                                                     \n",
       "3D Printing  Technology//3D Printing      682       682       682   682   682   \n",
       "Academic     Publishing//Academic         888       888       888   888   888   \n",
       "Accessories  Fashion//Accessories        3092      3092      3092  3092  3092   \n",
       "Action       Film & Video//Action         700       700       700   700   700   \n",
       "Animals      Photography//Animals         283       283       283   283   283   \n",
       "...                                       ...       ...       ...   ...   ...   \n",
       "Woodworking  Crafts//Woodworking         1403      1403      1403  1403  1403   \n",
       "Workshops    Dance//Workshops             193       193       193   193   193   \n",
       "World Music  Music//World Music          2034      2034      2034  2034  2034   \n",
       "Young Adult  Publishing//Young Adult      758       758       758   758   758   \n",
       "Zines        Publishing//Zines            474       474       474   474   474   \n",
       "\n",
       "                                      launched_at  profile  staff_pick  state  \\\n",
       "sub_category total_category                                                     \n",
       "3D Printing  Technology//3D Printing          682      682         682    682   \n",
       "Academic     Publishing//Academic             888      888         888    888   \n",
       "Accessories  Fashion//Accessories            3092     3092        3092   3092   \n",
       "Action       Film & Video//Action             700      700         700    700   \n",
       "Animals      Photography//Animals             283      283         283    283   \n",
       "...                                           ...      ...         ...    ...   \n",
       "Woodworking  Crafts//Woodworking             1403     1403        1403   1403   \n",
       "Workshops    Dance//Workshops                 193      193         193    193   \n",
       "World Music  Music//World Music              2034     2034        2034   2034   \n",
       "Young Adult  Publishing//Young Adult          758      758         758    758   \n",
       "Zines        Publishing//Zines                474      474         474    474   \n",
       "\n",
       "                                      static_usd_rate  usd_pledged  usd_goal  \\\n",
       "sub_category total_category                                                    \n",
       "3D Printing  Technology//3D Printing              682          682       682   \n",
       "Academic     Publishing//Academic                 888          888       888   \n",
       "Accessories  Fashion//Accessories                3092         3092      3092   \n",
       "Action       Film & Video//Action                 700          700       700   \n",
       "Animals      Photography//Animals                 283          283       283   \n",
       "...                                               ...          ...       ...   \n",
       "Woodworking  Crafts//Woodworking                 1403         1403      1403   \n",
       "Workshops    Dance//Workshops                     193          193       193   \n",
       "World Music  Music//World Music                  2034         2034      2034   \n",
       "Young Adult  Publishing//Young Adult              758          758       758   \n",
       "Zines        Publishing//Zines                    474          474       474   \n",
       "\n",
       "                                      project_id  success  main_category  \n",
       "sub_category total_category                                               \n",
       "3D Printing  Technology//3D Printing         682      682            682  \n",
       "Academic     Publishing//Academic            888      888            888  \n",
       "Accessories  Fashion//Accessories           3092     3092           3092  \n",
       "Action       Film & Video//Action            700      700            700  \n",
       "Animals      Photography//Animals            283      283            283  \n",
       "...                                          ...      ...            ...  \n",
       "Woodworking  Crafts//Woodworking            1403     1403           1403  \n",
       "Workshops    Dance//Workshops                193      193            193  \n",
       "World Music  Music//World Music             2034     2034           2034  \n",
       "Young Adult  Publishing//Young Adult         758      758            758  \n",
       "Zines        Publishing//Zines               474      474            474  \n",
       "\n",
       "[169 rows x 18 columns]"
      ]
     },
     "execution_count": 28,
     "metadata": {},
     "output_type": "execute_result"
    }
   ],
   "source": [
    "df.groupby([\"sub_category\",'total_category']).count()\n",
    "# sub_category 'Live Games' ansehen und prüfen!"
   ]
  },
  {
   "cell_type": "markdown",
   "metadata": {},
   "source": [
    "## 5.9 Transforming Unix Date representations to DateTime"
   ]
  },
  {
   "cell_type": "code",
   "execution_count": 29,
   "metadata": {},
   "outputs": [
    {
     "name": "stdout",
     "output_type": "stream",
     "text": [
      "BEFORE transformation \n",
      " {'deadline': dtype('int64'), 'launched_at': dtype('int64')}\n",
      "AFTER transformation \n",
      " {'deadline': dtype('<M8[ns]'), 'launched_at': dtype('<M8[ns]')}\n"
     ]
    }
   ],
   "source": [
    "#colms to transform\n",
    "# colms = ['created_at', 'deadline', 'launched_at', 'state_changed_at']\n",
    "# 'created_at' und 'state_changed_at' gibt es zu diesem Zeitpunkt nicht mehr\n",
    "colms = ['deadline', 'launched_at']\n",
    "\n",
    "#documentation of data type before transformation\n",
    "colms_dtype = {colm: df[colm].dtypes for colm in colms}\n",
    "print(f'BEFORE transformation \\n {colms_dtype}')\n",
    "\n",
    "# converting: Unix --> DateTime \n",
    "for colm in colms:\n",
    "    df[colm] = pd.to_datetime(df[colm], unit='s')\n",
    "\n",
    "#documentation of data type transformation\n",
    "colms_dtype = {colm: df[colm].dtypes for colm in colms}\n",
    "print(f'AFTER transformation \\n {colms_dtype}')"
   ]
  },
  {
   "cell_type": "markdown",
   "metadata": {},
   "source": [
    "## 5.10 Duration and Launch/Deadline "
   ]
  },
  {
   "cell_type": "code",
   "execution_count": 30,
   "metadata": {},
   "outputs": [
    {
     "name": "stdout",
     "output_type": "stream",
     "text": [
      "Duration: 19 days 02:26:57\n",
      "Launch Hour: 19\n",
      "Launch Day: Saturday\n",
      "Launch Month: February\n",
      "Launch Year: 2013\n",
      "Deadline Day: 21\n",
      "Deadline Day: Thursday\n",
      "Deadline Month: February\n",
      "Deadline Year: 2013\n"
     ]
    }
   ],
   "source": [
    "# Launch Day/Month, Deadline Day/Month, Duration\n",
    "df['duration_days'] = df['deadline'] - df['launched_at']\n",
    "print('Duration:',df.duration_days[42]) \n",
    "\n",
    "df['launch_hour'] = df['launched_at'].dt.hour\n",
    "print('Launch Hour:',df.launch_hour[42]) \n",
    "\n",
    "df['launch_day'] = df['launched_at'].dt.day_name()\n",
    "print('Launch Day:',df.launch_day[42]) \n",
    "\n",
    "df['launch_month'] = df['launched_at'].dt.month_name()\n",
    "print('Launch Month:',df.launch_month[42])\n",
    "\n",
    "df['launch_year'] = df['launched_at'].dt.year\n",
    "print('Launch Year:',df.launch_year[42])\n",
    "\n",
    "df['deadline_hour'] = df['deadline'].dt.hour\n",
    "print('Deadline Day:',df.deadline_hour[42]) \n",
    "\n",
    "df['deadline_day'] = df['deadline'].dt.day_name()\n",
    "print('Deadline Day:',df.deadline_day[42]) \n",
    "\n",
    "df['deadline_month'] = df['deadline'].dt.month_name()\n",
    "print('Deadline Month:',df.deadline_month[42]) \n",
    "\n",
    "df['deadline_year'] = df['deadline'].dt.year\n",
    "print('Deadline Year:',df.deadline_year[42])"
   ]
  },
  {
   "cell_type": "markdown",
   "metadata": {},
   "source": [
    "## 5.11 Calculation of Median Backing in each Sub Category as new feature"
   ]
  },
  {
   "cell_type": "code",
   "execution_count": 31,
   "metadata": {},
   "outputs": [
    {
     "data": {
      "text/plain": [
       "0     90.936508\n",
       "1     41.489362\n",
       "2     82.671587\n",
       "3     55.128311\n",
       "4    940.000000\n",
       "Name: avg_pledge_per_backer_at_project, dtype: float64"
      ]
     },
     "execution_count": 31,
     "metadata": {},
     "output_type": "execute_result"
    }
   ],
   "source": [
    "#calculating average pledge per backer for each observation\n",
    "df['avg_pledge_per_backer_at_project'] = df.usd_pledged / df.backers_count # Hier entstehen auch NaN-Werte!\n",
    "df['avg_pledge_per_backer_at_project'].head()"
   ]
  },
  {
   "cell_type": "code",
   "execution_count": 32,
   "metadata": {},
   "outputs": [
    {
     "data": {
      "text/html": [
       "<div>\n",
       "<style scoped>\n",
       "    .dataframe tbody tr th:only-of-type {\n",
       "        vertical-align: middle;\n",
       "    }\n",
       "\n",
       "    .dataframe tbody tr th {\n",
       "        vertical-align: top;\n",
       "    }\n",
       "\n",
       "    .dataframe thead th {\n",
       "        text-align: right;\n",
       "    }\n",
       "</style>\n",
       "<table border=\"1\" class=\"dataframe\">\n",
       "  <thead>\n",
       "    <tr style=\"text-align: right;\">\n",
       "      <th></th>\n",
       "      <th>total_category</th>\n",
       "      <th>avg_pledge_per_backer_at_project</th>\n",
       "      <th>usd_pledged</th>\n",
       "      <th>backers_count</th>\n",
       "      <th>median_avg_pledge_per_backer_in_subcat</th>\n",
       "    </tr>\n",
       "  </thead>\n",
       "  <tbody>\n",
       "    <tr>\n",
       "      <th>0</th>\n",
       "      <td>Fashion//Footwear</td>\n",
       "      <td>90.936508</td>\n",
       "      <td>28645.0</td>\n",
       "      <td>315</td>\n",
       "      <td>97.615508</td>\n",
       "    </tr>\n",
       "    <tr>\n",
       "      <th>1</th>\n",
       "      <td>Games//Playing Cards</td>\n",
       "      <td>41.489362</td>\n",
       "      <td>1950.0</td>\n",
       "      <td>47</td>\n",
       "      <td>36.750000</td>\n",
       "    </tr>\n",
       "    <tr>\n",
       "      <th>2</th>\n",
       "      <td>Music//Rock</td>\n",
       "      <td>82.671587</td>\n",
       "      <td>22404.0</td>\n",
       "      <td>271</td>\n",
       "      <td>61.578947</td>\n",
       "    </tr>\n",
       "  </tbody>\n",
       "</table>\n",
       "</div>"
      ],
      "text/plain": [
       "         total_category  avg_pledge_per_backer_at_project  usd_pledged  \\\n",
       "0     Fashion//Footwear                         90.936508      28645.0   \n",
       "1  Games//Playing Cards                         41.489362       1950.0   \n",
       "2           Music//Rock                         82.671587      22404.0   \n",
       "\n",
       "   backers_count  median_avg_pledge_per_backer_in_subcat  \n",
       "0            315                               97.615508  \n",
       "1             47                               36.750000  \n",
       "2            271                               61.578947  "
      ]
     },
     "execution_count": 32,
     "metadata": {},
     "output_type": "execute_result"
    }
   ],
   "source": [
    "#median of the average pledge per backer in each sub_categobry\n",
    "df['median_avg_pledge_per_backer_in_subcat'] = df['avg_pledge_per_backer_at_project'].groupby(df['total_category']).transform('median')\n",
    "#df[['name','total_category', 'avg_pledge_per_backer_at_project', 'usd_pledged', 'backers_count', 'median_avg_pledge_per_backer_in_subcat']].head(3)\n",
    "df[['total_category', 'avg_pledge_per_backer_at_project', 'usd_pledged', 'backers_count', 'median_avg_pledge_per_backer_in_subcat']].head(3)"
   ]
  },
  {
   "cell_type": "markdown",
   "metadata": {},
   "source": [
    "## 5.12 Dropping Duplicates"
   ]
  },
  {
   "cell_type": "code",
   "execution_count": 33,
   "metadata": {},
   "outputs": [
    {
     "name": "stdout",
     "output_type": "stream",
     "text": [
      "In the 173420 projects in the dataset,\n",
      "there are 19575 ones, which are listed more than once.\n"
     ]
    }
   ],
   "source": [
    "# Checking for project duplicates\n",
    "print(f'''In the {len(df)} projects in the dataset,\n",
    "there are {len(df[df.duplicated(subset='project_id',keep='first')])} ones, which are listed more than once.''')"
   ]
  },
  {
   "cell_type": "code",
   "execution_count": 34,
   "metadata": {},
   "outputs": [
    {
     "name": "stdout",
     "output_type": "stream",
     "text": [
      "Shape before dropping duplicates: (173420, 31)\n",
      "Shape after dropping duplicates:  (153845, 31)\n"
     ]
    }
   ],
   "source": [
    "print('Shape before dropping duplicates:', df.shape)\n",
    "duplicates = df[df.duplicated(subset='project_id',keep='last')].index #length at full df=24562\n",
    "df.drop(duplicates , inplace=True)\n",
    "print('Shape after dropping duplicates: ', df.shape)"
   ]
  },
  {
   "cell_type": "markdown",
   "metadata": {},
   "source": [
    "## 5.13 Potential Analysis: ['usd_pledged'] == 0"
   ]
  },
  {
   "cell_type": "code",
   "execution_count": 35,
   "metadata": {},
   "outputs": [
    {
     "name": "stdout",
     "output_type": "stream",
     "text": [
      "(153845, 31)\n",
      "(13231, 31)\n"
     ]
    }
   ],
   "source": [
    "print(df.shape)\n",
    "print(df[df['usd_pledged'] == 0].shape)"
   ]
  },
  {
   "cell_type": "markdown",
   "metadata": {},
   "source": [
    "## 5.14 NaN Values in `avg_pledge_per_backer_at_project`"
   ]
  },
  {
   "cell_type": "code",
   "execution_count": 36,
   "metadata": {},
   "outputs": [
    {
     "name": "stdout",
     "output_type": "stream",
     "text": [
      "BEFORE NAN-Treatment,  isnull values:\n",
      "avg_pledge_per_backer_at_project    13231\n",
      "dtype: int64\n",
      "AFTER NAN-Treatment, isnull values:\n",
      "Series([], dtype: float64)\n"
     ]
    }
   ],
   "source": [
    "mask = df.columns[df.isnull().any(axis=0)]\n",
    "null_values = df[mask].isnull().sum()\n",
    "null_values = null_values.sort_values(ascending=False)\n",
    "print('BEFORE NAN-Treatment,  isnull values:')\n",
    "print(null_values)\n",
    "\n",
    "df['avg_pledge_per_backer_at_project'] = df['avg_pledge_per_backer_at_project'].fillna(0)\n",
    "\n",
    "mask = df.columns[df.isnull().any(axis=0)]\n",
    "null_values = df[mask].isnull().sum()\n",
    "null_values = null_values.sort_values(ascending=False)\n",
    "print('AFTER NAN-Treatment, isnull values:')\n",
    "print(null_values)"
   ]
  },
  {
   "cell_type": "markdown",
   "metadata": {},
   "source": [
    "## 5.15 True/False --> 1/0"
   ]
  },
  {
   "cell_type": "code",
   "execution_count": 37,
   "metadata": {},
   "outputs": [
    {
     "name": "stdout",
     "output_type": "stream",
     "text": [
      "[False, False, False, False, False, False, False, True, False, False, False, False, False, True, False]\n",
      "[0, 0, 0, 0, 0, 0, 0, 1, 0, 0, 0, 0, 0, 1, 0]\n"
     ]
    }
   ],
   "source": [
    "print(list(df.staff_pick[:15]))\n",
    "df[\"staff_pick\"] = df[\"staff_pick\"].astype(int).astype('category')\n",
    "print(list(df.staff_pick[:15]))"
   ]
  },
  {
   "cell_type": "markdown",
   "metadata": {},
   "source": [
    "## 5.16 Categorical"
   ]
  },
  {
   "cell_type": "code",
   "execution_count": 38,
   "metadata": {},
   "outputs": [],
   "source": [
    "df['staff_pick'] = df['staff_pick'].astype('category')\n",
    "df['country'] = df['country'].astype('category')\n",
    "df['currency'] = df['currency'].astype('category')\n",
    "df['duration_days'] = df['duration_days'].astype('category')\n",
    "\n",
    "df['launch_hour'] = df['launch_hour'].astype('category')\n",
    "df['launch_day'] = df['launch_day'].astype('category')\n",
    "df['launch_month'] = df['launch_month'].astype('category')\n",
    "df['launch_year'] = df['launch_year'].astype('category')\n",
    "\n",
    "df['deadline_hour'] = df['deadline_hour'].astype('category')\n",
    "df['deadline_day'] = df['deadline_day'].astype('category')\n",
    "df['deadline_month'] = df['deadline_month'].astype('category')\n",
    "df['deadline_year'] = df['deadline_year'].astype('category')"
   ]
  },
  {
   "cell_type": "markdown",
   "metadata": {},
   "source": [
    "## 5.17 Dropping remaining Non-Usefull Columns"
   ]
  },
  {
   "cell_type": "code",
   "execution_count": 39,
   "metadata": {},
   "outputs": [
    {
     "name": "stdout",
     "output_type": "stream",
     "text": [
      "features to drop: \n",
      " ['goal', 'static_usd_rate', 'state', 'category', 'creator', 'main_category', 'sub_category', 'deadline', 'id', 'launched_at', 'profile', 'project_id']\n",
      "REMAINING COLMS: \n",
      "Index(['backers_count', 'country', 'currency', 'staff_pick', 'usd_pledged',\n",
      "       'usd_goal', 'success', 'total_category', 'duration_days', 'launch_hour',\n",
      "       'launch_day', 'launch_month', 'launch_year', 'deadline_hour',\n",
      "       'deadline_day', 'deadline_month', 'deadline_year',\n",
      "       'avg_pledge_per_backer_at_project',\n",
      "       'median_avg_pledge_per_backer_in_subcat'],\n",
      "      dtype='object')\n"
     ]
    }
   ],
   "source": [
    "lst = []\n",
    "#lst.append('source_url') #--> useful information extracted\n",
    "lst.append('goal') #--> goal in country currency, replaced by usd_goal\n",
    "lst.append('static_usd_rate') #--> used for usd_goal\n",
    "lst.append('state') #--> no longer needed. success is the new target\n",
    "lst.append('category')\n",
    "lst.append('creator')\n",
    "lst.append('main_category')\n",
    "lst.append('sub_category')\n",
    "lst.append('deadline')\n",
    "lst.append('id')\n",
    "lst.append('launched_at') #--> needs to be decommented after success per year graph is fixed!\n",
    "lst.append('profile')\n",
    "lst.append('project_id')\n",
    "\n",
    "print('features to drop: \\n', lst)\n",
    "\n",
    "#DECOMMEND FOR ACTUAL DROP \n",
    "df.drop(lst, axis=1, inplace=True)\n",
    "\n",
    "print('REMAINING COLMS: ')\n",
    "print(df.columns)"
   ]
  },
  {
   "cell_type": "markdown",
   "metadata": {},
   "source": [
    "## 5.18 Creating df_clean"
   ]
  },
  {
   "cell_type": "code",
   "execution_count": 40,
   "metadata": {},
   "outputs": [
    {
     "name": "stdout",
     "output_type": "stream",
     "text": [
      "<class 'pandas.core.frame.DataFrame'>\n",
      "Int64Index: 153845 entries, 0 to 186498\n",
      "Data columns (total 19 columns):\n",
      " #   Column                                  Non-Null Count   Dtype   \n",
      "---  ------                                  --------------   -----   \n",
      " 0   backers_count                           153845 non-null  int64   \n",
      " 1   country                                 153845 non-null  category\n",
      " 2   currency                                153845 non-null  category\n",
      " 3   staff_pick                              153845 non-null  category\n",
      " 4   usd_pledged                             153845 non-null  float64 \n",
      " 5   usd_goal                                153845 non-null  float64 \n",
      " 6   success                                 153845 non-null  int64   \n",
      " 7   total_category                          153845 non-null  object  \n",
      " 8   duration_days                           153845 non-null  category\n",
      " 9   launch_hour                             153845 non-null  category\n",
      " 10  launch_day                              153845 non-null  category\n",
      " 11  launch_month                            153845 non-null  category\n",
      " 12  launch_year                             153845 non-null  category\n",
      " 13  deadline_hour                           153845 non-null  category\n",
      " 14  deadline_day                            153845 non-null  category\n",
      " 15  deadline_month                          153845 non-null  category\n",
      " 16  deadline_year                           153845 non-null  category\n",
      " 17  avg_pledge_per_backer_at_project        153845 non-null  float64 \n",
      " 18  median_avg_pledge_per_backer_in_subcat  153845 non-null  float64 \n",
      "dtypes: category(12), float64(4), int64(2), object(1)\n",
      "memory usage: 13.2+ MB\n"
     ]
    }
   ],
   "source": [
    "df_clean = df.copy()\n",
    "df_clean.info()"
   ]
  },
  {
   "cell_type": "markdown",
   "metadata": {},
   "source": [
    "# 6. Data Exploration\n",
    "Form hypotheses about your defined problem by visually analyzing the data"
   ]
  },
  {
   "cell_type": "markdown",
   "metadata": {},
   "source": [
    "## 6.1 Graph: Success per year"
   ]
  },
  {
   "cell_type": "code",
   "execution_count": 41,
   "metadata": {},
   "outputs": [
    {
     "data": {
      "image/png": "[encoded data removed]",
      "text/plain": [
       "<Figure size 1296x648 with 2 Axes>"
      ]
     },
     "metadata": {},
     "output_type": "display_data"
    }
   ],
   "source": [
    "###### DATA SELECTION by defining a new table #######\n",
    "success_by_year = df.set_index('launch_year').success\n",
    "success_by_year = pd.get_dummies(success_by_year)#.resample('YS').sum()\n",
    "success_by_year = success_by_year.groupby('launch_year').sum()\n",
    "success_by_year\n",
    "\n",
    "### SUBPLOT SETTINGS ###\n",
    "fig, ax = plt.subplots(1,2, figsize=(18, 9))\n",
    "\n",
    "### RIGHT Subplot ###\n",
    "success_by_year.plot.bar(ax=ax[0], color=['olive', 'coral'])\n",
    "ax[0].set_title('Number of failed and successful projects')\n",
    "ax[0].set_xlabel('')\n",
    "ax[0].tick_params(labelsize=16)\n",
    "ax[0].set_xticklabels(list(range(2009,2020)), rotation=45)\n",
    "\n",
    "### LEFT Subplot ###\n",
    "success_by_year.div(success_by_year.sum(axis=1), axis=0)[1].plot(kind='bar', ax=ax[1], color='goldenrod') # Normalizes counts across rows\n",
    "ax[1].set_title('Proportion of successful projects')\n",
    "ax[1].set_xlabel('')\n",
    "ax[1].tick_params(labelsize=16)\n",
    "ax[1].set_xticklabels(list(range(2009,2020)), rotation=45)\n",
    "\n",
    "### CLEANING WORKSPACE ###\n",
    "del success_by_year\n",
    "\n",
    "\n",
    "### OUTPUT ###\n",
    "plt.savefig('figures/success_per_year.png', transparent=True)\n",
    "plt.show()"
   ]
  },
  {
   "cell_type": "markdown",
   "metadata": {},
   "source": [
    "**Observation:**\n",
    "- for all years but 2015 and 2016, the number of successfull projects exceeds the number of unsuccessfull projects\n",
    "- there is no clear trend about the relation of successfull and unsuccessfull project\n",
    "- The total number of successfull projects in 2018 is greater then the number of unsuccessfull projects in the other years (except 2015)\n",
    "- the proportion of successful pprojects was highest in 2019 with nearly 90% and lowest in 2015 with aout 45% successfull projects "
   ]
  },
  {
   "cell_type": "markdown",
   "metadata": {},
   "source": [
    "## 6.2 Graph: Count Total_Category"
   ]
  },
  {
   "cell_type": "code",
   "execution_count": 42,
   "metadata": {},
   "outputs": [
    {
     "data": {
      "text/plain": [
       "<Figure size 432x288 with 0 Axes>"
      ]
     },
     "metadata": {},
     "output_type": "display_data"
    },
    {
     "data": {
      "image/png": "[encoded data removed]",
      "text/plain": [
       "<Figure size 864x288 with 1 Axes>"
      ]
     },
     "metadata": {},
     "output_type": "display_data"
    }
   ],
   "source": [
    "count_total_cat = df['total_category'].value_counts()\n",
    "\n",
    "plt.figure()\n",
    "f, ax = plt.subplots(figsize=(12, 4))\n",
    "sns.barplot(count_total_cat.index, count_total_cat.values, color='b')\n",
    "plt.title('Occurrences per Total_Category')\n",
    "plt.ylabel('Number of Occurrences', fontsize=16)\n",
    "ax.get_xaxis().set_ticks([])\n",
    "plt.xlabel('')\n",
    "\n",
    "### CLEANING WORKSPACE ###\n",
    "del count_total_cat\n",
    "\n",
    "###### OUTPUT #######\n",
    "plt.savefig('figures/count_total_category.png', transparent=True)\n",
    "plt.show();"
   ]
  },
  {
   "cell_type": "markdown",
   "metadata": {},
   "source": [
    "This graph shows the number of projects in each sub-category. Note that `total_category` represents the main-category + the sub-category. \n",
    "\n",
    "**Observations:** \n",
    "- The first 25% most common sub-categories are equally well represented in the dataset\n",
    "- It is notable that there is a synthetic looking cut-off for the most common categories, we expected a sorted gausian distribution. "
   ]
  },
  {
   "cell_type": "markdown",
   "metadata": {},
   "source": [
    "## 6.3 Success by 'total_category' for most frequent sub categories\n",
    "What is the successrate for the most frequent total_categories?"
   ]
  },
  {
   "cell_type": "code",
   "execution_count": 43,
   "metadata": {},
   "outputs": [
    {
     "data": {
      "image/png": "[encoded data removed]",
      "text/plain": [
       "<Figure size 864x576 with 1 Axes>"
      ]
     },
     "metadata": {},
     "output_type": "display_data"
    }
   ],
   "source": [
    "###### DATA SELECTION by defining a new table #######\n",
    "success_by_subcategory = pd.pivot_table(df, index='total_category', columns='success', values='usd_pledged', aggfunc='count', fill_value = 0)\n",
    "success_by_subcategory['total'] = success_by_subcategory[0] + success_by_subcategory[1] \n",
    "success_by_subcategory.columns = ['failed', 'successful', 'total']\n",
    "success_by_subcategory['success_rate'] = success_by_subcategory['successful'] / success_by_subcategory['total']\n",
    "\n",
    "#tweaking the data --> tweaking the plot. \n",
    "#sort_values(by=...) --> 'total' or successrate, or successrate AND Ascending=True\n",
    "success_by_subcategory = success_by_subcategory.sort_values(by=['total'], ascending=False).reset_index()\n",
    "\n",
    "#number of total_categories to illustrate\n",
    "topcategories = success_by_subcategory.head(30)\n",
    "#sorting topcategories by their success_rate\n",
    "topcategories = topcategories.sort_values(by=['success_rate'], ascending=False).reset_index()\n",
    "\n",
    "\n",
    "###### PLOT SETTINGS #######\n",
    "f, ax = plt.subplots(figsize=(12, 8))\n",
    "\n",
    "sns.barplot(x='total', y='total_category', data=topcategories, label='Total', color=\"sandybrown\")\n",
    "sns.barplot(x='successful', y='total_category', data=topcategories, label='Successful', color='sienna')\n",
    "\n",
    "plt.tick_params(labelsize=16)\n",
    "plt.title(\"Success by Subcategory\")\n",
    "plt.xlabel(\"Number of Projects\")\n",
    "plt.ylabel(\"Subcategory\")\n",
    "plt.legend()\n",
    "\n",
    "### CLEANING WORKSPACE ###\n",
    "#del success_by_subcategory, topcategories\n",
    "\n",
    "\n",
    "###### OUTPUT #######\n",
    "plt.savefig('figures/success_per_total_cat.png', transparent=True, bbox_inches='tight')\n",
    "plt.show()"
   ]
  },
  {
   "cell_type": "markdown",
   "metadata": {},
   "source": [
    "This graph shows the 30 most successfull sub-categories, sorted by their success rate. \n",
    "\n",
    "**Observation:**\n",
    "- Film & Video Documentary as well as 12 other sub-categories have a (close to) 100% success rate (maybe due to synthetic cut off?)\n",
    "- Film, publishing, comics, and music are well represented within the most successfull sub-categories"
   ]
  },
  {
   "cell_type": "markdown",
   "metadata": {},
   "source": [
    "## 6.4 Backing in `total_category`"
   ]
  },
  {
   "cell_type": "code",
   "execution_count": 44,
   "metadata": {},
   "outputs": [
    {
     "data": {
      "image/png": "[encoded data removed]",
      "text/plain": [
       "<Figure size 144x864 with 1 Axes>"
      ]
     },
     "metadata": {},
     "output_type": "display_data"
    }
   ],
   "source": [
    "medians = df[['median_avg_pledge_per_backer_in_subcat', 'total_category']].groupby('total_category').mean().round(2)\n",
    "medians = medians.sort_values(by='median_avg_pledge_per_backer_in_subcat', ascending=False)\n",
    "medians_selection = medians#.head()\n",
    "medians_selection\n",
    "\n",
    "\n",
    "f, ax = plt.subplots(figsize=(2, 12))\n",
    "sns.barplot(x=medians_selection.median_avg_pledge_per_backer_in_subcat, y=medians_selection.index, color='goldenrod')\n",
    "ax.set_title(\"\")\n",
    "sns.despine()\n",
    "plt.ylabel('')\n",
    "plt.xlabel('')\n",
    "plt.yticks([])\n",
    "plt.tick_params(labelsize=12)\n",
    "plt.savefig('figures/overview_medians.png', transparent=True, bbox_inches='tight')\n",
    "plt.show()"
   ]
  },
  {
   "cell_type": "markdown",
   "metadata": {},
   "source": [
    "This graph shows the distribution of backing over the sub-categories. We wanted to investigate wether the distribution is balanced (e.g., most sub-categories have simmilar avg backings per backer) or not (e.g., much higher backing in some sub-catgories then in others). \n",
    "**Observation:** The backing in each sub-category are mostly equal distributed with 4 outlyer categories. The three highest backed sub-categories are Camera Equipment, Sound and Technology (all in the main category 'Technology'). "
   ]
  },
  {
   "cell_type": "code",
   "execution_count": 45,
   "metadata": {},
   "outputs": [
    {
     "data": {
      "image/png": "[encoded data removed]",
      "text/plain": [
       "<Figure size 288x432 with 1 Axes>"
      ]
     },
     "metadata": {},
     "output_type": "display_data"
    }
   ],
   "source": [
    "medians = df[['median_avg_pledge_per_backer_in_subcat', 'total_category']].groupby('total_category').mean().round(2)\n",
    "medians = medians.sort_values(by='median_avg_pledge_per_backer_in_subcat', ascending=False)\n",
    "medians_selection = pd.concat([medians.tail(6),medians.head(6)]).sort_values(by='median_avg_pledge_per_backer_in_subcat', ascending=False)\n",
    "medians_selection\n",
    "\n",
    "\n",
    "f, ax = plt.subplots(figsize=(4, 6))\n",
    "sns.barplot(x=medians_selection.median_avg_pledge_per_backer_in_subcat, y=medians_selection.index, color='goldenrod')\n",
    "ax.set_title(\"\")\n",
    "sns.despine()\n",
    "plt.ylabel('')\n",
    "plt.xlabel('')\n",
    "plt.tick_params(labelsize=12)\n",
    "plt.savefig('figures/median_avg_pledge_per_backer_in_subcat.png', transparent=True, bbox_inches='tight')\n",
    "plt.show()"
   ]
  },
  {
   "cell_type": "markdown",
   "metadata": {},
   "source": [
    "This graph shows the 6 highest and lowest avg backing per backer\n",
    "**Observation:** The 6 greatest backed sub-categories are within the main-category technology. The least avg backing is observable within the crafts area. Reasons for this is propbably that the projects in craft require less money to be successful (needs to be investigated). "
   ]
  },
  {
   "cell_type": "markdown",
   "metadata": {},
   "source": [
    "## 6.5 Success Rates for Number of Backers\n",
    "How many backers are needed to good chance of Success?"
   ]
  },
  {
   "cell_type": "code",
   "execution_count": 46,
   "metadata": {},
   "outputs": [
    {
     "data": {
      "image/png": "[encoded data removed]",
      "text/plain": [
       "<Figure size 864x576 with 1 Axes>"
      ]
     },
     "metadata": {},
     "output_type": "display_data"
    }
   ],
   "source": [
    "# Creating a dataframe with index = number-of-backers and columss fail-count, success-count and success-rate\n",
    "num_of_backers = df.groupby(['backers_count','success']).count()\n",
    "num_of_backers = num_of_backers['usd_pledged'].unstack()\n",
    "num_of_backers = num_of_backers.fillna(0)\n",
    "num_of_backers['success_rate'] = num_of_backers[1] / (num_of_backers[0] + num_of_backers[1])\n",
    "num_of_backers_plot = num_of_backers[0:751] # restricting to ffirst 750 entries of 3228\n",
    "f, ax = plt.subplots(figsize=(12, 8))\n",
    "sns.scatterplot(data = num_of_backers_plot['success_rate'], color='darkred', s=70)\n",
    "ax.set_title('Success Rate for Number of Backers')\n",
    "ax.set_xlabel('Number of Backers')\n",
    "ax.set_ylabel('Success Rate')\n",
    "ax.tick_params(labelsize=16)\n",
    "vals = ax.get_yticks()\n",
    "ax.set_yticklabels(['{:,.2%}'.format(x) for x in vals])\n",
    "plt.savefig('figures/success_rates_for_number_of_backers.png', transparent=True)\n",
    "plt.show()"
   ]
  },
  {
   "cell_type": "markdown",
   "metadata": {},
   "source": [
    "**Observation:** At more than 200 backers, the successrate is much higher then for < 200"
   ]
  },
  {
   "cell_type": "markdown",
   "metadata": {},
   "source": [
    "## 6.6 Success based on Staff Pick"
   ]
  },
  {
   "cell_type": "code",
   "execution_count": 47,
   "metadata": {},
   "outputs": [
    {
     "data": {
      "image/png": "[encoded data removed]",
      "text/plain": [
       "<Figure size 576x864 with 1 Axes>"
      ]
     },
     "metadata": {},
     "output_type": "display_data"
    }
   ],
   "source": [
    "###### DATA SELECTION by defining a new table #######\n",
    "success_staffpick = df.groupby(by=['staff_pick', 'success']).count()\n",
    "success_staffpick = success_staffpick['usd_pledged'].unstack('success').fillna(0)\n",
    "success_staffpick.columns = ['failed', 'successful']\n",
    "success_staffpick['staff_pick'] = ['non-Staff Picks', 'Staff Picks']\n",
    "success_staffpick['total'] = success_staffpick['successful'] + success_staffpick['failed'] \n",
    "#success_staffpick['success_rate'] = success_staffpick['successful'] / (success_staffpick['successful'] + success_staffpick['failed'])\n",
    "\n",
    "###### PLOT SETTINGS #######\n",
    "f, ax = plt.subplots(figsize=(8, 12))\n",
    "\n",
    "sns.barplot(x='staff_pick', y='total', data=success_staffpick, label='Total', color=\"sandybrown\")\n",
    "sns.barplot(x='staff_pick', y='successful', data=success_staffpick, label='Successful', color='sienna')\n",
    "\n",
    "plt.tick_params(labelsize=16)\n",
    "plt.title(\"Success Rate based on Staff Pick\")\n",
    "plt.xlabel(\"\")\n",
    "plt.ylabel(\"Number of projects\")\n",
    "plt.legend()\n",
    "\n",
    "### CLEANING WORKSPACE ###\n",
    "del success_staffpick\n",
    "\n",
    "###### OUTPUT #######\n",
    "plt.savefig('figures/success_per_staffpick.png', bbox_inches='tight', transparent=True)\n",
    "plt.show()"
   ]
  },
  {
   "cell_type": "markdown",
   "metadata": {},
   "source": [
    "**Observation:** about 2200 projects are \"Staff Pick\", of which only about 200 are non-successful. For non-staff picks, the successrate is about 50%. Staff pick hence has a great influence on the successrate. "
   ]
  },
  {
   "cell_type": "markdown",
   "metadata": {},
   "source": [
    "## 6.7 Correlation Matrix"
   ]
  },
  {
   "cell_type": "code",
   "execution_count": 48,
   "metadata": {},
   "outputs": [
    {
     "data": {
      "image/png": "[encoded data removed]",
      "text/plain": [
       "<Figure size 792x648 with 2 Axes>"
      ]
     },
     "metadata": {},
     "output_type": "display_data"
    }
   ],
   "source": [
    "# Plot correlation heatmap for remaining continuous variables\n",
    "# Generate a mask for the upper triangle\n",
    "mask = np.triu(np.ones_like(df_clean.corr(), dtype=np.bool))\n",
    "\n",
    "#Set up the matplotlib figure\n",
    "f, ax = plt.subplots(figsize=(11, 9))\n",
    "\n",
    "#Generate a custom diverging colormap\n",
    "cmap = sns.diverging_palette(220, 10, as_cmap=True)\n",
    "\n",
    "#Draw the heatmap with the mask and correct aspect ratio\n",
    "sns.heatmap(df_clean.corr(), mask=mask, cmap=cmap, vmax=.3, center=0,\n",
    "            square=True, linewidths=.5, cbar_kws={\"shrink\": .5}, annot=True, fmt=\".1g\");"
   ]
  },
  {
   "cell_type": "markdown",
   "metadata": {},
   "source": [
    "**Observation:** No clear correlation is observable. Greatest correlation to Success can be found in the median avg pledge in the subcategory. Note that usd_pledeged and avg_pledge_per_backer_at_project are to be droped as they give away data not known before the start of the campaign. "
   ]
  },
  {
   "cell_type": "markdown",
   "metadata": {},
   "source": [
    "## 6.8 Remaining Columns"
   ]
  },
  {
   "cell_type": "code",
   "execution_count": 49,
   "metadata": {},
   "outputs": [
    {
     "name": "stdout",
     "output_type": "stream",
     "text": [
      "REMAINING COLMS: \n",
      "Index(['backers_count', 'country', 'currency', 'staff_pick', 'usd_pledged',\n",
      "       'usd_goal', 'success', 'total_category', 'duration_days', 'launch_hour',\n",
      "       'launch_day', 'launch_month', 'launch_year', 'deadline_hour',\n",
      "       'deadline_day', 'deadline_month', 'deadline_year',\n",
      "       'avg_pledge_per_backer_at_project',\n",
      "       'median_avg_pledge_per_backer_in_subcat'],\n",
      "      dtype='object')\n"
     ]
    }
   ],
   "source": [
    "print('REMAINING COLMS: ')\n",
    "print(df.columns)"
   ]
  },
  {
   "cell_type": "markdown",
   "metadata": {},
   "source": [
    "# 7. Feature Engineering\n",
    "\n",
    "Annotation: Our addintinal features are:\n",
    "- 'total_category' created in 5.8\n",
    "- 'avg_pledge_per_backer_at_project' created in 5.11\n",
    "- 'median_avg_pledge_per_backer_in_subcat' created in 6.4"
   ]
  },
  {
   "cell_type": "markdown",
   "metadata": {},
   "source": [
    "# 8. Predictive Modeling (Preparations) \n",
    "Train machine learning models (supervised learning), evaluate their performance and use them to make predictions"
   ]
  },
  {
   "cell_type": "code",
   "execution_count": 50,
   "metadata": {},
   "outputs": [
    {
     "name": "stdout",
     "output_type": "stream",
     "text": [
      "<class 'pandas.core.frame.DataFrame'>\n",
      "Int64Index: 153845 entries, 0 to 186498\n",
      "Data columns (total 19 columns):\n",
      " #   Column                                  Non-Null Count   Dtype   \n",
      "---  ------                                  --------------   -----   \n",
      " 0   backers_count                           153845 non-null  int64   \n",
      " 1   country                                 153845 non-null  category\n",
      " 2   currency                                153845 non-null  category\n",
      " 3   staff_pick                              153845 non-null  category\n",
      " 4   usd_pledged                             153845 non-null  float64 \n",
      " 5   usd_goal                                153845 non-null  float64 \n",
      " 6   success                                 153845 non-null  int64   \n",
      " 7   total_category                          153845 non-null  object  \n",
      " 8   duration_days                           153845 non-null  category\n",
      " 9   launch_hour                             153845 non-null  category\n",
      " 10  launch_day                              153845 non-null  category\n",
      " 11  launch_month                            153845 non-null  category\n",
      " 12  launch_year                             153845 non-null  category\n",
      " 13  deadline_hour                           153845 non-null  category\n",
      " 14  deadline_day                            153845 non-null  category\n",
      " 15  deadline_month                          153845 non-null  category\n",
      " 16  deadline_year                           153845 non-null  category\n",
      " 17  avg_pledge_per_backer_at_project        153845 non-null  float64 \n",
      " 18  median_avg_pledge_per_backer_in_subcat  153845 non-null  float64 \n",
      "dtypes: category(12), float64(4), int64(2), object(1)\n",
      "memory usage: 13.2+ MB\n"
     ]
    }
   ],
   "source": [
    "df_clean.info()"
   ]
  },
  {
   "cell_type": "markdown",
   "metadata": {},
   "source": [
    "## 8.1 Downsampling"
   ]
  },
  {
   "cell_type": "markdown",
   "metadata": {},
   "source": [
    "An unequal distribution of successful and non-successful targets is observed. In the follwoing, downsampling is done to equal the distributions of the target feature.capitalize "
   ]
  },
  {
   "cell_type": "code",
   "execution_count": 51,
   "metadata": {},
   "outputs": [
    {
     "data": {
      "text/plain": [
       "(153845, 19)"
      ]
     },
     "execution_count": 51,
     "metadata": {},
     "output_type": "execute_result"
    }
   ],
   "source": [
    "df_clean.shape"
   ]
  },
  {
   "cell_type": "code",
   "execution_count": 52,
   "metadata": {},
   "outputs": [
    {
     "name": "stdout",
     "output_type": "stream",
     "text": [
      "1    87726\n",
      "0    66119\n",
      "Name: success, dtype: int64\n",
      "n_samples_minority: 66119\n"
     ]
    }
   ],
   "source": [
    "print(df_clean['success'].value_counts())\n",
    "n_samples_minority = df_clean['success'].value_counts()[0]\n",
    "print('n_samples_minority:', n_samples_minority)"
   ]
  },
  {
   "cell_type": "code",
   "execution_count": 53,
   "metadata": {},
   "outputs": [],
   "source": [
    "# Separate majority and minority classes\n",
    "df_clean_majority = df_clean[df_clean.success==1]\n",
    "df_clean_minority = df_clean[df_clean.success==0]\n",
    "\n",
    "# Downsample majority class\n",
    "df_clean_majority_downsampled = resample(df_clean_majority, \n",
    "                                         replace=False,      # sample without replacement\n",
    "                                         n_samples=n_samples_minority,    # to match minority class\n",
    "                                         random_state=RSEED) # reproducible results"
   ]
  },
  {
   "cell_type": "code",
   "execution_count": 54,
   "metadata": {},
   "outputs": [
    {
     "data": {
      "text/plain": [
       "1    87726\n",
       "Name: success, dtype: int64"
      ]
     },
     "execution_count": 54,
     "metadata": {},
     "output_type": "execute_result"
    }
   ],
   "source": [
    "df_clean_majority['success'].value_counts()"
   ]
  },
  {
   "cell_type": "code",
   "execution_count": 55,
   "metadata": {},
   "outputs": [
    {
     "data": {
      "text/plain": [
       "1    66119\n",
       "Name: success, dtype: int64"
      ]
     },
     "execution_count": 55,
     "metadata": {},
     "output_type": "execute_result"
    }
   ],
   "source": [
    "df_clean_majority_downsampled['success'].value_counts()"
   ]
  },
  {
   "cell_type": "code",
   "execution_count": 56,
   "metadata": {},
   "outputs": [
    {
     "data": {
      "text/plain": [
       "1    66119\n",
       "0    66119\n",
       "Name: success, dtype: int64"
      ]
     },
     "execution_count": 56,
     "metadata": {},
     "output_type": "execute_result"
    }
   ],
   "source": [
    "# Combine minority class with downsampled majority class\n",
    "df_model = pd.concat([df_clean_majority_downsampled, df_clean_minority])\n",
    " \n",
    "# Display new class counts\n",
    "df_model['success'].value_counts()"
   ]
  },
  {
   "cell_type": "markdown",
   "metadata": {},
   "source": [
    "## 8.2 Deleting DataLeakage Candidates"
   ]
  },
  {
   "cell_type": "code",
   "execution_count": 57,
   "metadata": {},
   "outputs": [
    {
     "data": {
      "text/plain": [
       "(132238, 19)"
      ]
     },
     "execution_count": 57,
     "metadata": {},
     "output_type": "execute_result"
    }
   ],
   "source": [
    "df_model.shape"
   ]
  },
  {
   "cell_type": "code",
   "execution_count": 58,
   "metadata": {},
   "outputs": [
    {
     "data": {
      "text/plain": [
       "(132238, 16)"
      ]
     },
     "execution_count": 58,
     "metadata": {},
     "output_type": "execute_result"
    }
   ],
   "source": [
    "df_model.drop('backers_count', axis=1, inplace=True) #--> a) most likely not known by client and b) high risk of data leakage\n",
    "df_model.drop('usd_pledged', axis=1, inplace=True) #--> high risk of data leakage since usd_pledget < usd_goal = failed \n",
    "df_model.drop('avg_pledge_per_backer_at_project', axis=1, inplace=True) # Data Leakage in avg_pledge_per_backer, logic: this value can not be known beforehand \n",
    "df_model.shape"
   ]
  },
  {
   "cell_type": "markdown",
   "metadata": {},
   "source": [
    "## 8.3 Preperations and polishing of df_model"
   ]
  },
  {
   "cell_type": "code",
   "execution_count": 59,
   "metadata": {},
   "outputs": [],
   "source": [
    "#turning timestamp-delta into int for `duration_days`\n",
    "df_model['duration_days'] = df_model['duration_days'].dt.days"
   ]
  },
  {
   "cell_type": "code",
   "execution_count": 60,
   "metadata": {},
   "outputs": [],
   "source": [
    "#total_cat: type = obj --> type = category \n",
    "df_model['total_category'] = df_model['total_category'].astype('category')"
   ]
  },
  {
   "cell_type": "code",
   "execution_count": 61,
   "metadata": {},
   "outputs": [],
   "source": [
    "#transforming ints that are classified as category to ints \n",
    "lst = ['staff_pick', 'duration_days', 'launch_hour', 'launch_year', 'deadline_hour', 'deadline_year']\n",
    "for feature in lst: \n",
    "    df_model[feature] = df_model[feature].astype('int')"
   ]
  },
  {
   "cell_type": "code",
   "execution_count": 62,
   "metadata": {},
   "outputs": [
    {
     "data": {
      "text/html": [
       "<div>\n",
       "<style scoped>\n",
       "    .dataframe tbody tr th:only-of-type {\n",
       "        vertical-align: middle;\n",
       "    }\n",
       "\n",
       "    .dataframe tbody tr th {\n",
       "        vertical-align: top;\n",
       "    }\n",
       "\n",
       "    .dataframe thead th {\n",
       "        text-align: right;\n",
       "    }\n",
       "</style>\n",
       "<table border=\"1\" class=\"dataframe\">\n",
       "  <thead>\n",
       "    <tr style=\"text-align: right;\">\n",
       "      <th></th>\n",
       "      <th>137407</th>\n",
       "      <th>110127</th>\n",
       "      <th>75542</th>\n",
       "      <th>90415</th>\n",
       "      <th>48562</th>\n",
       "    </tr>\n",
       "  </thead>\n",
       "  <tbody>\n",
       "    <tr>\n",
       "      <th>country</th>\n",
       "      <td>US</td>\n",
       "      <td>CA</td>\n",
       "      <td>FR</td>\n",
       "      <td>US</td>\n",
       "      <td>US</td>\n",
       "    </tr>\n",
       "    <tr>\n",
       "      <th>currency</th>\n",
       "      <td>USD</td>\n",
       "      <td>CAD</td>\n",
       "      <td>EUR</td>\n",
       "      <td>USD</td>\n",
       "      <td>USD</td>\n",
       "    </tr>\n",
       "    <tr>\n",
       "      <th>staff_pick</th>\n",
       "      <td>0</td>\n",
       "      <td>0</td>\n",
       "      <td>0</td>\n",
       "      <td>0</td>\n",
       "      <td>0</td>\n",
       "    </tr>\n",
       "    <tr>\n",
       "      <th>usd_goal</th>\n",
       "      <td>30000</td>\n",
       "      <td>4373.09</td>\n",
       "      <td>2178.67</td>\n",
       "      <td>20000</td>\n",
       "      <td>6000</td>\n",
       "    </tr>\n",
       "    <tr>\n",
       "      <th>success</th>\n",
       "      <td>1</td>\n",
       "      <td>1</td>\n",
       "      <td>1</td>\n",
       "      <td>1</td>\n",
       "      <td>1</td>\n",
       "    </tr>\n",
       "    <tr>\n",
       "      <th>total_category</th>\n",
       "      <td>Fashion//Apparel</td>\n",
       "      <td>Film &amp; Video//Documentary</td>\n",
       "      <td>Crafts//Crafts</td>\n",
       "      <td>Publishing//Periodicals</td>\n",
       "      <td>Games//Video Games</td>\n",
       "    </tr>\n",
       "    <tr>\n",
       "      <th>duration_days</th>\n",
       "      <td>44</td>\n",
       "      <td>55</td>\n",
       "      <td>30</td>\n",
       "      <td>30</td>\n",
       "      <td>29</td>\n",
       "    </tr>\n",
       "    <tr>\n",
       "      <th>launch_hour</th>\n",
       "      <td>14</td>\n",
       "      <td>15</td>\n",
       "      <td>16</td>\n",
       "      <td>18</td>\n",
       "      <td>1</td>\n",
       "    </tr>\n",
       "    <tr>\n",
       "      <th>launch_day</th>\n",
       "      <td>Tuesday</td>\n",
       "      <td>Tuesday</td>\n",
       "      <td>Tuesday</td>\n",
       "      <td>Wednesday</td>\n",
       "      <td>Tuesday</td>\n",
       "    </tr>\n",
       "    <tr>\n",
       "      <th>launch_month</th>\n",
       "      <td>February</td>\n",
       "      <td>December</td>\n",
       "      <td>May</td>\n",
       "      <td>March</td>\n",
       "      <td>February</td>\n",
       "    </tr>\n",
       "    <tr>\n",
       "      <th>launch_year</th>\n",
       "      <td>2018</td>\n",
       "      <td>2014</td>\n",
       "      <td>2017</td>\n",
       "      <td>2012</td>\n",
       "      <td>2015</td>\n",
       "    </tr>\n",
       "    <tr>\n",
       "      <th>deadline_hour</th>\n",
       "      <td>13</td>\n",
       "      <td>17</td>\n",
       "      <td>16</td>\n",
       "      <td>18</td>\n",
       "      <td>0</td>\n",
       "    </tr>\n",
       "    <tr>\n",
       "      <th>deadline_day</th>\n",
       "      <td>Friday</td>\n",
       "      <td>Monday</td>\n",
       "      <td>Thursday</td>\n",
       "      <td>Friday</td>\n",
       "      <td>Thursday</td>\n",
       "    </tr>\n",
       "    <tr>\n",
       "      <th>deadline_month</th>\n",
       "      <td>April</td>\n",
       "      <td>January</td>\n",
       "      <td>June</td>\n",
       "      <td>April</td>\n",
       "      <td>March</td>\n",
       "    </tr>\n",
       "    <tr>\n",
       "      <th>deadline_year</th>\n",
       "      <td>2018</td>\n",
       "      <td>2015</td>\n",
       "      <td>2017</td>\n",
       "      <td>2012</td>\n",
       "      <td>2015</td>\n",
       "    </tr>\n",
       "    <tr>\n",
       "      <th>median_avg_pledge_per_backer_in_subcat</th>\n",
       "      <td>76.9144</td>\n",
       "      <td>96.6368</td>\n",
       "      <td>44.8803</td>\n",
       "      <td>45</td>\n",
       "      <td>34.526</td>\n",
       "    </tr>\n",
       "  </tbody>\n",
       "</table>\n",
       "</div>"
      ],
      "text/plain": [
       "                                                  137407  \\\n",
       "country                                               US   \n",
       "currency                                             USD   \n",
       "staff_pick                                             0   \n",
       "usd_goal                                           30000   \n",
       "success                                                1   \n",
       "total_category                          Fashion//Apparel   \n",
       "duration_days                                         44   \n",
       "launch_hour                                           14   \n",
       "launch_day                                       Tuesday   \n",
       "launch_month                                    February   \n",
       "launch_year                                         2018   \n",
       "deadline_hour                                         13   \n",
       "deadline_day                                      Friday   \n",
       "deadline_month                                     April   \n",
       "deadline_year                                       2018   \n",
       "median_avg_pledge_per_backer_in_subcat           76.9144   \n",
       "\n",
       "                                                           110127  \\\n",
       "country                                                        CA   \n",
       "currency                                                      CAD   \n",
       "staff_pick                                                      0   \n",
       "usd_goal                                                  4373.09   \n",
       "success                                                         1   \n",
       "total_category                          Film & Video//Documentary   \n",
       "duration_days                                                  55   \n",
       "launch_hour                                                    15   \n",
       "launch_day                                                Tuesday   \n",
       "launch_month                                             December   \n",
       "launch_year                                                  2014   \n",
       "deadline_hour                                                  17   \n",
       "deadline_day                                               Monday   \n",
       "deadline_month                                            January   \n",
       "deadline_year                                                2015   \n",
       "median_avg_pledge_per_backer_in_subcat                    96.6368   \n",
       "\n",
       "                                                75542   \\\n",
       "country                                             FR   \n",
       "currency                                           EUR   \n",
       "staff_pick                                           0   \n",
       "usd_goal                                       2178.67   \n",
       "success                                              1   \n",
       "total_category                          Crafts//Crafts   \n",
       "duration_days                                       30   \n",
       "launch_hour                                         16   \n",
       "launch_day                                     Tuesday   \n",
       "launch_month                                       May   \n",
       "launch_year                                       2017   \n",
       "deadline_hour                                       16   \n",
       "deadline_day                                  Thursday   \n",
       "deadline_month                                    June   \n",
       "deadline_year                                     2017   \n",
       "median_avg_pledge_per_backer_in_subcat         44.8803   \n",
       "\n",
       "                                                         90415   \\\n",
       "country                                                      US   \n",
       "currency                                                    USD   \n",
       "staff_pick                                                    0   \n",
       "usd_goal                                                  20000   \n",
       "success                                                       1   \n",
       "total_category                          Publishing//Periodicals   \n",
       "duration_days                                                30   \n",
       "launch_hour                                                  18   \n",
       "launch_day                                            Wednesday   \n",
       "launch_month                                              March   \n",
       "launch_year                                                2012   \n",
       "deadline_hour                                                18   \n",
       "deadline_day                                             Friday   \n",
       "deadline_month                                            April   \n",
       "deadline_year                                              2012   \n",
       "median_avg_pledge_per_backer_in_subcat                       45   \n",
       "\n",
       "                                                    48562   \n",
       "country                                                 US  \n",
       "currency                                               USD  \n",
       "staff_pick                                               0  \n",
       "usd_goal                                              6000  \n",
       "success                                                  1  \n",
       "total_category                          Games//Video Games  \n",
       "duration_days                                           29  \n",
       "launch_hour                                              1  \n",
       "launch_day                                         Tuesday  \n",
       "launch_month                                      February  \n",
       "launch_year                                           2015  \n",
       "deadline_hour                                            0  \n",
       "deadline_day                                      Thursday  \n",
       "deadline_month                                       March  \n",
       "deadline_year                                         2015  \n",
       "median_avg_pledge_per_backer_in_subcat              34.526  "
      ]
     },
     "execution_count": 62,
     "metadata": {},
     "output_type": "execute_result"
    }
   ],
   "source": [
    "df_model.head().T"
   ]
  },
  {
   "cell_type": "markdown",
   "metadata": {},
   "source": [
    "## 8.4 Saving downsampled 'df_model' to Pickle"
   ]
  },
  {
   "cell_type": "code",
   "execution_count": 63,
   "metadata": {},
   "outputs": [],
   "source": [
    "savepath = 'df_model.pkl'\n",
    "df_model.to_pickle(savepath)"
   ]
  }
 ],
 "metadata": {
  "kernelspec": {
   "display_name": "Python 3",
   "language": "python",
   "name": "python3"
  },
  "language_info": {
   "codemirror_mode": {
    "name": "ipython",
    "version": 3
   },
   "file_extension": ".py",
   "mimetype": "text/x-python",
   "name": "python",
   "nbconvert_exporter": "python",
   "pygments_lexer": "ipython3",
   "version": "3.8.1"
  },
  "toc": {
   "base_numbering": 1,
   "nav_menu": {},
   "number_sections": true,
   "sideBar": false,
   "skip_h1_title": false,
   "title_cell": "Table of Contents",
   "title_sidebar": "Contents",
   "toc_cell": false,
   "toc_position": {},
   "toc_section_display": true,
   "toc_window_display": false
  }
 },
 "nbformat": 4,
 "nbformat_minor": 1
}
