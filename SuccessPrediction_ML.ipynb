{
 "cells": [
  {
   "cell_type": "markdown",
   "metadata": {},
   "source": [
    "# 8. Predictive Modeling"
   ]
  },
  {
   "cell_type": "markdown",
   "metadata": {},
   "source": [
    "## 8.0 Imports"
   ]
  },
  {
   "cell_type": "code",
   "execution_count": 49,
   "metadata": {},
   "outputs": [],
   "source": [
    "#standard imports\n",
    "import numpy as np\n",
    "import pandas as pd\n",
    "import seaborn as sns\n",
    "import matplotlib.pyplot as plt\n",
    "\n",
    "# special imports\n",
    "import warnings\n",
    "\n",
    "\n",
    "#specific libaries\n",
    "import glob \n",
    "    # read all csv files in the directory\n",
    "    # documentation: https://docs.python.org/3/library/glob.html#glob.glob\n",
    "import time\n",
    "    # converting int/unix representation of Dates to DateTime Format\n",
    "\n",
    "#ML - PreProcessing\n",
    "from sklearn.utils import resample\n",
    "from sklearn.model_selection import train_test_split\n",
    "\n",
    "#ML - Models and Grids \n",
    "from sklearn.ensemble import RandomForestClassifier\n",
    "from sklearn.model_selection import GridSearchCV\n",
    "from sklearn.model_selection import RandomizedSearchCV\n",
    "\n",
    "from sklearn.linear_model import LogisticRegression\n",
    "from xgboost import XGBClassifier\n",
    "from sklearn.svm import SVC\n",
    "\n",
    "\n",
    "#Output and Validation\n",
    "from sklearn.metrics import confusion_matrix\n",
    "from sklearn.metrics import classification_report\n",
    "from sklearn.metrics import f1_score\n",
    "from sklearn.metrics import accuracy_score\n",
    "from sklearn.metrics import precision_score\n",
    "from sklearn.metrics import recall_score\n",
    "from sklearn.metrics import roc_auc_score\n",
    "from sklearn.metrics import r2_score\n",
    "from sklearn.metrics import mean_absolute_error\n",
    "from sklearn.metrics import mean_squared_error"
   ]
  },
  {
   "cell_type": "code",
   "execution_count": 50,
   "metadata": {},
   "outputs": [],
   "source": [
    "%matplotlib inline\n",
    "#reset -f #cleaning the namespace / self assigned variables\n",
    "\n",
    "warnings.filterwarnings('ignore') #for suppression of depricated messages\n",
    "RSEED = 42       #for replicability purposes\n",
    "sns.set(style=\"white\")  #default plot styling \n",
    "\n",
    "#Modeling\n",
    "scoring = \"f1\""
   ]
  },
  {
   "cell_type": "markdown",
   "metadata": {},
   "source": [
    "## 8.5 Importing  'df_model' from Pickle"
   ]
  },
  {
   "cell_type": "code",
   "execution_count": 51,
   "metadata": {},
   "outputs": [],
   "source": [
    "savepath = 'df_model.pkl'\n",
    "df_model = pd.read_pickle(savepath)"
   ]
  },
  {
   "cell_type": "code",
   "execution_count": 52,
   "metadata": {},
   "outputs": [
    {
     "data": {
      "text/plain": [
       "(132238, 16)"
      ]
     },
     "execution_count": 52,
     "metadata": {},
     "output_type": "execute_result"
    }
   ],
   "source": [
    "df_model.shape"
   ]
  },
  {
   "cell_type": "code",
   "execution_count": 53,
   "metadata": {},
   "outputs": [
    {
     "data": {
      "text/html": [
       "<div>\n",
       "<style scoped>\n",
       "    .dataframe tbody tr th:only-of-type {\n",
       "        vertical-align: middle;\n",
       "    }\n",
       "\n",
       "    .dataframe tbody tr th {\n",
       "        vertical-align: top;\n",
       "    }\n",
       "\n",
       "    .dataframe thead th {\n",
       "        text-align: right;\n",
       "    }\n",
       "</style>\n",
       "<table border=\"1\" class=\"dataframe\">\n",
       "  <thead>\n",
       "    <tr style=\"text-align: right;\">\n",
       "      <th></th>\n",
       "      <th>137407</th>\n",
       "      <th>110127</th>\n",
       "      <th>75542</th>\n",
       "      <th>90415</th>\n",
       "      <th>48562</th>\n",
       "    </tr>\n",
       "  </thead>\n",
       "  <tbody>\n",
       "    <tr>\n",
       "      <th>country</th>\n",
       "      <td>US</td>\n",
       "      <td>CA</td>\n",
       "      <td>FR</td>\n",
       "      <td>US</td>\n",
       "      <td>US</td>\n",
       "    </tr>\n",
       "    <tr>\n",
       "      <th>currency</th>\n",
       "      <td>USD</td>\n",
       "      <td>CAD</td>\n",
       "      <td>EUR</td>\n",
       "      <td>USD</td>\n",
       "      <td>USD</td>\n",
       "    </tr>\n",
       "    <tr>\n",
       "      <th>staff_pick</th>\n",
       "      <td>0</td>\n",
       "      <td>0</td>\n",
       "      <td>0</td>\n",
       "      <td>0</td>\n",
       "      <td>0</td>\n",
       "    </tr>\n",
       "    <tr>\n",
       "      <th>usd_goal</th>\n",
       "      <td>30000</td>\n",
       "      <td>4373.09</td>\n",
       "      <td>2178.67</td>\n",
       "      <td>20000</td>\n",
       "      <td>6000</td>\n",
       "    </tr>\n",
       "    <tr>\n",
       "      <th>success</th>\n",
       "      <td>1</td>\n",
       "      <td>1</td>\n",
       "      <td>1</td>\n",
       "      <td>1</td>\n",
       "      <td>1</td>\n",
       "    </tr>\n",
       "    <tr>\n",
       "      <th>total_category</th>\n",
       "      <td>Fashion//Apparel</td>\n",
       "      <td>Film &amp; Video//Documentary</td>\n",
       "      <td>Crafts//Crafts</td>\n",
       "      <td>Publishing//Periodicals</td>\n",
       "      <td>Games//Video Games</td>\n",
       "    </tr>\n",
       "    <tr>\n",
       "      <th>duration_days</th>\n",
       "      <td>44</td>\n",
       "      <td>55</td>\n",
       "      <td>30</td>\n",
       "      <td>30</td>\n",
       "      <td>29</td>\n",
       "    </tr>\n",
       "    <tr>\n",
       "      <th>launch_hour</th>\n",
       "      <td>14</td>\n",
       "      <td>15</td>\n",
       "      <td>16</td>\n",
       "      <td>18</td>\n",
       "      <td>1</td>\n",
       "    </tr>\n",
       "    <tr>\n",
       "      <th>launch_day</th>\n",
       "      <td>Tuesday</td>\n",
       "      <td>Tuesday</td>\n",
       "      <td>Tuesday</td>\n",
       "      <td>Wednesday</td>\n",
       "      <td>Tuesday</td>\n",
       "    </tr>\n",
       "    <tr>\n",
       "      <th>launch_month</th>\n",
       "      <td>February</td>\n",
       "      <td>December</td>\n",
       "      <td>May</td>\n",
       "      <td>March</td>\n",
       "      <td>February</td>\n",
       "    </tr>\n",
       "    <tr>\n",
       "      <th>launch_year</th>\n",
       "      <td>2018</td>\n",
       "      <td>2014</td>\n",
       "      <td>2017</td>\n",
       "      <td>2012</td>\n",
       "      <td>2015</td>\n",
       "    </tr>\n",
       "    <tr>\n",
       "      <th>deadline_hour</th>\n",
       "      <td>13</td>\n",
       "      <td>17</td>\n",
       "      <td>16</td>\n",
       "      <td>18</td>\n",
       "      <td>0</td>\n",
       "    </tr>\n",
       "    <tr>\n",
       "      <th>deadline_day</th>\n",
       "      <td>Friday</td>\n",
       "      <td>Monday</td>\n",
       "      <td>Thursday</td>\n",
       "      <td>Friday</td>\n",
       "      <td>Thursday</td>\n",
       "    </tr>\n",
       "    <tr>\n",
       "      <th>deadline_month</th>\n",
       "      <td>April</td>\n",
       "      <td>January</td>\n",
       "      <td>June</td>\n",
       "      <td>April</td>\n",
       "      <td>March</td>\n",
       "    </tr>\n",
       "    <tr>\n",
       "      <th>deadline_year</th>\n",
       "      <td>2018</td>\n",
       "      <td>2015</td>\n",
       "      <td>2017</td>\n",
       "      <td>2012</td>\n",
       "      <td>2015</td>\n",
       "    </tr>\n",
       "    <tr>\n",
       "      <th>median_avg_pledge_per_backer_in_subcat</th>\n",
       "      <td>76.9144</td>\n",
       "      <td>96.6368</td>\n",
       "      <td>44.8803</td>\n",
       "      <td>45</td>\n",
       "      <td>34.526</td>\n",
       "    </tr>\n",
       "  </tbody>\n",
       "</table>\n",
       "</div>"
      ],
      "text/plain": [
       "                                                  137407  \\\n",
       "country                                               US   \n",
       "currency                                             USD   \n",
       "staff_pick                                             0   \n",
       "usd_goal                                           30000   \n",
       "success                                                1   \n",
       "total_category                          Fashion//Apparel   \n",
       "duration_days                                         44   \n",
       "launch_hour                                           14   \n",
       "launch_day                                       Tuesday   \n",
       "launch_month                                    February   \n",
       "launch_year                                         2018   \n",
       "deadline_hour                                         13   \n",
       "deadline_day                                      Friday   \n",
       "deadline_month                                     April   \n",
       "deadline_year                                       2018   \n",
       "median_avg_pledge_per_backer_in_subcat           76.9144   \n",
       "\n",
       "                                                           110127  \\\n",
       "country                                                        CA   \n",
       "currency                                                      CAD   \n",
       "staff_pick                                                      0   \n",
       "usd_goal                                                  4373.09   \n",
       "success                                                         1   \n",
       "total_category                          Film & Video//Documentary   \n",
       "duration_days                                                  55   \n",
       "launch_hour                                                    15   \n",
       "launch_day                                                Tuesday   \n",
       "launch_month                                             December   \n",
       "launch_year                                                  2014   \n",
       "deadline_hour                                                  17   \n",
       "deadline_day                                               Monday   \n",
       "deadline_month                                            January   \n",
       "deadline_year                                                2015   \n",
       "median_avg_pledge_per_backer_in_subcat                    96.6368   \n",
       "\n",
       "                                                75542   \\\n",
       "country                                             FR   \n",
       "currency                                           EUR   \n",
       "staff_pick                                           0   \n",
       "usd_goal                                       2178.67   \n",
       "success                                              1   \n",
       "total_category                          Crafts//Crafts   \n",
       "duration_days                                       30   \n",
       "launch_hour                                         16   \n",
       "launch_day                                     Tuesday   \n",
       "launch_month                                       May   \n",
       "launch_year                                       2017   \n",
       "deadline_hour                                       16   \n",
       "deadline_day                                  Thursday   \n",
       "deadline_month                                    June   \n",
       "deadline_year                                     2017   \n",
       "median_avg_pledge_per_backer_in_subcat         44.8803   \n",
       "\n",
       "                                                         90415   \\\n",
       "country                                                      US   \n",
       "currency                                                    USD   \n",
       "staff_pick                                                    0   \n",
       "usd_goal                                                  20000   \n",
       "success                                                       1   \n",
       "total_category                          Publishing//Periodicals   \n",
       "duration_days                                                30   \n",
       "launch_hour                                                  18   \n",
       "launch_day                                            Wednesday   \n",
       "launch_month                                              March   \n",
       "launch_year                                                2012   \n",
       "deadline_hour                                                18   \n",
       "deadline_day                                             Friday   \n",
       "deadline_month                                            April   \n",
       "deadline_year                                              2012   \n",
       "median_avg_pledge_per_backer_in_subcat                       45   \n",
       "\n",
       "                                                    48562   \n",
       "country                                                 US  \n",
       "currency                                               USD  \n",
       "staff_pick                                               0  \n",
       "usd_goal                                              6000  \n",
       "success                                                  1  \n",
       "total_category                          Games//Video Games  \n",
       "duration_days                                           29  \n",
       "launch_hour                                              1  \n",
       "launch_day                                         Tuesday  \n",
       "launch_month                                      February  \n",
       "launch_year                                           2015  \n",
       "deadline_hour                                            0  \n",
       "deadline_day                                      Thursday  \n",
       "deadline_month                                       March  \n",
       "deadline_year                                         2015  \n",
       "median_avg_pledge_per_backer_in_subcat              34.526  "
      ]
     },
     "execution_count": 53,
     "metadata": {},
     "output_type": "execute_result"
    }
   ],
   "source": [
    "df_model.head().T"
   ]
  },
  {
   "cell_type": "markdown",
   "metadata": {},
   "source": [
    "## 8.6 One Hot Encoding"
   ]
  },
  {
   "cell_type": "code",
   "execution_count": 54,
   "metadata": {},
   "outputs": [],
   "source": [
    "lst = ['currency',\n",
    "        'country',\n",
    "        'total_category',\n",
    "        'launch_day',\n",
    "        'launch_month',\n",
    "        'deadline_day', \n",
    "        'deadline_month']\n",
    "df_model = pd.get_dummies(df_model,prefix_sep='&', columns=lst, drop_first=True)"
   ]
  },
  {
   "cell_type": "code",
   "execution_count": 55,
   "metadata": {},
   "outputs": [
    {
     "data": {
      "text/plain": [
       "['currency&CHF',\n",
       " 'currency&DKK',\n",
       " 'currency&EUR',\n",
       " 'currency&GBP',\n",
       " 'currency&HKD',\n",
       " 'currency&JPY',\n",
       " 'currency&MXN',\n",
       " 'currency&NOK',\n",
       " 'currency&NZD',\n",
       " 'currency&SEK',\n",
       " 'currency&SGD']"
      ]
     },
     "execution_count": 55,
     "metadata": {},
     "output_type": "execute_result"
    }
   ],
   "source": [
    "list(df_model.columns)[10:21]"
   ]
  },
  {
   "cell_type": "markdown",
   "metadata": {},
   "source": [
    "## 8.7 Creating 'df_reduced' from 'df_model'"
   ]
  },
  {
   "cell_type": "markdown",
   "metadata": {},
   "source": [
    "The process of understanding, implementing and optimizing various models can be tedious. The time needed for training models is greatly influenced by the number of observations. In this chapter a `df_reduced` is shaped and introduced. The reduced dataframe can be used to get the models up&running. The actual evaluation shall then later be done using the df_model. "
   ]
  },
  {
   "cell_type": "code",
   "execution_count": 56,
   "metadata": {},
   "outputs": [],
   "source": [
    "df_unreduced = df_model.copy()"
   ]
  },
  {
   "cell_type": "code",
   "execution_count": 57,
   "metadata": {},
   "outputs": [
    {
     "data": {
      "text/plain": [
       "(132238, 245)"
      ]
     },
     "execution_count": 57,
     "metadata": {},
     "output_type": "execute_result"
    }
   ],
   "source": [
    "df_unreduced.shape"
   ]
  },
  {
   "cell_type": "code",
   "execution_count": 58,
   "metadata": {},
   "outputs": [
    {
     "data": {
      "text/plain": [
       "1    66119\n",
       "0    66119\n",
       "Name: success, dtype: int64"
      ]
     },
     "execution_count": 58,
     "metadata": {},
     "output_type": "execute_result"
    }
   ],
   "source": [
    "df_unreduced['success'].value_counts()"
   ]
  },
  {
   "cell_type": "code",
   "execution_count": 59,
   "metadata": {},
   "outputs": [
    {
     "data": {
      "text/plain": [
       "1    3000\n",
       "0    3000\n",
       "Name: success, dtype: int64"
      ]
     },
     "execution_count": 59,
     "metadata": {},
     "output_type": "execute_result"
    }
   ],
   "source": [
    "df_unreduced_1 = df_unreduced[df_unreduced.success==1]\n",
    "df_unreduced_0 = df_unreduced[df_unreduced.success==0]\n",
    "\n",
    "df_reduced_1 = resample(df_unreduced_1,\n",
    "                        replace=False,      # sample without replacement\n",
    "                        n_samples=3000,      # to match minority class\n",
    "                        random_state=RSEED) # reproducible results\n",
    "\n",
    "df_reduced_0 = resample(df_unreduced_0,\n",
    "                        replace=False,      # sample without replacement\n",
    "                        n_samples=3000,      # to match minority class\n",
    "                        random_state=RSEED) # reproducible results\n",
    "\n",
    "df_reduced = pd.concat([df_reduced_1, df_reduced_0])\n",
    "\n",
    "df_reduced['success'].value_counts()"
   ]
  },
  {
   "cell_type": "markdown",
   "metadata": {},
   "source": [
    "## 8.8 Support Functions"
   ]
  },
  {
   "cell_type": "code",
   "execution_count": 60,
   "metadata": {},
   "outputs": [],
   "source": [
    "# Print Scores\n",
    "def print_scores(y_test, y_pred):\n",
    "    '''\n",
    "    Function to print the f1, accuracy, precision, recall and ROC-AUC score. \n",
    "    '''\n",
    "    print(classification_report(y_test,y_pred),'\\n')\n",
    "    print('f1_score:        ',round(f1_score(y_test,y_pred),3))\n",
    "    print('accuracy_score:  ',round(accuracy_score(y_test,y_pred),3))\n",
    "    print('precision_score: ',round(precision_score(y_test,y_pred),3))\n",
    "    print('recall_score:    ',round(recall_score(y_test,y_pred),3))\n",
    "    print('roc_auc_score:   ',round(roc_auc_score(y_test,y_pred),3))\n",
    "    print('\\n')\n",
    "\n",
    "\n",
    "# Confusion Matrix\n",
    "def confu_matrix(y_test, y_pred):\n",
    "    '''\n",
    "    Printed SNS Heatmap Conusion Matrix\n",
    "    '''\n",
    "    conf_mat = pd.crosstab(y_test, y_pred, rownames=['Actual'], colnames=['Predicted'])\n",
    "    sns.heatmap(conf_mat, annot=True, cmap='Blues',fmt=\".0f\");\n",
    "      \n",
    "# Output\n",
    "def show_all_results(y_test,y_pred):\n",
    "    '''\n",
    "    Wrapper Function to print scores, errors and the confusion matrix\n",
    "    '''\n",
    "    print_scores(y_test, y_pred)\n",
    "    confu_matrix(y_test, y_pred)"
   ]
  },
  {
   "cell_type": "markdown",
   "metadata": {},
   "source": [
    "## 8.9 Train Test Split"
   ]
  },
  {
   "cell_type": "code",
   "execution_count": 61,
   "metadata": {},
   "outputs": [],
   "source": [
    "#label to be predicted \n",
    "success = np.array(df_model.pop('success'))\n",
    "success_r = np.array(df_reduced.pop('success'))"
   ]
  },
  {
   "cell_type": "markdown",
   "metadata": {},
   "source": [
    "As described above, `df_reduced` is a reduced dataframe for testing and development purposes. In the process of developing models `X_train_r, X_test_r, y_train_r, y_test_r` are reduced train-test sets. "
   ]
  },
  {
   "cell_type": "code",
   "execution_count": 62,
   "metadata": {},
   "outputs": [],
   "source": [
    "X_train, X_test, y_train, y_test = train_test_split(df_model, success, \n",
    "                                                    test_size=0.25,\n",
    "                                                    random_state=RSEED,\n",
    "                                                    stratify=success)\n",
    "\n",
    "X_train_r, X_test_r, y_train_r, y_test_r = train_test_split(df_reduced, success_r, \n",
    "                                                    test_size=0.25,\n",
    "                                                    random_state=RSEED,\n",
    "                                                    stratify=success_r)"
   ]
  },
  {
   "cell_type": "code",
   "execution_count": 63,
   "metadata": {},
   "outputs": [
    {
     "name": "stdout",
     "output_type": "stream",
     "text": [
      "(99178, 244) (99178,)\n",
      "(33060, 244) (33060,)\n",
      "(4500, 244) (4500,)\n",
      "(1500, 244) (1500,)\n"
     ]
    }
   ],
   "source": [
    "print(X_train.shape, y_train.shape)\n",
    "print(X_test.shape, y_test.shape)\n",
    "\n",
    "print(X_train_r.shape, y_train_r.shape)\n",
    "print(X_test_r.shape, y_test_r.shape)"
   ]
  },
  {
   "cell_type": "markdown",
   "metadata": {},
   "source": [
    "4 Models are implemented and evaluated: \n",
    "- Logistic Regression (base model)\n",
    "- XGBoost\n",
    "- SVM\n",
    "- RandomForrest"
   ]
  },
  {
   "cell_type": "markdown",
   "metadata": {},
   "source": [
    "## 8.10 Logistic Regression (base model)"
   ]
  },
  {
   "cell_type": "code",
   "execution_count": 64,
   "metadata": {},
   "outputs": [
    {
     "name": "stdout",
     "output_type": "stream",
     "text": [
      "              precision    recall  f1-score   support\n",
      "\n",
      "           0       0.66      0.62      0.64     16530\n",
      "           1       0.64      0.68      0.66     16530\n",
      "\n",
      "    accuracy                           0.65     33060\n",
      "   macro avg       0.65      0.65      0.65     33060\n",
      "weighted avg       0.65      0.65      0.65     33060\n",
      " \n",
      "\n",
      "f1_score:         0.657\n",
      "accuracy_score:   0.647\n",
      "precision_score:  0.64\n",
      "recall_score:     0.675\n",
      "roc_auc_score:    0.647\n",
      "\n",
      "\n"
     ]
    },
    {
     "data": {
      "image/png": "[encoded data removed]",
      "text/plain": [
       "<Figure size 432x288 with 2 Axes>"
      ]
     },
     "metadata": {},
     "output_type": "display_data"
    }
   ],
   "source": [
    "# Create the model\n",
    "lr = LogisticRegression()\n",
    "\n",
    "# Fit on training data\n",
    "lr.fit(X_train, y_train)\n",
    "\n",
    "# Make the predictions for X_test\n",
    "y_pred_lr = lr.predict(X_test)\n",
    "\n",
    "#### --- OUTPUT ----  ####\n",
    "show_all_results(y_test,y_pred_lr)"
   ]
  },
  {
   "cell_type": "markdown",
   "metadata": {},
   "source": [
    "## 8.11 XGBoost"
   ]
  },
  {
   "cell_type": "code",
   "execution_count": 65,
   "metadata": {},
   "outputs": [
    {
     "name": "stdout",
     "output_type": "stream",
     "text": [
      "              precision    recall  f1-score   support\n",
      "\n",
      "           0       0.79      0.89      0.83     16530\n",
      "           1       0.87      0.76      0.81     16530\n",
      "\n",
      "    accuracy                           0.82     33060\n",
      "   macro avg       0.83      0.82      0.82     33060\n",
      "weighted avg       0.83      0.82      0.82     33060\n",
      " \n",
      "\n",
      "f1_score:         0.81\n",
      "accuracy_score:   0.823\n",
      "precision_score:  0.87\n",
      "recall_score:     0.758\n",
      "roc_auc_score:    0.823\n",
      "\n",
      "\n"
     ]
    },
    {
     "data": {
      "image/png": "[encoded data removed]",
      "text/plain": [
       "<Figure size 432x288 with 2 Axes>"
      ]
     },
     "metadata": {},
     "output_type": "display_data"
    }
   ],
   "source": [
    "# Create the model\n",
    "xgb = XGBClassifier()\n",
    "\n",
    "# Fit on training data\n",
    "xgb.fit(X_train, y_train)\n",
    "\n",
    "# Make the predictions for X_test\n",
    "y_pred_xgb = xgb.predict(X_test)\n",
    "\n",
    "#### --- OUTPUT ----  ####\n",
    "show_all_results(y_test,y_pred_xgb)"
   ]
  },
  {
   "cell_type": "markdown",
   "metadata": {},
   "source": [
    "## 8.12 SVM"
   ]
  },
  {
   "cell_type": "markdown",
   "metadata": {},
   "source": [
    "SVM is computational demanding, especially with such many observations as given in the current task. Hence, SVM is here only described using the reduced train-test-set. Note however, that the SVM is performing very poor and hence further investigation is not done. "
   ]
  },
  {
   "cell_type": "code",
   "execution_count": 66,
   "metadata": {},
   "outputs": [
    {
     "name": "stdout",
     "output_type": "stream",
     "text": [
      "              precision    recall  f1-score   support\n",
      "\n",
      "           0       0.76      0.26      0.39       750\n",
      "           1       0.55      0.91      0.69       750\n",
      "\n",
      "    accuracy                           0.59      1500\n",
      "   macro avg       0.65      0.59      0.54      1500\n",
      "weighted avg       0.65      0.59      0.54      1500\n",
      " \n",
      "\n",
      "f1_score:         0.69\n",
      "accuracy_score:   0.589\n",
      "precision_score:  0.554\n",
      "recall_score:     0.915\n",
      "roc_auc_score:    0.589\n",
      "\n",
      "\n"
     ]
    },
    {
     "data": {
      "image/png": "[encoded data removed]",
      "text/plain": [
       "<Figure size 432x288 with 2 Axes>"
      ]
     },
     "metadata": {},
     "output_type": "display_data"
    }
   ],
   "source": [
    "# Create the model\n",
    "svc = SVC(kernel='rbf') #, C=2000)\n",
    "\n",
    "# Fit on training data\n",
    "svc.fit(X_train_r, y_train_r)\n",
    "\n",
    "# Make the predictions for X_test\n",
    "y_pred_svc_r = svc.predict(X_test_r)\n",
    "\n",
    "#### --- OUTPUT ----  ####\n",
    "show_all_results(y_test_r,y_pred_svc_r)"
   ]
  },
  {
   "cell_type": "markdown",
   "metadata": {},
   "source": [
    "## 8.13 Random Forest"
   ]
  },
  {
   "cell_type": "code",
   "execution_count": null,
   "metadata": {},
   "outputs": [],
   "source": [
    "rfc = RandomForestClassifier(n_estimators = 150,\n",
    "                            max_depth=100, \n",
    "                            max_features = 'sqrt',\n",
    "                            min_samples_leaf=3,\n",
    "                            min_samples_split=10, \n",
    "                            n_jobs=-1,\n",
    "                            random_state=RSEED, \n",
    "                            oob_score = True\n",
    "                           ) \n",
    "\n",
    "\n",
    "# Fit on training data\n",
    "rfc.fit(X_train, y_train)\n",
    "\n",
    "y_pred_rfc = rfc.predict(X_test)\n",
    "\n",
    "\n",
    "#### --- OUTPUT ----  ####\n",
    "show_all_results(y_test, y_pred_rfc)"
   ]
  },
  {
   "cell_type": "markdown",
   "metadata": {},
   "source": [
    "### 8.13.1 Feature Importance Random Forest"
   ]
  },
  {
   "cell_type": "code",
   "execution_count": null,
   "metadata": {
    "scrolled": false
   },
   "outputs": [],
   "source": [
    "### Feature Importance (incl. Dummies) Vertical, readable, for investigation \n",
    "n_features = X_train.shape[1]\n",
    "plt.figure(figsize=(8,40))\n",
    "plt.barh(range(n_features), rfc.feature_importances_, align='center', color='sandybrown') \n",
    "plt.yticks(np.arange(n_features), X_train.columns.values, fontsize=10) \n",
    "plt.title(\"Feature importances in the best Random Forest model\")\n",
    "plt.xlabel(\"Feature importance\")\n",
    "plt.ylabel(\"Feature\")\n",
    "#plt.savefig('figures/FeatureImportance_All_name_RandomForest.png', transparent=True)\n",
    "plt.show()"
   ]
  },
  {
   "cell_type": "code",
   "execution_count": null,
   "metadata": {},
   "outputs": [],
   "source": [
    "#### Feature Importance (incl. Dummies) Horizontal, only for visualisation of distribution\n",
    "n_features = X_train.shape[1]\n",
    "plt.figure(figsize=(20,2))\n",
    "plt.bar(range(n_features), rfc.feature_importances_, align='center', color='sandybrown') \n",
    "plt.title(\"Feature importances in Random Forest model\", fontsize=22)\n",
    "plt.ylabel(\"Feature importance\", fontsize=16)\n",
    "plt.yticks(fontsize=16)\n",
    "\n",
    "plt.xticks([])\n",
    "plt.xlabel('')\n",
    "plt.savefig('figures/FeatureImportance_All_presentation_RandomForest.png', transparent=True)\n",
    "plt.show()"
   ]
  },
  {
   "cell_type": "code",
   "execution_count": null,
   "metadata": {},
   "outputs": [],
   "source": [
    "#### Top X Dummie-Features \n",
    "results = pd.DataFrame(list(X_train), rfc.feature_importances_).reset_index()\n",
    "results.columns = ['Importance', 'Feature']\n",
    "results = results.sort_values(by='Importance', ascending=False).head(15)\n",
    "\n",
    "f, ax = plt.subplots(figsize=(8, 8))\n",
    "sns.barplot(x=results.Importance, y=results.Feature, palette='rocket_r')\n",
    "ax.set_title(\"Top 15 Features: Importance in Random Forest Classifier\")\n",
    "sns.despine()\n",
    "plt.savefig('figures/FeatureImportance_Top15_RandomForest.png', transparent=True)\n",
    "plt.show()"
   ]
  },
  {
   "cell_type": "code",
   "execution_count": null,
   "metadata": {},
   "outputs": [],
   "source": [
    "### Importance Main Features\n",
    "results = pd.DataFrame(list(X_train), rfc.feature_importances_).reset_index()\n",
    "results.columns = ['Importance', 'Dummie_Feature']\n",
    "results = results.sort_values(by='Importance', ascending=False)\n",
    "\n",
    "prefix_sep='&'\n",
    "results['main_feature'] = results['Dummie_Feature'].apply(lambda x: x.split(prefix_sep)[0].strip())\n",
    "\n",
    "results = results.groupby('main_feature').sum()\n",
    "results['Feature'] = results.index\n",
    "results = results.sort_values(by='Importance', ascending=False)\n",
    "\n",
    "f, ax = plt.subplots(figsize=(8, 8))\n",
    "sns.barplot(x=results.Importance, y=results.Feature, color='goldenrod')\n",
    "ax.set_title(\"Feature Importance in Random Forest Classifier\")\n",
    "sns.despine()\n",
    "plt.ylabel('')\n",
    "#plt.savefig('figures/FeatureImportance_Main_RandomForest.png', transparent=True, bbox_inches='tight')\n",
    "plt.show()"
   ]
  },
  {
   "cell_type": "markdown",
   "metadata": {},
   "source": [
    "### 8.13.2 Random Forrest using RandomSearch"
   ]
  },
  {
   "cell_type": "code",
   "execution_count": null,
   "metadata": {},
   "outputs": [],
   "source": [
    "rfc = RandomForestClassifier(random_state=RSEED, \n",
    "                            n_jobs=-1, verbose = 0)\n",
    "param_grid = {\n",
    "    'n_estimators': [10, 200, 150], #number of trees in the foreset\n",
    "    'max_depth': [3, 15, 100], #max number of levels in each decision tree\n",
    "    'max_features': ['auto', 'sqrt'], #considered for splitting a node\n",
    "    'min_samples_leaf': [3, 4, 5], # min number of data points placed in a node before the node is split\n",
    "    'min_samples_split': [8, 10, 12], #min number of data points allowed in a leaf node\n",
    "    'bootstrap': [True, False] # method for sampling data points (with or without replacement\n",
    "            }\n",
    "\n",
    "# Create the random search model\n",
    "rs_rfc = RandomizedSearchCV(rfc, #model to evaluate on\n",
    "                    param_grid, \n",
    "                    n_jobs = -1, \n",
    "                    n_iter = 1, #number of random tries in the RandomSearchGrid\n",
    "                            # note: n_iter defines how long the RandomForrest is computing\n",
    "                            # n_iter should be much greater then 1, e.g., 10, which will lead to high computation times\n",
    "                    scoring = scoring, cv = 5, \n",
    "                    verbose = 0, random_state=RSEED)\n",
    "\n",
    "#fitting the model\n",
    "rs_rfc.fit(X_train, y_train)\n",
    "\n",
    "#settings regarding best estimator \n",
    "print(rs_rfc.best_estimator_)\n",
    "print(rs_rfc.best_params_)"
   ]
  },
  {
   "cell_type": "code",
   "execution_count": null,
   "metadata": {
    "scrolled": false
   },
   "outputs": [],
   "source": [
    "#using the best estimator to predict at X_test\n",
    "best_rs_rfc = rs_rfc.best_estimator_\n",
    "best_rs_rfc_predictions = best_rs_rfc.predict(X_test)\n",
    "show_all_results(y_test,best_rs_rfc_predictions)"
   ]
  },
  {
   "cell_type": "markdown",
   "metadata": {},
   "source": [
    "# 9. Conclusion\n",
    "\n",
    "The Random Forrest model performes well for the given task with an **f1-score of 0.8**, compared to the f1 score of  0.656 of the base model (Logistic Regression). As for the features: The category has the greatest influence on the success of a project. As part of the EDA, the `median_avg_pledge_per_backer_in_subcat` feature is designed. This feature gives an understanding of how much money the average backer in an sub category is willing to back a project. This has great influence on the success rate of a project."
   ]
  },
  {
   "cell_type": "markdown",
   "metadata": {},
   "source": [
    "# 10. Data Visualization\n",
    "Communicate the findings with key stakeholders using plots and interactive visualizations\n",
    "\n",
    "- Feature Impotance for Random Forest has been visualized in 8.10.1"
   ]
  },
  {
   "cell_type": "markdown",
   "metadata": {},
   "source": [
    "# 11. Future Work\n",
    "\n",
    "- Feature Engneering: **Average USD-Pledge per Subcategory** to evaluate better supported subcategories. \n",
    "- **ROC Curve**s are another way to illustrate the performance of a specific model. Compared to the F1-Score, ROC Curves contain more information and, hence, generate a deeper understanding of the model's performance. They are especially great for investigating and comparing different models.  Besides, ROC curves are a great tool for communicating results. Hence, in future work, ROC curves should generate a deeper understanding of the model's performance. \n",
    "- The used **confusion matrix** fulfills its purpose: comparing the predicted and actual successes and failures. The color-coding is a great addition as it shows the severity of various values at a glance. Nevertheless, percentage values and labeling would be a great addition and is part of future work. \n",
    "- Aiming for the stars: The **blurb** (a string description) and the **photo** (mostly different versions of the main image) have been droped in the current analysis earlie on. Splitting the blurb into its fragments could potentially surface a corrolation between success and metaphorical, postive words. In addition, Analysing the images, e.g., for items or for color palets, could bring great insights and be a very steep but rewarding learning curve. "
   ]
  }
 ],
 "metadata": {
  "kernelspec": {
   "display_name": "Python 3",
   "language": "python",
   "name": "python3"
  },
  "language_info": {
   "codemirror_mode": {
    "name": "ipython",
    "version": 3
   },
   "file_extension": ".py",
   "mimetype": "text/x-python",
   "name": "python",
   "nbconvert_exporter": "python",
   "pygments_lexer": "ipython3",
   "version": "3.8.1"
  },
  "toc": {
   "base_numbering": 1,
   "nav_menu": {},
   "number_sections": true,
   "sideBar": false,
   "skip_h1_title": false,
   "title_cell": "Table of Contents",
   "title_sidebar": "Contents",
   "toc_cell": false,
   "toc_position": {},
   "toc_section_display": true,
   "toc_window_display": false
  }
 },
 "nbformat": 4,
 "nbformat_minor": 1
}
