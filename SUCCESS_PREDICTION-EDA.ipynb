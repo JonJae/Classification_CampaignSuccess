{
  "cells":[
    {
      "cell_type":"markdown",
      "source":[
        "![title image](figures\/kickstarter_project_title.png)\n",
        "\n",
        "# 1. Business Understanding\n",
        "Ask relevant questions and define objectives for the problem that needs to be tackled\n",
        "\n",
        "## 1.1 About Kickstarter\n",
        "In recent years, the range of funding options for projects created by individuals and small companies has expanded considerably. In addition to savings, bank loans, friends & family funding and other traditional options, crowdfunding has become a popular and readily available alternative.\n",
        "\n",
        "Kickstarter, founded in 2009, is one particularly well-known and popular crowdfunding platform. It has an all-or-nothing funding model, whereby a project is only funded if it meets its goal amount; otherwise no money is given by backers to a project. A huge variety of factors contribute to the success or failure of a project — in general, and also on Kickstarter. Some of these are able to be quantified or categorized, which allows for the construction of a model to attempt to predict whether a project will succeed or not.\n",
        "\n",
        "The aim of this project is:\n",
        "- to construct such a model \n",
        "- and also to analyse Kickstarter project data more generally, in order to help potential project creators assess whether or not Kickstarter is a good funding option for them, and what their chances of success are.\n",
        "\n",
        "## 1.2 Final Deliverables\n",
        "- Slide deck [PDF](pdf\/nf-Project02_KICKSTARTER_Project_Presentation.pdf) pushed to GitHub designed for non-technical stakeholders outlining findings and recommendations, as well as future work (10min presentation). \n",
        "- Jupyter notebook following PEP8 designed for data science \/ technical audience. \n",
        "\n",
        "## 1.3 Things to think about\n",
        "- Try different (at least 3) machine learning algorithms to check which performs best on the problem at hand\n",
        "- What would be right performance metric: Precision, recall, accuracy, F1 score, or something else? (Check TPR?)\n",
        "- Check for data imbalance\n",
        "\n",
        "## 1.4 Project Presentation\n",
        "The [Project Presentation](pdf\/nf-Project02_KICKSTARTER_Project_Presentation.pdf) begins on 08.10.2020 at 11:00h.\n",
        "\n",
        "\n",
        "## 1.5 Business Case \/ Key Questions\n",
        "- Can a model (based on given or created project parameters) be created that predicts the success of a project on Kickstarter, greater than the baseline rate? Building such a model is the main task!\n",
        "- Which factors have the greatest influence on a successful project? A list of recommendations for for project creators sould be another outcome of this work!\n",
        "\n",
        "\n",
        "## 1.6 Performance Metric\n",
        "The main aim of this project is to predict wether or not a Kickstarer campaign is successful (y=1) or not (y=0). As with all classification predictions, the model of concern might not be perfectly accurate. The model might predict a campaign as successful while the campaign actually failed (FP).  Or, an actual successful campaign is predicted as unsuccessful (FN). To compare different models among each other but also to describe the performance of a specific model to a shareholder, a Performance Metric needs to be chosen. \n",
        "\n",
        "This project focuses on the **F1-Score** as target metric. Reasoning: \n",
        "\n",
        "- F1-Score combines both precision (PPV ) and  recall (TPR, or sensitivity). Unlike PPV and TPR separately, it takes both false positives and false negatives into account simultaneously.\n",
        "- In the context of success prediction, both wrongly predicted failing (False Negatives; prediction: failed, actual: success) and wrongly predicted succes (False Postive; prediction: success, actual: failed) are equally important. This is different e.g., for cancer predictions, where a low FN (prediction: no-cancer, actual: caner) rate is of utmost importance. \n",
        "\n",
        "The F1-Score is the *harmonic mean* of precision and recall. As a result, a prediction will only get a high F1-Score if both recall and precision are high. The F1-Score is calculated as followed: *F1 = 2 · (PPV · TPR) \/ (PPV + TPR)*\n",
        "\n",
        "ROC-AUC was considered as alternative performance metric. The idea of using ROC-AUIC was discarded due to the easier interpretation of the F1-Score.  "
      ],
      "metadata":{
        
      }
    },
    {
      "cell_type":"markdown",
      "source":[
        "# 2. Dataset Details\n",
        "\n",
        "## 2.1 Origin of the dataset\n",
        "Due to the fact that the given data sets (Kickstarter000.csv to Kickstarter055.csv) have the same structure (features and column-format, only 'country_displayable_name'- a reasonable feature btw. - is missing) as the data to be found on https:\/\/webrobots.io\/kickstarter-datasets\/ it can be assumed that this is also their source.  \n",
        "\n",
        "The data was crawled by the company [WebRobots](https:\/\/webrobots.io\/) ('We provide B2B web crawling and scraping services') directly from the [Kickstarter-Website](https:\/\/www.kickstarter.com\/).\n",
        "\n",
        "Current data (crawled within the timeframe 2014-04-22 to 2020-08-13) can be found there.  \n",
        "All of the datasets contains snapshots of all kickstarter-projects (from the beginning in 2009) in the status at the crawl-date.\n",
        "\n",
        "Notes from WebRobots:  \n",
        "- From December 2015 we modified the collection approach to go through all sub-categories instead of only top level categories. This yields more results in the datasets, but possible **duplication where projects are listed in multiple categories**.\n",
        "- From March 2016 we run this data crawl once a month. Datasets are available from scrape dates.\n",
        "- We receive many question about timestamp format used in this dataset. It is unix-time. (Unix timestamps correspond to the number of seconds that have passed since 01.01.1970.)\n",
        "\n",
        "\n",
        "\n",
        "\n",
        "## 2.2 Feature Glossary\n",
        "**Prediction relevant features:**\n",
        "- **state** - Indicates the status of the project. Categorical values: successful, failed, live, cancelled and suspended.  \n",
        "THIS IS OUR TARGET. But we will only look after finalized projects with state successful or failed.\n",
        "- **id** - Project-Id (?)\n",
        "- **profile** - Contains the project-id and indicates the status (active\/inactive).\n",
        "- **category** - Contains (among other stuff) main and subcategory.\n",
        "- **source_url** - URL of the corresponding category\/subcategory.\n",
        "- **country** - Country of origin of the project.\n",
        "- **creator** - Data about the person who created the project.\n",
        "- **backers_count** - Number of supporters who are invested (at crawling-date).\n",
        "- **staff_pick** - True\/false-values. Indicates that this project is highlighted by the staff. Promoted by email-newsletter and highlighted spots around the site.\n",
        "- **launched_at** - Launch date of the project (UNIX Format).\n",
        "- **deadline** - Deadline of the project. At this point the decision is made wheater the project gets realized (goal is reached) or not.\n",
        "- **currency** - Currency of the project (e.g. USD, EUR)\n",
        "- **goal** - Target-amount in project-currency.\n",
        "- **static_usd_rate** - Static currency conversion rate.\n",
        "- **usd_pledged** - Current pledged amount of USD (at crawling date, converted from \"pledged\" via \"static_usd_rate\", float).\n",
        "\n",
        "**Features to be derived from this:**\n",
        "\n",
        "*HIGH PRIO*\n",
        "- **success** - Done\n",
        "- **usd_goal** - Done\n",
        "- **category** - Done\n",
        "- **subcategory** - Done\n",
        "- **total_category** - Done \n",
        "- **duration_days** - Days the campaign was active (difference of \"launched_at\" and \"deadline\")\n",
        "- **launch_hour'** - Done\n",
        "- **launch_day'** - Done\n",
        "- **launch_month'** - Done\n",
        "- **launch_year'** - Done\n",
        "- **deadline_hour'** - Done\n",
        "- **deadline_day'** - Done\n",
        "- **deadline_month'** - Done\n",
        "- **deadline_year'** - Done\n",
        "- **project_id** - Done\n",
        "\n",
        "*LOW PRIO*\n",
        "- **creator_projects** - Amount of projects of the creator \n",
        "- **success_factor** - usd_pledged\/usd_goal\n",
        "\n",
        "\n",
        "**potential Feature Engineering**\n",
        "- **avg. backing per sub_cat** - for each observation --> Done\n",
        "\n",
        "\n",
        "**Maybe useful:**\n",
        "- **location** - Location of the project\n",
        "- **blurb** - A short description of the offered product\/service written for promotional purposes\n",
        "\n",
        "**Maybe useful Features to be derived from this::**\n",
        "- **blurb_lenghts** - ...\n",
        "\n",
        "\n",
        "**For our prediction not further considered:**\n",
        "- **converted_pledged_amount** - Current pledged amount of USD (at crawling date, converted from \"pledged\" via \"static_usd_rate\", rounded).\n",
        "- **created_at** - Date when Project was created (UNIX Format).\n",
        "- **currency_symbol** - Symbol of the currency.\n",
        "- **currency_trailing_code** - Defines whether the currency codes are always shown after the amounte locale.\n",
        "- **current_currency** - Unknown (!) current currency. Not important, because we only look after converted USD.\n",
        "- **disable_communication** - True when the campaign is suspend (?)\n",
        "- **friends** - Many NaN and a few empty lists.\n",
        "- **fx_rate** - Used to create 'converted_pledged_amount' from 'pledged', but does not always convert to dollars. Can be dropped ('static_usd_rate'  always converts to dollars).\n",
        "- **is_backing** - Many empty entries and a few false-values.\n",
        "- **is_starrable** - true\/false-values. Unknown (!)\n",
        "- **is_starred** - Many empty entries and a few false-values.\n",
        "- **name** - Name of the project.\n",
        "- **permissions** - Many NaN and a few empty lists.\n",
        "- **photo** - Some information regarding the project-photos.\n",
        "- **pledged** - Unconverted pledged amount as float.\n",
        "- **slug** - Creator-selected keyword id of the project.\n",
        "- **spotlight** - True\/false-values. A possible feature that allows every successfully funded Kickstarter project to tell its story from beginning to end.\n",
        "- **state_changed_at** - State-changed-date of the project (UNIX Format).\n",
        "- **urls** - Link directly to the project on kickstarter.\n",
        "- **usd_type** - domestic, international or NaN. Not important, because we only look after converted USD.\n",
        "\n",
        "## 2.3 Dataset Description\n",
        "- **df_rawdata** - Originally imported dataset\n",
        "- **df** - Main working dataset containing cleaned and refined data\n",
        "- **df_clean** - Copy of df after 5 Data Cleaning used during 6 Data Exploration\n",
        "- **df_model** - Copy of df_clean after 7 Feature Engineering used for 8 Predictive Modeling (also availible as 'df_model.pkl')"
      ],
      "metadata":{
        
      }
    },
    {
      "cell_type":"markdown",
      "source":[
        "# 3. Environment Set-Up\n",
        "## 3.1 Imports"
      ],
      "metadata":{
        
      }
    },
    {
      "cell_type":"code",
      "source":[
        "#standard imports\n",
        "import numpy as np\n",
        "import pandas as pd\n",
        "import seaborn as sns\n",
        "import matplotlib.pyplot as plt\n",
        "\n",
        "# special imports\n",
        "import warnings\n",
        "# import pandas_profiling # needs prior install\n",
        "\n",
        "#specific libaries\n",
        "import glob \n",
        "    # read all csv files in the directory\n",
        "    # documentation: https:\/\/docs.python.org\/3\/library\/glob.html#glob.glob\n",
        "import time\n",
        "    # converting int\/unix representation of Dates to DateTime Format\n",
        "\n",
        "#ML - PreProcessing\n",
        "from sklearn.utils import resample\n",
        "from sklearn.model_selection import train_test_split\n",
        "\n",
        "#ML - Models and Grids \n",
        "from sklearn.ensemble import RandomForestClassifier\n",
        "from sklearn.model_selection import GridSearchCV\n",
        "from sklearn.model_selection import RandomizedSearchCV\n",
        "\n",
        "#Output and Validation\n",
        "from sklearn.metrics import confusion_matrix\n",
        "from sklearn.metrics import classification_report"
      ],
      "execution_count":1,
      "outputs":[
        
      ],
      "metadata":{
        
      }
    },
    {
      "cell_type":"markdown",
      "source":[
        "## 3.2 Global Variables and Settings"
      ],
      "metadata":{
        
      }
    },
    {
      "cell_type":"code",
      "source":[
        "#reset -f#cleaning the namespace \/ self assigned variables\n",
        "\n",
        "warnings.filterwarnings('ignore') #for suppression of depricated messages\n",
        "RSEED = 42       #for replicability purposes\n",
        "sns.set(style=\"white\")  #default plot styling \n",
        "\n",
        "#Modeling\n",
        "scoring = \"f1\""
      ],
      "execution_count":2,
      "outputs":[
        
      ],
      "metadata":{
        
      }
    },
    {
      "cell_type":"markdown",
      "source":[
        "# 4. Data Mining\n",
        "Gather and scrape the data necessary for the project"
      ],
      "metadata":{
        
      }
    },
    {
      "cell_type":"code",
      "source":[
        "raw_content = [pd.read_csv(file) for file in glob.glob('data\/Kickstarter*.csv')]\n",
        "#df_rawdata --> data as imported\n",
        "df_rawdata = pd.concat(raw_content, ignore_index = True)"
      ],
      "execution_count":3,
      "outputs":[
        
      ],
      "metadata":{
        
      }
    },
    {
      "cell_type":"code",
      "source":[
        "#df --> data for data cleaning and data exploration\n",
        "df = df_rawdata.copy()\n",
        "print(df.shape)\n",
        "df.sample(4).T"
      ],
      "execution_count":4,
      "outputs":[
        {
          "name":"stdout",
          "text":[
            "(209222, 37)\n"
          ],
          "output_type":"stream"
        },
        {
          "data":{
            "text\/html":[
              "<div>\n",
              "<style scoped>\n",
              "    .dataframe tbody tr th:only-of-type {\n",
              "        vertical-align: middle;\n",
              "    }\n",
              "\n",
              "    .dataframe tbody tr th {\n",
              "        vertical-align: top;\n",
              "    }\n",
              "\n",
              "    .dataframe thead th {\n",
              "        text-align: right;\n",
              "    }\n",
              "<\/style>\n",
              "<table border=\"1\" class=\"dataframe\">\n",
              "  <thead>\n",
              "    <tr style=\"text-align: right;\">\n",
              "      <th><\/th>\n",
              "      <th>62776<\/th>\n",
              "      <th>106290<\/th>\n",
              "      <th>192346<\/th>\n",
              "      <th>158105<\/th>\n",
              "    <\/tr>\n",
              "  <\/thead>\n",
              "  <tbody>\n",
              "    <tr>\n",
              "      <th>backers_count<\/th>\n",
              "      <td>46<\/td>\n",
              "      <td>3<\/td>\n",
              "      <td>28<\/td>\n",
              "      <td>210<\/td>\n",
              "    <\/tr>\n",
              "    <tr>\n",
              "      <th>blurb<\/th>\n",
              "      <td>Spirit of Sensuality in Artistic Photographs f...<\/td>\n",
              "      <td>I have a rare muscle disease and im trying to ...<\/td>\n",
              "      <td>A brand new action short film based on the tru...<\/td>\n",
              "      <td>We created a set of cute version fatty cats, d...<\/td>\n",
              "    <\/tr>\n",
              "    <tr>\n",
              "      <th>category<\/th>\n",
              "      <td>{\"id\":280,\"name\":\"Photobooks\",\"slug\":\"photogra...<\/td>\n",
              "      <td>{\"id\":20,\"name\":\"Conceptual Art\",\"slug\":\"art\/c...<\/td>\n",
              "      <td>{\"id\":291,\"name\":\"Action\",\"slug\":\"film &amp; video...<\/td>\n",
              "      <td>{\"id\":22,\"name\":\"Illustration\",\"slug\":\"art\/ill...<\/td>\n",
              "    <\/tr>\n",
              "    <tr>\n",
              "      <th>converted_pledged_amount<\/th>\n",
              "      <td>4675<\/td>\n",
              "      <td>1025<\/td>\n",
              "      <td>6971<\/td>\n",
              "      <td>9416<\/td>\n",
              "    <\/tr>\n",
              "    <tr>\n",
              "      <th>country<\/th>\n",
              "      <td>US<\/td>\n",
              "      <td>US<\/td>\n",
              "      <td>GB<\/td>\n",
              "      <td>HK<\/td>\n",
              "    <\/tr>\n",
              "    <tr>\n",
              "      <th>created_at<\/th>\n",
              "      <td>1550700513<\/td>\n",
              "      <td>1460738525<\/td>\n",
              "      <td>1507324033<\/td>\n",
              "      <td>1505150891<\/td>\n",
              "    <\/tr>\n",
              "    <tr>\n",
              "      <th>creator<\/th>\n",
              "      <td>{\"id\":1215805427,\"name\":\"A K Nicholas\",\"slug\":...<\/td>\n",
              "      <td>{\"id\":164659174,\"name\":\"Kevan mayberry\",\"is_re...<\/td>\n",
              "      <td>{\"id\":337263521,\"name\":\"Megan Gordon: Breaksid...<\/td>\n",
              "      <td>{\"id\":1416395721,\"name\":\"Jack Cheung\",\"is_regi...<\/td>\n",
              "    <\/tr>\n",
              "    <tr>\n",
              "      <th>currency<\/th>\n",
              "      <td>USD<\/td>\n",
              "      <td>USD<\/td>\n",
              "      <td>GBP<\/td>\n",
              "      <td>HKD<\/td>\n",
              "    <\/tr>\n",
              "    <tr>\n",
              "      <th>currency_symbol<\/th>\n",
              "      <td>$<\/td>\n",
              "      <td>$<\/td>\n",
              "      <td>£<\/td>\n",
              "      <td>$<\/td>\n",
              "    <\/tr>\n",
              "    <tr>\n",
              "      <th>currency_trailing_code<\/th>\n",
              "      <td>True<\/td>\n",
              "      <td>True<\/td>\n",
              "      <td>False<\/td>\n",
              "      <td>True<\/td>\n",
              "    <\/tr>\n",
              "    <tr>\n",
              "      <th>current_currency<\/th>\n",
              "      <td>USD<\/td>\n",
              "      <td>USD<\/td>\n",
              "      <td>USD<\/td>\n",
              "      <td>USD<\/td>\n",
              "    <\/tr>\n",
              "    <tr>\n",
              "      <th>deadline<\/th>\n",
              "      <td>1553482800<\/td>\n",
              "      <td>1465945232<\/td>\n",
              "      <td>1514591940<\/td>\n",
              "      <td>1506851765<\/td>\n",
              "    <\/tr>\n",
              "    <tr>\n",
              "      <th>disable_communication<\/th>\n",
              "      <td>False<\/td>\n",
              "      <td>False<\/td>\n",
              "      <td>False<\/td>\n",
              "      <td>False<\/td>\n",
              "    <\/tr>\n",
              "    <tr>\n",
              "      <th>friends<\/th>\n",
              "      <td>NaN<\/td>\n",
              "      <td>NaN<\/td>\n",
              "      <td>NaN<\/td>\n",
              "      <td>NaN<\/td>\n",
              "    <\/tr>\n",
              "    <tr>\n",
              "      <th>fx_rate<\/th>\n",
              "      <td>1<\/td>\n",
              "      <td>1<\/td>\n",
              "      <td>1.32568<\/td>\n",
              "      <td>0.127393<\/td>\n",
              "    <\/tr>\n",
              "    <tr>\n",
              "      <th>goal<\/th>\n",
              "      <td>1500<\/td>\n",
              "      <td>5000<\/td>\n",
              "      <td>5000<\/td>\n",
              "      <td>24000<\/td>\n",
              "    <\/tr>\n",
              "    <tr>\n",
              "      <th>id<\/th>\n",
              "      <td>1862068705<\/td>\n",
              "      <td>965054885<\/td>\n",
              "      <td>909011434<\/td>\n",
              "      <td>1385883506<\/td>\n",
              "    <\/tr>\n",
              "    <tr>\n",
              "      <th>is_backing<\/th>\n",
              "      <td>NaN<\/td>\n",
              "      <td>NaN<\/td>\n",
              "      <td>NaN<\/td>\n",
              "      <td>NaN<\/td>\n",
              "    <\/tr>\n",
              "    <tr>\n",
              "      <th>is_starrable<\/th>\n",
              "      <td>True<\/td>\n",
              "      <td>False<\/td>\n",
              "      <td>False<\/td>\n",
              "      <td>False<\/td>\n",
              "    <\/tr>\n",
              "    <tr>\n",
              "      <th>is_starred<\/th>\n",
              "      <td>NaN<\/td>\n",
              "      <td>NaN<\/td>\n",
              "      <td>NaN<\/td>\n",
              "      <td>NaN<\/td>\n",
              "    <\/tr>\n",
              "    <tr>\n",
              "      <th>launched_at<\/th>\n",
              "      <td>1551459354<\/td>\n",
              "      <td>1460761232<\/td>\n",
              "      <td>1512000009<\/td>\n",
              "      <td>1505296565<\/td>\n",
              "    <\/tr>\n",
              "    <tr>\n",
              "      <th>location<\/th>\n",
              "      <td>{\"id\":2378319,\"name\":\"Charleston\",\"slug\":\"char...<\/td>\n",
              "      <td>{\"id\":2425253,\"name\":\"Hudson\",\"slug\":\"hudson-m...<\/td>\n",
              "      <td>{\"id\":35356,\"name\":\"Southampton\",\"slug\":\"south...<\/td>\n",
              "      <td>{\"id\":2165352,\"name\":\"Hong Kong\",\"slug\":\"hong-...<\/td>\n",
              "    <\/tr>\n",
              "    <tr>\n",
              "      <th>name<\/th>\n",
              "      <td>fotoEros: Bold, Sensual, Artistic Nude Photobook<\/td>\n",
              "      <td>Please help!!!<\/td>\n",
              "      <td>Breakside - an exciting new action short film!<\/td>\n",
              "      <td>FATTY CAT DRAWING<\/td>\n",
              "    <\/tr>\n",
              "    <tr>\n",
              "      <th>permissions<\/th>\n",
              "      <td>NaN<\/td>\n",
              "      <td>NaN<\/td>\n",
              "      <td>NaN<\/td>\n",
              "      <td>NaN<\/td>\n",
              "    <\/tr>\n",
              "    <tr>\n",
              "      <th>photo<\/th>\n",
              "      <td>{\"key\":\"assets\/024\/382\/136\/8cd45f9631ba1370201...<\/td>\n",
              "      <td>{\"key\":\"assets\/012\/430\/773\/e918ae1d0cdf1ad3a81...<\/td>\n",
              "      <td>{\"key\":\"assets\/018\/999\/711\/603ede0975e33004379...<\/td>\n",
              "      <td>{\"key\":\"assets\/018\/282\/484\/03406894615c687c153...<\/td>\n",
              "    <\/tr>\n",
              "    <tr>\n",
              "      <th>pledged<\/th>\n",
              "      <td>4675<\/td>\n",
              "      <td>1025<\/td>\n",
              "      <td>5180<\/td>\n",
              "      <td>73556<\/td>\n",
              "    <\/tr>\n",
              "    <tr>\n",
              "      <th>profile<\/th>\n",
              "      <td>{\"id\":3673660,\"project_id\":3673660,\"state\":\"in...<\/td>\n",
              "      <td>{\"id\":2472494,\"project_id\":2472494,\"state\":\"in...<\/td>\n",
              "      <td>{\"id\":3172564,\"project_id\":3172564,\"state\":\"in...<\/td>\n",
              "      <td>{\"id\":3138376,\"project_id\":3138376,\"state\":\"in...<\/td>\n",
              "    <\/tr>\n",
              "    <tr>\n",
              "      <th>slug<\/th>\n",
              "      <td>fotoeros-bold-sensual-artistic-nude-photobook<\/td>\n",
              "      <td>art-music-abstract-me<\/td>\n",
              "      <td>breakside-an-exciting-new-action-short-film<\/td>\n",
              "      <td>fatty-cat-drawing<\/td>\n",
              "    <\/tr>\n",
              "    <tr>\n",
              "      <th>source_url<\/th>\n",
              "      <td>https:\/\/www.kickstarter.com\/discover\/categorie...<\/td>\n",
              "      <td>https:\/\/www.kickstarter.com\/discover\/categorie...<\/td>\n",
              "      <td>https:\/\/www.kickstarter.com\/discover\/categorie...<\/td>\n",
              "      <td>https:\/\/www.kickstarter.com\/discover\/categorie...<\/td>\n",
              "    <\/tr>\n",
              "    <tr>\n",
              "      <th>spotlight<\/th>\n",
              "      <td>False<\/td>\n",
              "      <td>False<\/td>\n",
              "      <td>True<\/td>\n",
              "      <td>True<\/td>\n",
              "    <\/tr>\n",
              "    <tr>\n",
              "      <th>staff_pick<\/th>\n",
              "      <td>False<\/td>\n",
              "      <td>False<\/td>\n",
              "      <td>False<\/td>\n",
              "      <td>True<\/td>\n",
              "    <\/tr>\n",
              "    <tr>\n",
              "      <th>state<\/th>\n",
              "      <td>live<\/td>\n",
              "      <td>failed<\/td>\n",
              "      <td>successful<\/td>\n",
              "      <td>successful<\/td>\n",
              "    <\/tr>\n",
              "    <tr>\n",
              "      <th>state_changed_at<\/th>\n",
              "      <td>1551459355<\/td>\n",
              "      <td>1465945232<\/td>\n",
              "      <td>1514591940<\/td>\n",
              "      <td>1506851765<\/td>\n",
              "    <\/tr>\n",
              "    <tr>\n",
              "      <th>static_usd_rate<\/th>\n",
              "      <td>1<\/td>\n",
              "      <td>1<\/td>\n",
              "      <td>1.33345<\/td>\n",
              "      <td>0.127957<\/td>\n",
              "    <\/tr>\n",
              "    <tr>\n",
              "      <th>urls<\/th>\n",
              "      <td>{\"web\":{\"project\":\"https:\/\/www.kickstarter.com...<\/td>\n",
              "      <td>{\"web\":{\"project\":\"https:\/\/www.kickstarter.com...<\/td>\n",
              "      <td>{\"web\":{\"project\":\"https:\/\/www.kickstarter.com...<\/td>\n",
              "      <td>{\"web\":{\"project\":\"https:\/\/www.kickstarter.com...<\/td>\n",
              "    <\/tr>\n",
              "    <tr>\n",
              "      <th>usd_pledged<\/th>\n",
              "      <td>4675<\/td>\n",
              "      <td>1025<\/td>\n",
              "      <td>6907.26<\/td>\n",
              "      <td>9411.98<\/td>\n",
              "    <\/tr>\n",
              "    <tr>\n",
              "      <th>usd_type<\/th>\n",
              "      <td>international<\/td>\n",
              "      <td>domestic<\/td>\n",
              "      <td>domestic<\/td>\n",
              "      <td>domestic<\/td>\n",
              "    <\/tr>\n",
              "  <\/tbody>\n",
              "<\/table>\n",
              "<\/div>"
            ]
          },
          "metadata":{
            
          },
          "output_type":"display_data"
        }
      ],
      "metadata":{
        
      }
    },
    {
      "cell_type":"markdown",
      "source":[
        "## 4.1 Inspection"
      ],
      "metadata":{
        
      }
    },
    {
      "cell_type":"code",
      "source":[
        "#Key Facts about the DataSet\n",
        "print(f'number of features: {df.shape[1]}') \n",
        "print(f'number of data points: {df.shape[0]}') \n",
        "print()\n",
        "print(f'Coloumn names:  \\n {df.columns}')"
      ],
      "execution_count":5,
      "outputs":[
        {
          "name":"stdout",
          "text":[
            "number of features: 37\n",
            "number of data points: 209222\n",
            "\n",
            "Coloumn names:  \n",
            " Index(['backers_count', 'blurb', 'category', 'converted_pledged_amount',\n",
            "       'country', 'created_at', 'creator', 'currency', 'currency_symbol',\n",
            "       'currency_trailing_code', 'current_currency', 'deadline',\n",
            "       'disable_communication', 'friends', 'fx_rate', 'goal', 'id',\n",
            "       'is_backing', 'is_starrable', 'is_starred', 'launched_at', 'location',\n",
            "       'name', 'permissions', 'photo', 'pledged', 'profile', 'slug',\n",
            "       'source_url', 'spotlight', 'staff_pick', 'state', 'state_changed_at',\n",
            "       'static_usd_rate', 'urls', 'usd_pledged', 'usd_type'],\n",
            "      dtype='object')\n"
          ],
          "output_type":"stream"
        }
      ],
      "metadata":{
        
      }
    },
    {
      "cell_type":"code",
      "source":[
        "df.info()"
      ],
      "execution_count":6,
      "outputs":[
        {
          "name":"stdout",
          "text":[
            "<class 'pandas.core.frame.DataFrame'>\n",
            "RangeIndex: 209222 entries, 0 to 209221\n",
            "Data columns (total 37 columns):\n",
            " #   Column                    Non-Null Count   Dtype  \n",
            "---  ------                    --------------   -----  \n",
            " 0   backers_count             209222 non-null  int64  \n",
            " 1   blurb                     209214 non-null  object \n",
            " 2   category                  209222 non-null  object \n",
            " 3   converted_pledged_amount  209222 non-null  int64  \n",
            " 4   country                   209222 non-null  object \n",
            " 5   created_at                209222 non-null  int64  \n",
            " 6   creator                   209222 non-null  object \n",
            " 7   currency                  209222 non-null  object \n",
            " 8   currency_symbol           209222 non-null  object \n",
            " 9   currency_trailing_code    209222 non-null  bool   \n",
            " 10  current_currency          209222 non-null  object \n",
            " 11  deadline                  209222 non-null  int64  \n",
            " 12  disable_communication     209222 non-null  bool   \n",
            " 13  friends                   300 non-null     object \n",
            " 14  fx_rate                   209222 non-null  float64\n",
            " 15  goal                      209222 non-null  float64\n",
            " 16  id                        209222 non-null  int64  \n",
            " 17  is_backing                300 non-null     object \n",
            " 18  is_starrable              209222 non-null  bool   \n",
            " 19  is_starred                300 non-null     object \n",
            " 20  launched_at               209222 non-null  int64  \n",
            " 21  location                  208996 non-null  object \n",
            " 22  name                      209222 non-null  object \n",
            " 23  permissions               300 non-null     object \n",
            " 24  photo                     209222 non-null  object \n",
            " 25  pledged                   209222 non-null  float64\n",
            " 26  profile                   209222 non-null  object \n",
            " 27  slug                      209222 non-null  object \n",
            " 28  source_url                209222 non-null  object \n",
            " 29  spotlight                 209222 non-null  bool   \n",
            " 30  staff_pick                209222 non-null  bool   \n",
            " 31  state                     209222 non-null  object \n",
            " 32  state_changed_at          209222 non-null  int64  \n",
            " 33  static_usd_rate           209222 non-null  float64\n",
            " 34  urls                      209222 non-null  object \n",
            " 35  usd_pledged               209222 non-null  float64\n",
            " 36  usd_type                  208742 non-null  object \n",
            "dtypes: bool(5), float64(5), int64(7), object(20)\n",
            "memory usage: 52.1+ MB\n"
          ],
          "output_type":"stream"
        }
      ],
      "metadata":{
        
      }
    },
    {
      "cell_type":"markdown",
      "source":[
        "## 4.2 Missing Values"
      ],
      "metadata":{
        
      }
    },
    {
      "cell_type":"code",
      "source":[
        "#exploring missing values --> few coloumns where close to all values are missing. \n",
        "plt.figure(figsize=(14,4))\n",
        "sns.heatmap(df.isnull(),yticklabels=False,cbar=False);"
      ],
      "execution_count":7,
      "outputs":[
        {
          "data":{
            "image\/png":"[encoded data removed]"
          },
          "metadata":{
            "image\/png":{
              "width":0,
              "height":0
            }
          },
          "output_type":"display_data"
        }
      ],
      "metadata":{
        
      }
    },
    {
      "cell_type":"code",
      "source":[
        "mask = df.columns[df.isnull().any(axis=0)]\n",
        "null_values = df[mask].isnull().sum()\n",
        "null_values = null_values.sort_values(ascending=False)\n",
        "print('isnull values per coloumn (if there are any)')\n",
        "print(null_values)"
      ],
      "execution_count":8,
      "outputs":[
        {
          "name":"stdout",
          "text":[
            "isnull values per coloumn (if there are any)\n",
            "permissions    208922\n",
            "is_starred     208922\n",
            "is_backing     208922\n",
            "friends        208922\n",
            "usd_type          480\n",
            "location          226\n",
            "blurb               8\n",
            "dtype: int64\n"
          ],
          "output_type":"stream"
        }
      ],
      "metadata":{
        
      }
    },
    {
      "cell_type":"code",
      "source":[
        "df.describe().round(2)"
      ],
      "execution_count":9,
      "outputs":[
        {
          "data":{
            "text\/html":[
              "<div>\n",
              "<style scoped>\n",
              "    .dataframe tbody tr th:only-of-type {\n",
              "        vertical-align: middle;\n",
              "    }\n",
              "\n",
              "    .dataframe tbody tr th {\n",
              "        vertical-align: top;\n",
              "    }\n",
              "\n",
              "    .dataframe thead th {\n",
              "        text-align: right;\n",
              "    }\n",
              "<\/style>\n",
              "<table border=\"1\" class=\"dataframe\">\n",
              "  <thead>\n",
              "    <tr style=\"text-align: right;\">\n",
              "      <th><\/th>\n",
              "      <th>backers_count<\/th>\n",
              "      <th>converted_pledged_amount<\/th>\n",
              "      <th>created_at<\/th>\n",
              "      <th>deadline<\/th>\n",
              "      <th>fx_rate<\/th>\n",
              "      <th>goal<\/th>\n",
              "      <th>id<\/th>\n",
              "      <th>launched_at<\/th>\n",
              "      <th>pledged<\/th>\n",
              "      <th>state_changed_at<\/th>\n",
              "      <th>static_usd_rate<\/th>\n",
              "      <th>usd_pledged<\/th>\n",
              "    <\/tr>\n",
              "  <\/thead>\n",
              "  <tbody>\n",
              "    <tr>\n",
              "      <th>count<\/th>\n",
              "      <td>209222.00<\/td>\n",
              "      <td>209222.00<\/td>\n",
              "      <td>2.092220e+05<\/td>\n",
              "      <td>2.092220e+05<\/td>\n",
              "      <td>209222.00<\/td>\n",
              "      <td>2.092220e+05<\/td>\n",
              "      <td>2.092220e+05<\/td>\n",
              "      <td>2.092220e+05<\/td>\n",
              "      <td>209222.00<\/td>\n",
              "      <td>2.092220e+05<\/td>\n",
              "      <td>209222.00<\/td>\n",
              "      <td>209222.00<\/td>\n",
              "    <\/tr>\n",
              "    <tr>\n",
              "      <th>mean<\/th>\n",
              "      <td>145.42<\/td>\n",
              "      <td>12892.90<\/td>\n",
              "      <td>1.456089e+09<\/td>\n",
              "      <td>1.463033e+09<\/td>\n",
              "      <td>0.99<\/td>\n",
              "      <td>4.917604e+04<\/td>\n",
              "      <td>1.073222e+09<\/td>\n",
              "      <td>1.460206e+09<\/td>\n",
              "      <td>18814.03<\/td>\n",
              "      <td>1.462838e+09<\/td>\n",
              "      <td>1.01<\/td>\n",
              "      <td>12892.13<\/td>\n",
              "    <\/tr>\n",
              "    <tr>\n",
              "      <th>std<\/th>\n",
              "      <td>885.97<\/td>\n",
              "      <td>88894.14<\/td>\n",
              "      <td>6.339711e+07<\/td>\n",
              "      <td>6.305618e+07<\/td>\n",
              "      <td>0.21<\/td>\n",
              "      <td>1.179427e+06<\/td>\n",
              "      <td>6.198051e+08<\/td>\n",
              "      <td>6.309029e+07<\/td>\n",
              "      <td>322959.62<\/td>\n",
              "      <td>6.290421e+07<\/td>\n",
              "      <td>0.23<\/td>\n",
              "      <td>88901.24<\/td>\n",
              "    <\/tr>\n",
              "    <tr>\n",
              "      <th>min<\/th>\n",
              "      <td>0.00<\/td>\n",
              "      <td>0.00<\/td>\n",
              "      <td>1.240366e+09<\/td>\n",
              "      <td>1.241334e+09<\/td>\n",
              "      <td>0.01<\/td>\n",
              "      <td>1.000000e-02<\/td>\n",
              "      <td>8.624000e+03<\/td>\n",
              "      <td>1.240603e+09<\/td>\n",
              "      <td>0.00<\/td>\n",
              "      <td>1.241334e+09<\/td>\n",
              "      <td>0.01<\/td>\n",
              "      <td>0.00<\/td>\n",
              "    <\/tr>\n",
              "    <tr>\n",
              "      <th>25%<\/th>\n",
              "      <td>4.00<\/td>\n",
              "      <td>106.00<\/td>\n",
              "      <td>1.413317e+09<\/td>\n",
              "      <td>1.420607e+09<\/td>\n",
              "      <td>1.00<\/td>\n",
              "      <td>1.500000e+03<\/td>\n",
              "      <td>5.351054e+08<\/td>\n",
              "      <td>1.417639e+09<\/td>\n",
              "      <td>110.00<\/td>\n",
              "      <td>1.420485e+09<\/td>\n",
              "      <td>1.00<\/td>\n",
              "      <td>106.00<\/td>\n",
              "    <\/tr>\n",
              "    <tr>\n",
              "      <th>50%<\/th>\n",
              "      <td>27.00<\/td>\n",
              "      <td>1537.00<\/td>\n",
              "      <td>1.457895e+09<\/td>\n",
              "      <td>1.464754e+09<\/td>\n",
              "      <td>1.00<\/td>\n",
              "      <td>5.000000e+03<\/td>\n",
              "      <td>1.074579e+09<\/td>\n",
              "      <td>1.461924e+09<\/td>\n",
              "      <td>1556.00<\/td>\n",
              "      <td>1.464709e+09<\/td>\n",
              "      <td>1.00<\/td>\n",
              "      <td>1537.36<\/td>\n",
              "    <\/tr>\n",
              "    <tr>\n",
              "      <th>75%<\/th>\n",
              "      <td>89.00<\/td>\n",
              "      <td>6548.00<\/td>\n",
              "      <td>1.511595e+09<\/td>\n",
              "      <td>1.519437e+09<\/td>\n",
              "      <td>1.00<\/td>\n",
              "      <td>1.500000e+04<\/td>\n",
              "      <td>1.609369e+09<\/td>\n",
              "      <td>1.516694e+09<\/td>\n",
              "      <td>6887.20<\/td>\n",
              "      <td>1.519366e+09<\/td>\n",
              "      <td>1.00<\/td>\n",
              "      <td>6550.00<\/td>\n",
              "    <\/tr>\n",
              "    <tr>\n",
              "      <th>max<\/th>\n",
              "      <td>105857.00<\/td>\n",
              "      <td>8596474.00<\/td>\n",
              "      <td>1.552527e+09<\/td>\n",
              "      <td>1.557721e+09<\/td>\n",
              "      <td>1.88<\/td>\n",
              "      <td>1.000000e+08<\/td>\n",
              "      <td>2.147476e+09<\/td>\n",
              "      <td>1.552537e+09<\/td>\n",
              "      <td>81030744.00<\/td>\n",
              "      <td>1.552537e+09<\/td>\n",
              "      <td>1.72<\/td>\n",
              "      <td>8596474.58<\/td>\n",
              "    <\/tr>\n",
              "  <\/tbody>\n",
              "<\/table>\n",
              "<\/div>"
            ]
          },
          "metadata":{
            
          },
          "output_type":"display_data"
        }
      ],
      "metadata":{
        
      }
    },
    {
      "cell_type":"code",
      "source":[
        "print('number of observations: ', df.shape[0])\n",
        "print(f'number of unique IDs:', df.id.nunique())\n",
        "print('duplicates in ID colm: ', df.shape[0]- df.id.nunique())"
      ],
      "execution_count":10,
      "outputs":[
        {
          "name":"stdout",
          "text":[
            "number of observations:  209222\n",
            "number of unique IDs: 182264\n",
            "duplicates in ID colm:  26958\n"
          ],
          "output_type":"stream"
        }
      ],
      "metadata":{
        
      }
    },
    {
      "cell_type":"code",
      "source":[
        "print('Unique Values per Column:')\n",
        "df.nunique().sort_values()"
      ],
      "execution_count":11,
      "outputs":[
        {
          "name":"stdout",
          "text":[
            "Unique Values per Column:\n"
          ],
          "output_type":"stream"
        },
        {
          "data":{
            "text\/plain":[
              "permissions                      1\n",
              "is_backing                       1\n",
              "friends                          1\n",
              "is_starrable                     2\n",
              "staff_pick                       2\n",
              "spotlight                        2\n",
              "is_starred                       2\n",
              "disable_communication            2\n",
              "currency_trailing_code           2\n",
              "usd_type                         2\n",
              "current_currency                 5\n",
              "state                            5\n",
              "currency_symbol                  6\n",
              "currency                        14\n",
              "country                         22\n",
              "fx_rate                         67\n",
              "category                       169\n",
              "source_url                     169\n",
              "backers_count                 3246\n",
              "goal                          5110\n",
              "static_usd_rate              11195\n",
              "location                     15235\n",
              "converted_pledged_amount     31387\n",
              "pledged                      44387\n",
              "usd_pledged                  79235\n",
              "deadline                    170854\n",
              "state_changed_at            172048\n",
              "blurb                       180700\n",
              "name                        181680\n",
              "launched_at                 182109\n",
              "created_at                  182158\n",
              "photo                       182263\n",
              "id                          182264\n",
              "slug                        182264\n",
              "profile                     182265\n",
              "urls                        182554\n",
              "creator                     208562\n",
              "dtype: int64"
            ]
          },
          "metadata":{
            
          },
          "output_type":"display_data"
        }
      ],
      "metadata":{
        
      }
    },
    {
      "cell_type":"code",
      "source":[
        "print('different states campaigns have: ', df.state.unique())"
      ],
      "execution_count":12,
      "outputs":[
        {
          "name":"stdout",
          "text":[
            "different states campaigns have:  ['failed' 'canceled' 'live' 'successful' 'suspended']\n"
          ],
          "output_type":"stream"
        }
      ],
      "metadata":{
        
      }
    },
    {
      "cell_type":"markdown",
      "source":[
        "## 4.3 Observations\n",
        "- **non-intutive colm names** e.g., `blurb`, `fx_rate`, `friend`, `permission`, `slug` --> further explaination\n",
        "- **insignificant number of entries** in `friend`, `is_starre`, `is_backing` --> possibily dropping these features\n",
        "- most features contain no missing values, no specific handling of missing values required\n",
        "- **few missing values in usd_type, location and blurb** --> possibly dropping these observation\n",
        "- various **duplicate IDs** --> might be caused by change of state \n",
        "- **state** contains additional states beyond `Successful` \/ `Unsuccessful` --> dropping? \n",
        "  "
      ],
      "metadata":{
        
      }
    },
    {
      "cell_type":"code",
      "source":[
        "df.columns"
      ],
      "execution_count":13,
      "outputs":[
        {
          "data":{
            "text\/plain":[
              "Index(['backers_count', 'blurb', 'category', 'converted_pledged_amount',\n",
              "       'country', 'created_at', 'creator', 'currency', 'currency_symbol',\n",
              "       'currency_trailing_code', 'current_currency', 'deadline',\n",
              "       'disable_communication', 'friends', 'fx_rate', 'goal', 'id',\n",
              "       'is_backing', 'is_starrable', 'is_starred', 'launched_at', 'location',\n",
              "       'name', 'permissions', 'photo', 'pledged', 'profile', 'slug',\n",
              "       'source_url', 'spotlight', 'staff_pick', 'state', 'state_changed_at',\n",
              "       'static_usd_rate', 'urls', 'usd_pledged', 'usd_type'],\n",
              "      dtype='object')"
            ]
          },
          "metadata":{
            
          },
          "output_type":"display_data"
        }
      ],
      "metadata":{
        
      }
    },
    {
      "cell_type":"markdown",
      "source":[
        "# 5. Data Cleaning\n",
        "Fix the inconsistencies within the data and handle the missing values"
      ],
      "metadata":{
        
      }
    },
    {
      "cell_type":"markdown",
      "source":[
        "## 5.1 Dropping Non-Usefull Columns"
      ],
      "metadata":{
        
      }
    },
    {
      "cell_type":"code",
      "source":[
        "lst = []\n",
        "\n",
        "lst.append('location') #--> Detailed Location of the project. We have 'Country of origin'. MAYBE USEFULL.\n",
        "lst.append('blurb') #--> short description of the offered product\/service written for promotional purposes. MAYBE USEFULL.\n",
        "lst.append('slug') #--> Creator-selected keyword id of the project. Not used here. MAYBE USEFULL.\n",
        "\n",
        "lst.append('converted_pledged_amount') #--> redundant, a better version is usd_pledged\n",
        "lst.append('created_at') #--> Date when Project was created (UNIX Format). Not used here.\n",
        "lst.append('currency_symbol') #--> Symbol of the currency. Not used here.\n",
        "lst.append('currency_trailing_code') #--> Defines whether the currency codes are always shown after the amounte locale. Not used here.\n",
        "lst.append('current_currency') #--> Unknown (!) current currency. Not important, because we only look after converted USD.\n",
        "lst.append('disable_communication') #--> True when the campaign is suspend (?) Not used here.\n",
        "lst.append('friends') #--> Many NaN and a few empty lists. Not used here.\n",
        "lst.append('fx_rate') #--> Used to create 'converted_pledged_amount' from 'pledged', but does not always convert to dollars. Can be dropped ('static_usd_rate'  always converts to dollars).\n",
        "lst.append('is_backing') #--> Many empty entries and a few false-values. Not used here.\n",
        "lst.append('is_starrable') #--> true\/false-values. Unknown (!) Not used here.\n",
        "lst.append('is_starred') #--> Many empty entries and a few false-values. Not used here.\n",
        "lst.append('name') #--> Name of the project. Not used here.\n",
        "lst.append('permissions') #--> Many NaN and a few empty lists. Not used here.\n",
        "lst.append('photo') #--> Some information regarding the project-photos. contains non-callable link to image. Not used here.\n",
        "lst.append('pledged') #--> Unconverted pledged amount as float. Not used here.\n",
        "lst.append('spotlight') #--> True\/false-values. A possible feature that allows every successfully funded Kickstarter project to tell its story from beginning to end.\n",
        "lst.append('state_changed_at') #--> State-changed-date of the project (UNIX Format). Not used here.\n",
        "lst.append('urls') #--> Link directly to the project on kickstarter. Not used here.\n",
        "lst.append('usd_type') #--> domestic, international or NaN. Not important, because we only look after converted USD.\n",
        "lst.append('source_url') #--> URL of the corresponding category\/subcategory. Not used here.\n",
        "\n",
        "print('features to drop: \\n', lst)\n",
        "\n",
        "#DECOMMEND FOR ACTUAL DROP \n",
        "df.drop(lst, axis=1, inplace=True)"
      ],
      "execution_count":14,
      "outputs":[
        {
          "name":"stdout",
          "text":[
            "features to drop: \n",
            " ['location', 'blurb', 'slug', 'converted_pledged_amount', 'created_at', 'currency_symbol', 'currency_trailing_code', 'current_currency', 'disable_communication', 'friends', 'fx_rate', 'is_backing', 'is_starrable', 'is_starred', 'name', 'permissions', 'photo', 'pledged', 'spotlight', 'state_changed_at', 'urls', 'usd_type', 'source_url']\n"
          ],
          "output_type":"stream"
        }
      ],
      "metadata":{
        
      }
    },
    {
      "cell_type":"markdown",
      "source":[
        "## 5.2 Calc of 'usd_goal' ('goal' * 'static_usd_rate')"
      ],
      "metadata":{
        
      }
    },
    {
      "cell_type":"code",
      "source":[
        "# Creation of a new Colm defined as Goal * Static USD Rate\n",
        "df['usd_goal'] = round(df['goal'] * df['static_usd_rate'], 2)\n",
        "print('Example USD_goal Colm:')\n",
        "df[['country','currency','goal','static_usd_rate','usd_goal']][42:44]"
      ],
      "execution_count":15,
      "outputs":[
        {
          "name":"stdout",
          "text":[
            "Example USD_goal Colm:\n"
          ],
          "output_type":"stream"
        },
        {
          "data":{
            "text\/html":[
              "<div>\n",
              "<style scoped>\n",
              "    .dataframe tbody tr th:only-of-type {\n",
              "        vertical-align: middle;\n",
              "    }\n",
              "\n",
              "    .dataframe tbody tr th {\n",
              "        vertical-align: top;\n",
              "    }\n",
              "\n",
              "    .dataframe thead th {\n",
              "        text-align: right;\n",
              "    }\n",
              "<\/style>\n",
              "<table border=\"1\" class=\"dataframe\">\n",
              "  <thead>\n",
              "    <tr style=\"text-align: right;\">\n",
              "      <th><\/th>\n",
              "      <th>country<\/th>\n",
              "      <th>currency<\/th>\n",
              "      <th>goal<\/th>\n",
              "      <th>static_usd_rate<\/th>\n",
              "      <th>usd_goal<\/th>\n",
              "    <\/tr>\n",
              "  <\/thead>\n",
              "  <tbody>\n",
              "    <tr>\n",
              "      <th>42<\/th>\n",
              "      <td>MX<\/td>\n",
              "      <td>MXN<\/td>\n",
              "      <td>350000.0<\/td>\n",
              "      <td>0.055292<\/td>\n",
              "      <td>19352.28<\/td>\n",
              "    <\/tr>\n",
              "    <tr>\n",
              "      <th>43<\/th>\n",
              "      <td>IT<\/td>\n",
              "      <td>EUR<\/td>\n",
              "      <td>15000.0<\/td>\n",
              "      <td>1.087614<\/td>\n",
              "      <td>16314.21<\/td>\n",
              "    <\/tr>\n",
              "  <\/tbody>\n",
              "<\/table>\n",
              "<\/div>"
            ]
          },
          "metadata":{
            
          },
          "output_type":"display_data"
        }
      ],
      "metadata":{
        
      }
    },
    {
      "cell_type":"code",
      "source":[
        "df.info()"
      ],
      "execution_count":16,
      "outputs":[
        {
          "name":"stdout",
          "text":[
            "<class 'pandas.core.frame.DataFrame'>\n",
            "RangeIndex: 209222 entries, 0 to 209221\n",
            "Data columns (total 15 columns):\n",
            " #   Column           Non-Null Count   Dtype  \n",
            "---  ------           --------------   -----  \n",
            " 0   backers_count    209222 non-null  int64  \n",
            " 1   category         209222 non-null  object \n",
            " 2   country          209222 non-null  object \n",
            " 3   creator          209222 non-null  object \n",
            " 4   currency         209222 non-null  object \n",
            " 5   deadline         209222 non-null  int64  \n",
            " 6   goal             209222 non-null  float64\n",
            " 7   id               209222 non-null  int64  \n",
            " 8   launched_at      209222 non-null  int64  \n",
            " 9   profile          209222 non-null  object \n",
            " 10  staff_pick       209222 non-null  bool   \n",
            " 11  state            209222 non-null  object \n",
            " 12  static_usd_rate  209222 non-null  float64\n",
            " 13  usd_pledged      209222 non-null  float64\n",
            " 14  usd_goal         209222 non-null  float64\n",
            "dtypes: bool(1), float64(4), int64(4), object(6)\n",
            "memory usage: 22.5+ MB\n"
          ],
          "output_type":"stream"
        }
      ],
      "metadata":{
        
      }
    },
    {
      "cell_type":"markdown",
      "source":[
        "## 5.3 Creating 'project-id' from 'profile'"
      ],
      "metadata":{
        
      }
    },
    {
      "cell_type":"code",
      "source":[
        "# Creating 'project_id' for checking duplicates"
      ],
      "execution_count":17,
      "outputs":[
        
      ],
      "metadata":{
        
      }
    },
    {
      "cell_type":"code",
      "source":[
        "df['project_id'] = [int(df.profile[i].split(':')[2].split(',')[0]) for i in df.index]\n",
        "df.project_id[42:44]"
      ],
      "execution_count":18,
      "outputs":[
        {
          "data":{
            "text\/plain":[
              "42    3052231\n",
              "43    2205507\n",
              "Name: project_id, dtype: int64"
            ]
          },
          "metadata":{
            
          },
          "output_type":"display_data"
        }
      ],
      "metadata":{
        
      }
    },
    {
      "cell_type":"markdown",
      "source":[
        "## 5.4 Creating Target-Column 'success' from 'state'"
      ],
      "metadata":{
        
      }
    },
    {
      "cell_type":"code",
      "source":[
        "# Creation of a new Column `success` \n",
        "def success_recognition(row):\n",
        "    \"\"\"returns 0 for unsuccessful and 1 for successful projects\"\"\"\n",
        "    if row['state'] == 'successful':\n",
        "        return 1\n",
        "    if row['state'] == 'live' and row['usd_pledged'] >= row['usd_goal']:\n",
        "        return 1\n",
        "    else:\n",
        "        return 0\n",
        "\n",
        "df['success'] = df.apply(success_recognition, axis=1)"
      ],
      "execution_count":19,
      "outputs":[
        
      ],
      "metadata":{
        
      }
    },
    {
      "cell_type":"code",
      "source":[
        "print('state,usd_pledged, usd_goal and resulting success:')\n",
        "df[['state','usd_pledged','usd_goal','success']][(df['state'] == 'live')|(df['state'] == 'failed')]"
      ],
      "execution_count":20,
      "outputs":[
        {
          "name":"stdout",
          "text":[
            "state,usd_pledged, usd_goal and resulting success:\n"
          ],
          "output_type":"stream"
        },
        {
          "data":{
            "text\/html":[
              "<div>\n",
              "<style scoped>\n",
              "    .dataframe tbody tr th:only-of-type {\n",
              "        vertical-align: middle;\n",
              "    }\n",
              "\n",
              "    .dataframe tbody tr th {\n",
              "        vertical-align: top;\n",
              "    }\n",
              "\n",
              "    .dataframe thead th {\n",
              "        text-align: right;\n",
              "    }\n",
              "<\/style>\n",
              "<table border=\"1\" class=\"dataframe\">\n",
              "  <thead>\n",
              "    <tr style=\"text-align: right;\">\n",
              "      <th><\/th>\n",
              "      <th>state<\/th>\n",
              "      <th>usd_pledged<\/th>\n",
              "      <th>usd_goal<\/th>\n",
              "      <th>success<\/th>\n",
              "    <\/tr>\n",
              "  <\/thead>\n",
              "  <tbody>\n",
              "    <tr>\n",
              "      <th>0<\/th>\n",
              "      <td>failed<\/td>\n",
              "      <td>80.000000<\/td>\n",
              "      <td>12500.00<\/td>\n",
              "      <td>0<\/td>\n",
              "    <\/tr>\n",
              "    <tr>\n",
              "      <th>2<\/th>\n",
              "      <td>failed<\/td>\n",
              "      <td>13.000000<\/td>\n",
              "      <td>1000.00<\/td>\n",
              "      <td>0<\/td>\n",
              "    <\/tr>\n",
              "    <tr>\n",
              "      <th>4<\/th>\n",
              "      <td>live<\/td>\n",
              "      <td>16.000000<\/td>\n",
              "      <td>100000.00<\/td>\n",
              "      <td>0<\/td>\n",
              "    <\/tr>\n",
              "    <tr>\n",
              "      <th>6<\/th>\n",
              "      <td>failed<\/td>\n",
              "      <td>0.000000<\/td>\n",
              "      <td>222000.00<\/td>\n",
              "      <td>0<\/td>\n",
              "    <\/tr>\n",
              "    <tr>\n",
              "      <th>7<\/th>\n",
              "      <td>failed<\/td>\n",
              "      <td>427.000000<\/td>\n",
              "      <td>700.00<\/td>\n",
              "      <td>0<\/td>\n",
              "    <\/tr>\n",
              "    <tr>\n",
              "      <th>...<\/th>\n",
              "      <td>...<\/td>\n",
              "      <td>...<\/td>\n",
              "      <td>...<\/td>\n",
              "      <td>...<\/td>\n",
              "    <\/tr>\n",
              "    <tr>\n",
              "      <th>209210<\/th>\n",
              "      <td>failed<\/td>\n",
              "      <td>31.000000<\/td>\n",
              "      <td>5000.00<\/td>\n",
              "      <td>0<\/td>\n",
              "    <\/tr>\n",
              "    <tr>\n",
              "      <th>209216<\/th>\n",
              "      <td>failed<\/td>\n",
              "      <td>1287.000000<\/td>\n",
              "      <td>3000.00<\/td>\n",
              "      <td>0<\/td>\n",
              "    <\/tr>\n",
              "    <tr>\n",
              "      <th>209217<\/th>\n",
              "      <td>failed<\/td>\n",
              "      <td>1359.000000<\/td>\n",
              "      <td>2500.00<\/td>\n",
              "      <td>0<\/td>\n",
              "    <\/tr>\n",
              "    <tr>\n",
              "      <th>209219<\/th>\n",
              "      <td>failed<\/td>\n",
              "      <td>446.000000<\/td>\n",
              "      <td>1000.00<\/td>\n",
              "      <td>0<\/td>\n",
              "    <\/tr>\n",
              "    <tr>\n",
              "      <th>209221<\/th>\n",
              "      <td>failed<\/td>\n",
              "      <td>1169.694615<\/td>\n",
              "      <td>7797.96<\/td>\n",
              "      <td>0<\/td>\n",
              "    <\/tr>\n",
              "  <\/tbody>\n",
              "<\/table>\n",
              "<p>82510 rows × 4 columns<\/p>\n",
              "<\/div>"
            ]
          },
          "metadata":{
            
          },
          "output_type":"display_data"
        }
      ],
      "metadata":{
        
      }
    },
    {
      "cell_type":"markdown",
      "source":[
        "## 5.5 Visualization of 'state' Distribution\n",
        "Graphical representation of the distribution of the different states"
      ],
      "metadata":{
        
      }
    },
    {
      "cell_type":"code",
      "source":[
        "# How many Kickstarter projects are there? What about the distribution of types?\n",
        "state_counts = df.groupby(by='state')['id'].count()\n",
        "state_counts_labels = state_counts.index.values.tolist()\n",
        "state_counts_sizes = state_counts.values.tolist()\n",
        "print(state_counts)\n",
        "\n",
        "f, ax = plt.subplots(figsize=(12, 8))\n",
        "sns.barplot(x = state_counts_sizes, y = state_counts_labels)\n",
        "#sns.despine(trim=True)\n",
        "ax.set_title(\"Number of Projects by State\")\n",
        "ax.set_xlabel(\"Number of Projects\")\n",
        "plt.savefig('figures\/state_distribution_before.png', transparent=True)\n",
        "plt.show()"
      ],
      "execution_count":21,
      "outputs":[
        {
          "name":"stdout",
          "text":[
            "state\n",
            "canceled        8624\n",
            "failed         75199\n",
            "live            7311\n",
            "successful    117465\n",
            "suspended        623\n",
            "Name: id, dtype: int64\n"
          ],
          "output_type":"stream"
        },
        {
          "data":{
            "image\/png":"[encoded data removed]"
          },
          "metadata":{
            "image\/png":{
              "width":0,
              "height":0
            }
          },
          "output_type":"display_data"
        }
      ],
      "metadata":{
        
      }
    },
    {
      "cell_type":"markdown",
      "source":[
        "\n",
        "## 5.6 Dropping rows: 'state' == 'cancled' or 'suspended' or 'live' (!=1)"
      ],
      "metadata":{
        
      }
    },
    {
      "cell_type":"code",
      "source":[
        "## Dropping all rows with 'state'= 'cancled' or 'suspended' or ('live' and 'success' !=1)\n",
        "print('df.shape: ',df.shape)\n",
        "\n",
        "non_success1 = df[df['state'] == 'canceled'].index # length=8624\n",
        "df.drop(non_success1 , inplace=True)\n",
        "print('df.shape: ',df.shape)\n",
        "\n",
        "non_success2 = df[df['state'] == 'suspended'].index # length=623\n",
        "df.drop(non_success2 , inplace=True)\n",
        "print('df.shape: ',df.shape)\n",
        "\n",
        "non_success3 = df[(df['state'] == 'live')&(df['success'] == 0)].index # length=5377\n",
        "df.drop(non_success3 , inplace=True)\n",
        "print('df.shape: ',df.shape)"
      ],
      "execution_count":22,
      "outputs":[
        {
          "name":"stdout",
          "text":[
            "df.shape:  (209222, 17)\n",
            "df.shape:  (200598, 17)\n",
            "df.shape:  (199975, 17)\n",
            "df.shape:  (194598, 17)\n"
          ],
          "output_type":"stream"
        }
      ],
      "metadata":{
        
      }
    },
    {
      "cell_type":"markdown",
      "source":[
        "## 5.7 Visualization of new 'state' Distribution\n",
        "Graphical representation of the new distribution of the different states (only Success or Failed)"
      ],
      "metadata":{
        
      }
    },
    {
      "cell_type":"code",
      "source":[
        "# Suitable here, because Live-Projects contains no success=0 at this time\n",
        "new_state_counts = df.groupby(by='success')['id'].count()\n",
        "new_state_counts_labels = new_state_counts.index.values.tolist()\n",
        "new_state_counts_sizes = new_state_counts.values.tolist()\n",
        "#new_state_counts\n",
        "print(new_state_counts)\n",
        "\n",
        "f, ax = plt.subplots(figsize=(8, 8))\n",
        "plt.pie(new_state_counts_sizes, labels=new_state_counts_labels, autopct='%.0f%%', labeldistance=.5)\n",
        "plt.title(\"Success (1) vs. Failure (0)\")\n",
        "plt.savefig('figures\/state_distribution_after.png', transparent=True)\n",
        "plt.show()"
      ],
      "execution_count":23,
      "outputs":[
        {
          "name":"stdout",
          "text":[
            "success\n",
            "0     75199\n",
            "1    119399\n",
            "Name: id, dtype: int64\n"
          ],
          "output_type":"stream"
        },
        {
          "data":{
            "image\/png":"[encoded data removed]"
          },
          "metadata":{
            "image\/png":{
              "width":0,
              "height":0
            }
          },
          "output_type":"display_data"
        }
      ],
      "metadata":{
        
      }
    },
    {
      "cell_type":"markdown",
      "source":[
        "## 5.8 Extracting 'category' \/ 'sub_category' Features from string formated colms"
      ],
      "metadata":{
        
      }
    },
    {
      "cell_type":"code",
      "source":[
        "#\"category\" --> main_category, keeping category intact\n",
        "print('BEFORE extraction: \\n', df.category[42:44])\n",
        "df[\"main_category\"] = [df.category[i].split('\"')[9].split('\/')[0].title() for i in df.index]\n",
        "print('AFTER extraction: \\n', df.main_category[42:44])"
      ],
      "execution_count":24,
      "outputs":[
        {
          "name":"stdout",
          "text":[
            "BEFORE extraction: \n",
            " 46    {\"id\":25,\"name\":\"Sculpture\",\"slug\":\"art\/sculpt...\n",
            "47    {\"id\":51,\"name\":\"Software\",\"slug\":\"technology\/...\n",
            "Name: category, dtype: object\n",
            "AFTER extraction: \n",
            " 46           Art\n",
            "47    Technology\n",
            "Name: main_category, dtype: object\n"
          ],
          "output_type":"stream"
        }
      ],
      "metadata":{
        
      }
    },
    {
      "cell_type":"code",
      "source":[
        "# category --> subcategory, keeping category intact\n",
        "print('BEFORE extraction: \\n', df.category[42:44])\n",
        "df[\"sub_category\"] = [df.category[i].split('\"')[5] for i in df.index]\n",
        "df[\"sub_category\"] = df[\"sub_category\"].str.replace(\"%20\", \"_\")\n",
        "print('AFTER extraction: \\n', df.sub_category[42:44])"
      ],
      "execution_count":25,
      "outputs":[
        {
          "name":"stdout",
          "text":[
            "BEFORE extraction: \n",
            " 46    {\"id\":25,\"name\":\"Sculpture\",\"slug\":\"art\/sculpt...\n",
            "47    {\"id\":51,\"name\":\"Software\",\"slug\":\"technology\/...\n",
            "Name: category, dtype: object\n",
            "AFTER extraction: \n",
            " 46    Sculpture\n",
            "47     Software\n",
            "Name: sub_category, dtype: object\n"
          ],
          "output_type":"stream"
        }
      ],
      "metadata":{
        
      }
    },
    {
      "cell_type":"code",
      "source":[
        "# Creating a combined total_category\n",
        "df[\"total_category\"] = df[\"main_category\"]+'\/\/'+df[\"sub_category\"]"
      ],
      "execution_count":26,
      "outputs":[
        
      ],
      "metadata":{
        
      }
    },
    {
      "cell_type":"code",
      "source":[
        "print(f'''\n",
        "Number of unique Main-Categories:    {df.main_category.nunique()}\n",
        "Number of unique Sub-Categories:    {df.sub_category.nunique()}\n",
        "Number of unique Total-Categories:  {df.total_category.nunique()}''')"
      ],
      "execution_count":27,
      "outputs":[
        {
          "name":"stdout",
          "text":[
            "\n",
            "Number of unique Main-Categories:    15\n",
            "Number of unique Sub-Categories:    159\n",
            "Number of unique Total-Categories:  169\n"
          ],
          "output_type":"stream"
        }
      ],
      "metadata":{
        
      }
    },
    {
      "cell_type":"code",
      "source":[
        "df.groupby([\"sub_category\",'total_category']).count()\n",
        "# sub_category 'Live Games' ansehen und prüfen!"
      ],
      "execution_count":28,
      "outputs":[
        {
          "data":{
            "text\/html":[
              "<div>\n",
              "<style scoped>\n",
              "    .dataframe tbody tr th:only-of-type {\n",
              "        vertical-align: middle;\n",
              "    }\n",
              "\n",
              "    .dataframe tbody tr th {\n",
              "        vertical-align: top;\n",
              "    }\n",
              "\n",
              "    .dataframe thead th {\n",
              "        text-align: right;\n",
              "    }\n",
              "<\/style>\n",
              "<table border=\"1\" class=\"dataframe\">\n",
              "  <thead>\n",
              "    <tr style=\"text-align: right;\">\n",
              "      <th><\/th>\n",
              "      <th><\/th>\n",
              "      <th>backers_count<\/th>\n",
              "      <th>category<\/th>\n",
              "      <th>country<\/th>\n",
              "      <th>creator<\/th>\n",
              "      <th>currency<\/th>\n",
              "      <th>deadline<\/th>\n",
              "      <th>goal<\/th>\n",
              "      <th>id<\/th>\n",
              "      <th>launched_at<\/th>\n",
              "      <th>profile<\/th>\n",
              "      <th>staff_pick<\/th>\n",
              "      <th>state<\/th>\n",
              "      <th>static_usd_rate<\/th>\n",
              "      <th>usd_pledged<\/th>\n",
              "      <th>usd_goal<\/th>\n",
              "      <th>project_id<\/th>\n",
              "      <th>success<\/th>\n",
              "      <th>main_category<\/th>\n",
              "    <\/tr>\n",
              "    <tr>\n",
              "      <th>sub_category<\/th>\n",
              "      <th>total_category<\/th>\n",
              "      <th><\/th>\n",
              "      <th><\/th>\n",
              "      <th><\/th>\n",
              "      <th><\/th>\n",
              "      <th><\/th>\n",
              "      <th><\/th>\n",
              "      <th><\/th>\n",
              "      <th><\/th>\n",
              "      <th><\/th>\n",
              "      <th><\/th>\n",
              "      <th><\/th>\n",
              "      <th><\/th>\n",
              "      <th><\/th>\n",
              "      <th><\/th>\n",
              "      <th><\/th>\n",
              "      <th><\/th>\n",
              "      <th><\/th>\n",
              "      <th><\/th>\n",
              "    <\/tr>\n",
              "  <\/thead>\n",
              "  <tbody>\n",
              "    <tr>\n",
              "      <th>3D Printing<\/th>\n",
              "      <th>Technology\/\/3D Printing<\/th>\n",
              "      <td>762<\/td>\n",
              "      <td>762<\/td>\n",
              "      <td>762<\/td>\n",
              "      <td>762<\/td>\n",
              "      <td>762<\/td>\n",
              "      <td>762<\/td>\n",
              "      <td>762<\/td>\n",
              "      <td>762<\/td>\n",
              "      <td>762<\/td>\n",
              "      <td>762<\/td>\n",
              "      <td>762<\/td>\n",
              "      <td>762<\/td>\n",
              "      <td>762<\/td>\n",
              "      <td>762<\/td>\n",
              "      <td>762<\/td>\n",
              "      <td>762<\/td>\n",
              "      <td>762<\/td>\n",
              "      <td>762<\/td>\n",
              "    <\/tr>\n",
              "    <tr>\n",
              "      <th>Academic<\/th>\n",
              "      <th>Publishing\/\/Academic<\/th>\n",
              "      <td>958<\/td>\n",
              "      <td>958<\/td>\n",
              "      <td>958<\/td>\n",
              "      <td>958<\/td>\n",
              "      <td>958<\/td>\n",
              "      <td>958<\/td>\n",
              "      <td>958<\/td>\n",
              "      <td>958<\/td>\n",
              "      <td>958<\/td>\n",
              "      <td>958<\/td>\n",
              "      <td>958<\/td>\n",
              "      <td>958<\/td>\n",
              "      <td>958<\/td>\n",
              "      <td>958<\/td>\n",
              "      <td>958<\/td>\n",
              "      <td>958<\/td>\n",
              "      <td>958<\/td>\n",
              "      <td>958<\/td>\n",
              "    <\/tr>\n",
              "    <tr>\n",
              "      <th>Accessories<\/th>\n",
              "      <th>Fashion\/\/Accessories<\/th>\n",
              "      <td>3435<\/td>\n",
              "      <td>3435<\/td>\n",
              "      <td>3435<\/td>\n",
              "      <td>3435<\/td>\n",
              "      <td>3435<\/td>\n",
              "      <td>3435<\/td>\n",
              "      <td>3435<\/td>\n",
              "      <td>3435<\/td>\n",
              "      <td>3435<\/td>\n",
              "      <td>3435<\/td>\n",
              "      <td>3435<\/td>\n",
              "      <td>3435<\/td>\n",
              "      <td>3435<\/td>\n",
              "      <td>3435<\/td>\n",
              "      <td>3435<\/td>\n",
              "      <td>3435<\/td>\n",
              "      <td>3435<\/td>\n",
              "      <td>3435<\/td>\n",
              "    <\/tr>\n",
              "    <tr>\n",
              "      <th>Action<\/th>\n",
              "      <th>Film &amp; Video\/\/Action<\/th>\n",
              "      <td>760<\/td>\n",
              "      <td>760<\/td>\n",
              "      <td>760<\/td>\n",
              "      <td>760<\/td>\n",
              "      <td>760<\/td>\n",
              "      <td>760<\/td>\n",
              "      <td>760<\/td>\n",
              "      <td>760<\/td>\n",
              "      <td>760<\/td>\n",
              "      <td>760<\/td>\n",
              "      <td>760<\/td>\n",
              "      <td>760<\/td>\n",
              "      <td>760<\/td>\n",
              "      <td>760<\/td>\n",
              "      <td>760<\/td>\n",
              "      <td>760<\/td>\n",
              "      <td>760<\/td>\n",
              "      <td>760<\/td>\n",
              "    <\/tr>\n",
              "    <tr>\n",
              "      <th>Animals<\/th>\n",
              "      <th>Photography\/\/Animals<\/th>\n",
              "      <td>324<\/td>\n",
              "      <td>324<\/td>\n",
              "      <td>324<\/td>\n",
              "      <td>324<\/td>\n",
              "      <td>324<\/td>\n",
              "      <td>324<\/td>\n",
              "      <td>324<\/td>\n",
              "      <td>324<\/td>\n",
              "      <td>324<\/td>\n",
              "      <td>324<\/td>\n",
              "      <td>324<\/td>\n",
              "      <td>324<\/td>\n",
              "      <td>324<\/td>\n",
              "      <td>324<\/td>\n",
              "      <td>324<\/td>\n",
              "      <td>324<\/td>\n",
              "      <td>324<\/td>\n",
              "      <td>324<\/td>\n",
              "    <\/tr>\n",
              "    <tr>\n",
              "      <th>...<\/th>\n",
              "      <th>...<\/th>\n",
              "      <td>...<\/td>\n",
              "      <td>...<\/td>\n",
              "      <td>...<\/td>\n",
              "      <td>...<\/td>\n",
              "      <td>...<\/td>\n",
              "      <td>...<\/td>\n",
              "      <td>...<\/td>\n",
              "      <td>...<\/td>\n",
              "      <td>...<\/td>\n",
              "      <td>...<\/td>\n",
              "      <td>...<\/td>\n",
              "      <td>...<\/td>\n",
              "      <td>...<\/td>\n",
              "      <td>...<\/td>\n",
              "      <td>...<\/td>\n",
              "      <td>...<\/td>\n",
              "      <td>...<\/td>\n",
              "      <td>...<\/td>\n",
              "    <\/tr>\n",
              "    <tr>\n",
              "      <th>Woodworking<\/th>\n",
              "      <th>Crafts\/\/Woodworking<\/th>\n",
              "      <td>1571<\/td>\n",
              "      <td>1571<\/td>\n",
              "      <td>1571<\/td>\n",
              "      <td>1571<\/td>\n",
              "      <td>1571<\/td>\n",
              "      <td>1571<\/td>\n",
              "      <td>1571<\/td>\n",
              "      <td>1571<\/td>\n",
              "      <td>1571<\/td>\n",
              "      <td>1571<\/td>\n",
              "      <td>1571<\/td>\n",
              "      <td>1571<\/td>\n",
              "      <td>1571<\/td>\n",
              "      <td>1571<\/td>\n",
              "      <td>1571<\/td>\n",
              "      <td>1571<\/td>\n",
              "      <td>1571<\/td>\n",
              "      <td>1571<\/td>\n",
              "    <\/tr>\n",
              "    <tr>\n",
              "      <th>Workshops<\/th>\n",
              "      <th>Dance\/\/Workshops<\/th>\n",
              "      <td>221<\/td>\n",
              "      <td>221<\/td>\n",
              "      <td>221<\/td>\n",
              "      <td>221<\/td>\n",
              "      <td>221<\/td>\n",
              "      <td>221<\/td>\n",
              "      <td>221<\/td>\n",
              "      <td>221<\/td>\n",
              "      <td>221<\/td>\n",
              "      <td>221<\/td>\n",
              "      <td>221<\/td>\n",
              "      <td>221<\/td>\n",
              "      <td>221<\/td>\n",
              "      <td>221<\/td>\n",
              "      <td>221<\/td>\n",
              "      <td>221<\/td>\n",
              "      <td>221<\/td>\n",
              "      <td>221<\/td>\n",
              "    <\/tr>\n",
              "    <tr>\n",
              "      <th>World Music<\/th>\n",
              "      <th>Music\/\/World Music<\/th>\n",
              "      <td>2192<\/td>\n",
              "      <td>2192<\/td>\n",
              "      <td>2192<\/td>\n",
              "      <td>2192<\/td>\n",
              "      <td>2192<\/td>\n",
              "      <td>2192<\/td>\n",
              "      <td>2192<\/td>\n",
              "      <td>2192<\/td>\n",
              "      <td>2192<\/td>\n",
              "      <td>2192<\/td>\n",
              "      <td>2192<\/td>\n",
              "      <td>2192<\/td>\n",
              "      <td>2192<\/td>\n",
              "      <td>2192<\/td>\n",
              "      <td>2192<\/td>\n",
              "      <td>2192<\/td>\n",
              "      <td>2192<\/td>\n",
              "      <td>2192<\/td>\n",
              "    <\/tr>\n",
              "    <tr>\n",
              "      <th>Young Adult<\/th>\n",
              "      <th>Publishing\/\/Young Adult<\/th>\n",
              "      <td>862<\/td>\n",
              "      <td>862<\/td>\n",
              "      <td>862<\/td>\n",
              "      <td>862<\/td>\n",
              "      <td>862<\/td>\n",
              "      <td>862<\/td>\n",
              "      <td>862<\/td>\n",
              "      <td>862<\/td>\n",
              "      <td>862<\/td>\n",
              "      <td>862<\/td>\n",
              "      <td>862<\/td>\n",
              "      <td>862<\/td>\n",
              "      <td>862<\/td>\n",
              "      <td>862<\/td>\n",
              "      <td>862<\/td>\n",
              "      <td>862<\/td>\n",
              "      <td>862<\/td>\n",
              "      <td>862<\/td>\n",
              "    <\/tr>\n",
              "    <tr>\n",
              "      <th>Zines<\/th>\n",
              "      <th>Publishing\/\/Zines<\/th>\n",
              "      <td>526<\/td>\n",
              "      <td>526<\/td>\n",
              "      <td>526<\/td>\n",
              "      <td>526<\/td>\n",
              "      <td>526<\/td>\n",
              "      <td>526<\/td>\n",
              "      <td>526<\/td>\n",
              "      <td>526<\/td>\n",
              "      <td>526<\/td>\n",
              "      <td>526<\/td>\n",
              "      <td>526<\/td>\n",
              "      <td>526<\/td>\n",
              "      <td>526<\/td>\n",
              "      <td>526<\/td>\n",
              "      <td>526<\/td>\n",
              "      <td>526<\/td>\n",
              "      <td>526<\/td>\n",
              "      <td>526<\/td>\n",
              "    <\/tr>\n",
              "  <\/tbody>\n",
              "<\/table>\n",
              "<p>169 rows × 18 columns<\/p>\n",
              "<\/div>"
            ]
          },
          "metadata":{
            
          },
          "output_type":"display_data"
        }
      ],
      "metadata":{
        
      }
    },
    {
      "cell_type":"markdown",
      "source":[
        "## 5.9 Transforming Unix Date representations to DateTime"
      ],
      "metadata":{
        
      }
    },
    {
      "cell_type":"code",
      "source":[
        "#colms to transform\n",
        "# colms = ['created_at', 'deadline', 'launched_at', 'state_changed_at']\n",
        "# 'created_at' und 'state_changed_at' gibt es zu diesem Zeitpunkt nicht mehr\n",
        "colms = ['deadline', 'launched_at']\n",
        "\n",
        "#documentation of data type before transformation\n",
        "colms_dtype = {colm: df[colm].dtypes for colm in colms}\n",
        "print(f'BEFORE transformation \\n {colms_dtype}')\n",
        "\n",
        "# converting: Unix --> DateTime \n",
        "for colm in colms:\n",
        "    df[colm] = pd.to_datetime(df[colm], unit='s')\n",
        "\n",
        "#documentation of data type transformation\n",
        "colms_dtype = {colm: df[colm].dtypes for colm in colms}\n",
        "print(f'AFTER transformation \\n {colms_dtype}')"
      ],
      "execution_count":29,
      "outputs":[
        {
          "name":"stdout",
          "text":[
            "BEFORE transformation \n",
            " {'deadline': dtype('int64'), 'launched_at': dtype('int64')}\n",
            "AFTER transformation \n",
            " {'deadline': dtype('<M8[ns]'), 'launched_at': dtype('<M8[ns]')}\n"
          ],
          "output_type":"stream"
        }
      ],
      "metadata":{
        
      }
    },
    {
      "cell_type":"markdown",
      "source":[
        "## 5.10 Duration and Launch\/Deadline "
      ],
      "metadata":{
        
      }
    },
    {
      "cell_type":"code",
      "source":[
        "# Launch Day\/Month, Deadline Day\/Month, Duration\n",
        "df['duration_days'] = df['deadline'] - df['launched_at']\n",
        "print('Duration:',df.duration_days[42]) \n",
        "\n",
        "df['launch_hour'] = df['launched_at'].dt.hour\n",
        "print('Launch Hour:',df.launch_hour[42]) \n",
        "\n",
        "df['launch_day'] = df['launched_at'].dt.day_name()\n",
        "print('Launch Day:',df.launch_day[42]) \n",
        "\n",
        "df['launch_month'] = df['launched_at'].dt.month_name()\n",
        "print('Launch Month:',df.launch_month[42])\n",
        "\n",
        "df['launch_year'] = df['launched_at'].dt.year\n",
        "print('Launch Year:',df.launch_year[42])\n",
        "\n",
        "df['deadline_hour'] = df['deadline'].dt.hour\n",
        "print('Deadline Day:',df.deadline_hour[42]) \n",
        "\n",
        "df['deadline_day'] = df['deadline'].dt.day_name()\n",
        "print('Deadline Day:',df.deadline_day[42]) \n",
        "\n",
        "df['deadline_month'] = df['deadline'].dt.month_name()\n",
        "print('Deadline Month:',df.deadline_month[42]) \n",
        "\n",
        "df['deadline_year'] = df['deadline'].dt.year\n",
        "print('Deadline Year:',df.deadline_year[42])"
      ],
      "execution_count":30,
      "outputs":[
        {
          "name":"stdout",
          "text":[
            "Duration: 30 days 00:00:00\n",
            "Launch Hour: 5\n",
            "Launch Day: Monday\n",
            "Launch Month: July\n",
            "Launch Year: 2017\n",
            "Deadline Day: 5\n",
            "Deadline Day: Wednesday\n",
            "Deadline Month: August\n",
            "Deadline Year: 2017\n"
          ],
          "output_type":"stream"
        }
      ],
      "metadata":{
        
      }
    },
    {
      "cell_type":"markdown",
      "source":[
        "## 5.11 Calculation of Median Backing in each Sub Category as new feature"
      ],
      "metadata":{
        
      }
    },
    {
      "cell_type":"code",
      "source":[
        "#calculating average pledge per backer for each observation\n",
        "df['avg_pledge_per_backer_at_project'] = df.usd_pledged \/ df.backers_count # Hier entstehen auch NaN-Werte!\n",
        "df['avg_pledge_per_backer_at_project'].head()"
      ],
      "execution_count":31,
      "outputs":[
        {
          "data":{
            "text\/plain":[
              "0    16.000000\n",
              "2     6.500000\n",
              "5    92.676471\n",
              "6          NaN\n",
              "7    53.375000\n",
              "Name: avg_pledge_per_backer_at_project, dtype: float64"
            ]
          },
          "metadata":{
            
          },
          "output_type":"display_data"
        }
      ],
      "metadata":{
        
      }
    },
    {
      "cell_type":"code",
      "source":[
        "#median of the average pledge per backer in each sub_categobry\n",
        "df['median_avg_pledge_per_backer_in_subcat'] = df['avg_pledge_per_backer_at_project'].groupby(df['total_category']).transform('median')\n",
        "#df[['name','total_category', 'avg_pledge_per_backer_at_project', 'usd_pledged', 'backers_count', 'median_avg_pledge_per_backer_in_subcat']].head(3)\n",
        "df[['total_category', 'avg_pledge_per_backer_at_project', 'usd_pledged', 'backers_count', 'median_avg_pledge_per_backer_in_subcat']].head(3)"
      ],
      "execution_count":32,
      "outputs":[
        {
          "data":{
            "text\/html":[
              "<div>\n",
              "<style scoped>\n",
              "    .dataframe tbody tr th:only-of-type {\n",
              "        vertical-align: middle;\n",
              "    }\n",
              "\n",
              "    .dataframe tbody tr th {\n",
              "        vertical-align: top;\n",
              "    }\n",
              "\n",
              "    .dataframe thead th {\n",
              "        text-align: right;\n",
              "    }\n",
              "<\/style>\n",
              "<table border=\"1\" class=\"dataframe\">\n",
              "  <thead>\n",
              "    <tr style=\"text-align: right;\">\n",
              "      <th><\/th>\n",
              "      <th>total_category<\/th>\n",
              "      <th>avg_pledge_per_backer_at_project<\/th>\n",
              "      <th>usd_pledged<\/th>\n",
              "      <th>backers_count<\/th>\n",
              "      <th>median_avg_pledge_per_backer_in_subcat<\/th>\n",
              "    <\/tr>\n",
              "  <\/thead>\n",
              "  <tbody>\n",
              "    <tr>\n",
              "      <th>0<\/th>\n",
              "      <td>Food\/\/Farms<\/td>\n",
              "      <td>16.000000<\/td>\n",
              "      <td>80.0<\/td>\n",
              "      <td>5<\/td>\n",
              "      <td>49.278571<\/td>\n",
              "    <\/tr>\n",
              "    <tr>\n",
              "      <th>2<\/th>\n",
              "      <td>Photography\/\/Places<\/td>\n",
              "      <td>6.500000<\/td>\n",
              "      <td>13.0<\/td>\n",
              "      <td>2<\/td>\n",
              "      <td>32.957843<\/td>\n",
              "    <\/tr>\n",
              "    <tr>\n",
              "      <th>5<\/th>\n",
              "      <td>Journalism\/\/Journalism<\/td>\n",
              "      <td>92.676471<\/td>\n",
              "      <td>3151.0<\/td>\n",
              "      <td>34<\/td>\n",
              "      <td>50.530134<\/td>\n",
              "    <\/tr>\n",
              "  <\/tbody>\n",
              "<\/table>\n",
              "<\/div>"
            ]
          },
          "metadata":{
            
          },
          "output_type":"display_data"
        }
      ],
      "metadata":{
        
      }
    },
    {
      "cell_type":"markdown",
      "source":[
        "## 5.12 Dropping Duplicates"
      ],
      "metadata":{
        
      }
    },
    {
      "cell_type":"code",
      "source":[
        "# Checking for project duplicates\n",
        "print(f'''In the {len(df)} projects in the dataset,\n",
        "there are {len(df[df.duplicated(subset='project_id',keep='first')])} ones, which are listed more than once.''')"
      ],
      "execution_count":33,
      "outputs":[
        {
          "name":"stdout",
          "text":[
            "In the 194598 projects in the dataset,\n",
            "there are 24562 ones, which are listed more than once.\n"
          ],
          "output_type":"stream"
        }
      ],
      "metadata":{
        
      }
    },
    {
      "cell_type":"code",
      "source":[
        "print('Shape before dropping duplicates:', df.shape)\n",
        "duplicates = df[df.duplicated(subset='project_id',keep='last')].index #length at full df=24562\n",
        "df.drop(duplicates , inplace=True)\n",
        "print('Shape after dropping duplicates: ', df.shape)"
      ],
      "execution_count":34,
      "outputs":[
        {
          "name":"stdout",
          "text":[
            "Shape before dropping duplicates: (194598, 31)\n",
            "Shape after dropping duplicates:  (170036, 31)\n"
          ],
          "output_type":"stream"
        }
      ],
      "metadata":{
        
      }
    },
    {
      "cell_type":"markdown",
      "source":[
        "## 5.13 Potential Analysis: ['usd_pledged'] == 0"
      ],
      "metadata":{
        
      }
    },
    {
      "cell_type":"code",
      "source":[
        "print(df.shape)\n",
        "print(df[df['usd_pledged'] == 0].shape)"
      ],
      "execution_count":35,
      "outputs":[
        {
          "name":"stdout",
          "text":[
            "(170036, 31)\n",
            "(14821, 31)\n"
          ],
          "output_type":"stream"
        }
      ],
      "metadata":{
        
      }
    },
    {
      "cell_type":"markdown",
      "source":[
        "## 5.14 NaN Values in `avg_pledge_per_backer_at_project`"
      ],
      "metadata":{
        
      }
    },
    {
      "cell_type":"code",
      "source":[
        "mask = df.columns[df.isnull().any(axis=0)]\n",
        "null_values = df[mask].isnull().sum()\n",
        "null_values = null_values.sort_values(ascending=False)\n",
        "print('BEFORE NAN-Treatment,  isnull values:')\n",
        "print(null_values)\n",
        "\n",
        "df['avg_pledge_per_backer_at_project'] = df['avg_pledge_per_backer_at_project'].fillna(0)\n",
        "\n",
        "mask = df.columns[df.isnull().any(axis=0)]\n",
        "null_values = df[mask].isnull().sum()\n",
        "null_values = null_values.sort_values(ascending=False)\n",
        "print('AFTER NAN-Treatment, isnull values:')\n",
        "print(null_values)"
      ],
      "execution_count":36,
      "outputs":[
        {
          "name":"stdout",
          "text":[
            "BEFORE NAN-Treatment,  isnull values:\n",
            "avg_pledge_per_backer_at_project    14821\n",
            "dtype: int64\n",
            "AFTER NAN-Treatment, isnull values:\n",
            "Series([], dtype: float64)\n"
          ],
          "output_type":"stream"
        }
      ],
      "metadata":{
        
      }
    },
    {
      "cell_type":"markdown",
      "source":[
        "## 5.15 True\/False --> 1\/0"
      ],
      "metadata":{
        
      }
    },
    {
      "cell_type":"code",
      "source":[
        "print(list(df.staff_pick[:15]))\n",
        "df[\"staff_pick\"] = df[\"staff_pick\"].astype(int).astype('category')\n",
        "print(list(df.staff_pick[:15]))"
      ],
      "execution_count":37,
      "outputs":[
        {
          "name":"stdout",
          "text":[
            "[False, False, False, False, False, False, False, False, True, False, False, False, False, False, False]\n",
            "[0, 0, 0, 0, 0, 0, 0, 0, 1, 0, 0, 0, 0, 0, 0]\n"
          ],
          "output_type":"stream"
        }
      ],
      "metadata":{
        
      }
    },
    {
      "cell_type":"markdown",
      "source":[
        "## 5.16 Categorical"
      ],
      "metadata":{
        
      }
    },
    {
      "cell_type":"code",
      "source":[
        "df['staff_pick'] = df['staff_pick'].astype('category')\n",
        "df['country'] = df['country'].astype('category')\n",
        "df['currency'] = df['currency'].astype('category')\n",
        "df['duration_days'] = df['duration_days'].astype('category')\n",
        "\n",
        "df['launch_hour'] = df['launch_hour'].astype('category')\n",
        "df['launch_day'] = df['launch_day'].astype('category')\n",
        "df['launch_month'] = df['launch_month'].astype('category')\n",
        "df['launch_year'] = df['launch_year'].astype('category')\n",
        "\n",
        "df['deadline_hour'] = df['deadline_hour'].astype('category')\n",
        "df['deadline_day'] = df['deadline_day'].astype('category')\n",
        "df['deadline_month'] = df['deadline_month'].astype('category')\n",
        "df['deadline_year'] = df['deadline_year'].astype('category')"
      ],
      "execution_count":38,
      "outputs":[
        
      ],
      "metadata":{
        
      }
    },
    {
      "cell_type":"markdown",
      "source":[
        "## 5.17 Dropping remaining Non-Usefull Columns"
      ],
      "metadata":{
        
      }
    },
    {
      "cell_type":"code",
      "source":[
        "lst = []\n",
        "#lst.append('source_url') #--> useful information extracted\n",
        "lst.append('goal') #--> goal in country currency, replaced by usd_goal\n",
        "lst.append('static_usd_rate') #--> used for usd_goal\n",
        "lst.append('state') #--> no longer needed. success is the new target\n",
        "lst.append('category')\n",
        "lst.append('creator')\n",
        "lst.append('main_category')\n",
        "lst.append('sub_category')\n",
        "lst.append('deadline')\n",
        "lst.append('id')\n",
        "lst.append('launched_at') #--> needs to be decommented after success per year graph is fixed!\n",
        "lst.append('profile')\n",
        "lst.append('project_id')\n",
        "\n",
        "print('features to drop: \\n', lst)\n",
        "\n",
        "#DECOMMEND FOR ACTUAL DROP \n",
        "df.drop(lst, axis=1, inplace=True)\n",
        "\n",
        "print('REMAINING COLMS: ')\n",
        "print(df.columns)"
      ],
      "execution_count":39,
      "outputs":[
        {
          "name":"stdout",
          "text":[
            "features to drop: \n",
            " ['goal', 'static_usd_rate', 'state', 'category', 'creator', 'main_category', 'sub_category', 'deadline', 'id', 'launched_at', 'profile', 'project_id']\n",
            "REMAINING COLMS: \n",
            "Index(['backers_count', 'country', 'currency', 'staff_pick', 'usd_pledged',\n",
            "       'usd_goal', 'success', 'total_category', 'duration_days', 'launch_hour',\n",
            "       'launch_day', 'launch_month', 'launch_year', 'deadline_hour',\n",
            "       'deadline_day', 'deadline_month', 'deadline_year',\n",
            "       'avg_pledge_per_backer_at_project',\n",
            "       'median_avg_pledge_per_backer_in_subcat'],\n",
            "      dtype='object')\n"
          ],
          "output_type":"stream"
        }
      ],
      "metadata":{
        
      }
    },
    {
      "cell_type":"markdown",
      "source":[
        "## 5.18 Creating df_clean"
      ],
      "metadata":{
        
      }
    },
    {
      "cell_type":"code",
      "source":[
        "df_clean = df.copy()\n",
        "df_clean.info()"
      ],
      "execution_count":40,
      "outputs":[
        {
          "name":"stdout",
          "text":[
            "<class 'pandas.core.frame.DataFrame'>\n",
            "Int64Index: 170036 entries, 0 to 209221\n",
            "Data columns (total 19 columns):\n",
            " #   Column                                  Non-Null Count   Dtype   \n",
            "---  ------                                  --------------   -----   \n",
            " 0   backers_count                           170036 non-null  int64   \n",
            " 1   country                                 170036 non-null  category\n",
            " 2   currency                                170036 non-null  category\n",
            " 3   staff_pick                              170036 non-null  category\n",
            " 4   usd_pledged                             170036 non-null  float64 \n",
            " 5   usd_goal                                170036 non-null  float64 \n",
            " 6   success                                 170036 non-null  int64   \n",
            " 7   total_category                          170036 non-null  object  \n",
            " 8   duration_days                           170036 non-null  category\n",
            " 9   launch_hour                             170036 non-null  category\n",
            " 10  launch_day                              170036 non-null  category\n",
            " 11  launch_month                            170036 non-null  category\n",
            " 12  launch_year                             170036 non-null  category\n",
            " 13  deadline_hour                           170036 non-null  category\n",
            " 14  deadline_day                            170036 non-null  category\n",
            " 15  deadline_month                          170036 non-null  category\n",
            " 16  deadline_year                           170036 non-null  category\n",
            " 17  avg_pledge_per_backer_at_project        170036 non-null  float64 \n",
            " 18  median_avg_pledge_per_backer_in_subcat  170036 non-null  float64 \n",
            "dtypes: category(12), float64(4), int64(2), object(1)\n",
            "memory usage: 14.4+ MB\n"
          ],
          "output_type":"stream"
        }
      ],
      "metadata":{
        
      }
    },
    {
      "cell_type":"markdown",
      "source":[
        "# 6. Data Exploration\n",
        "Form hypotheses about your defined problem by visually analyzing the data"
      ],
      "metadata":{
        
      }
    },
    {
      "cell_type":"markdown",
      "source":[
        "## 6.1 Graph: Success per year"
      ],
      "metadata":{
        
      }
    },
    {
      "cell_type":"code",
      "source":[
        "###### DATA SELECTION by defining a new table #######\n",
        "success_by_year = df.set_index('launch_year').success\n",
        "success_by_year = pd.get_dummies(success_by_year)#.resample('YS').sum()\n",
        "success_by_year = success_by_year.groupby('launch_year').sum()\n",
        "success_by_year\n",
        "\n",
        "### SUBPLOT SETTINGS ###\n",
        "fig, ax = plt.subplots(1,2, figsize=(18, 9))\n",
        "\n",
        "### RIGHT Subplot ###\n",
        "success_by_year.plot.bar(ax=ax[0], color=['olive', 'coral'])\n",
        "ax[0].set_title('Number of failed and successful projects')\n",
        "ax[0].set_xlabel('')\n",
        "ax[0].tick_params(labelsize=16)\n",
        "ax[0].set_xticklabels(list(range(2009,2020)), rotation=45)\n",
        "\n",
        "### LEFT Subplot ###\n",
        "success_by_year.div(success_by_year.sum(axis=1), axis=0)[1].plot(kind='bar', ax=ax[1], color='goldenrod') # Normalizes counts across rows\n",
        "ax[1].set_title('Proportion of successful projects')\n",
        "ax[1].set_xlabel('')\n",
        "ax[1].tick_params(labelsize=16)\n",
        "ax[1].set_xticklabels(list(range(2009,2020)), rotation=45)\n",
        "\n",
        "### CLEANING WORKSPACE ###\n",
        "del success_by_year\n",
        "\n",
        "\n",
        "### OUTPUT ###\n",
        "plt.savefig('figures\/success_per_year.png', transparent=True)\n",
        "plt.show()"
      ],
      "execution_count":41,
      "outputs":[
        {
          "data":{
            "image\/png":"[encoded data removed]"
          },
          "metadata":{
            "image\/png":{
              "width":0,
              "height":0
            }
          },
          "output_type":"display_data"
        }
      ],
      "metadata":{
        
      }
    },
    {
      "cell_type":"markdown",
      "source":[
        "## 6.2 Graph: Count Total_Category"
      ],
      "metadata":{
        
      }
    },
    {
      "cell_type":"code",
      "source":[
        "count_total_cat = df['total_category'].value_counts()\n",
        "\n",
        "plt.figure()\n",
        "f, ax = plt.subplots(figsize=(12, 4))\n",
        "sns.barplot(count_total_cat.index, count_total_cat.values, color='b')\n",
        "plt.title('Occurrences per Total_Category')\n",
        "plt.ylabel('Number of Occurrences', fontsize=16)\n",
        "ax.get_xaxis().set_ticks([])\n",
        "plt.xlabel('')\n",
        "\n",
        "### CLEANING WORKSPACE ###\n",
        "del count_total_cat\n",
        "\n",
        "###### OUTPUT #######\n",
        "plt.savefig('figures\/count_total_category.png', transparent=True)\n",
        "plt.show();"
      ],
      "execution_count":42,
      "outputs":[
        {
          "data":{
            "text\/plain":[
              "<Figure size 432x288 with 0 Axes>"
            ],
            "image\/png":"[encoded data removed]"
          },
          "metadata":{
            "image\/png":{
              "width":0,
              "height":0
            }
          },
          "output_type":"display_data"
        }
      ],
      "metadata":{
        
      }
    },
    {
      "cell_type":"markdown",
      "source":[
        "## 6.3 Success by 'total_category' for most frequent sub categories\n",
        "What is the successrate for the most frequent total_categories?"
      ],
      "metadata":{
        
      }
    },
    {
      "cell_type":"code",
      "source":[
        "###### DATA SELECTION by defining a new table #######\n",
        "success_by_subcategory = pd.pivot_table(df, index='total_category', columns='success', values='usd_pledged', aggfunc='count', fill_value = 0)\n",
        "success_by_subcategory['total'] = success_by_subcategory[0] + success_by_subcategory[1] \n",
        "success_by_subcategory.columns = ['failed', 'successful', 'total']\n",
        "success_by_subcategory['success_rate'] = success_by_subcategory['successful'] \/ success_by_subcategory['total']\n",
        "\n",
        "#tweaking the data --> tweaking the plot. \n",
        "#sort_values(by=...) --> 'total' or successrate, or successrate AND Ascending=True\n",
        "success_by_subcategory = success_by_subcategory.sort_values(by=['total'], ascending=False).reset_index()\n",
        "\n",
        "#number of total_categories to illustrate\n",
        "topcategories = success_by_subcategory.head(30)\n",
        "#sorting topcategories by their success_rate\n",
        "topcategories = topcategories.sort_values(by=['success_rate'], ascending=False).reset_index()\n",
        "\n",
        "\n",
        "###### PLOT SETTINGS #######\n",
        "f, ax = plt.subplots(figsize=(12, 8))\n",
        "\n",
        "sns.barplot(x='total', y='total_category', data=topcategories, label='Total', color=\"sandybrown\")\n",
        "sns.barplot(x='successful', y='total_category', data=topcategories, label='Successful', color='sienna')\n",
        "\n",
        "plt.tick_params(labelsize=16)\n",
        "plt.title(\"Success by Subcategory\")\n",
        "plt.xlabel(\"Number of Projects\")\n",
        "plt.ylabel(\"Subcategory\")\n",
        "plt.legend()\n",
        "\n",
        "### CLEANING WORKSPACE ###\n",
        "#del success_by_subcategory, topcategories\n",
        "\n",
        "\n",
        "###### OUTPUT #######\n",
        "plt.savefig('figures\/success_per_total_cat.png', transparent=True, bbox_inches='tight')\n",
        "plt.show()"
      ],
      "execution_count":43,
      "outputs":[
        {
          "data":{
            "image\/png":"[encoded data removed]"
          },
          "metadata":{
            "image\/png":{
              "width":0,
              "height":0
            }
          },
          "output_type":"display_data"
        }
      ],
      "metadata":{
        
      }
    },
    {
      "cell_type":"markdown",
      "source":[
        "## 6.4 Backing in `total_category`"
      ],
      "metadata":{
        
      }
    },
    {
      "cell_type":"code",
      "source":[
        "medians = df[['median_avg_pledge_per_backer_in_subcat', 'total_category']].groupby('total_category').mean().round(2)\n",
        "medians = medians.sort_values(by='median_avg_pledge_per_backer_in_subcat', ascending=False)\n",
        "medians_selection = medians\n",
        "medians_selection\n",
        "\n",
        "\n",
        "f, ax = plt.subplots(figsize=(2, 12))\n",
        "sns.barplot(x=medians_selection.median_avg_pledge_per_backer_in_subcat, y=medians_selection.index, color='goldenrod')\n",
        "ax.set_title(\"\")\n",
        "sns.despine()\n",
        "plt.ylabel('')\n",
        "plt.xlabel('')\n",
        "plt.yticks([])\n",
        "plt.tick_params(labelsize=12)\n",
        "plt.savefig('figures\/overview_medians.png', transparent=True, bbox_inches='tight')\n",
        "plt.show()"
      ],
      "execution_count":44,
      "outputs":[
        {
          "data":{
            "image\/png":"[encoded data removed]"
          },
          "metadata":{
            "image\/png":{
              "width":0,
              "height":0
            }
          },
          "output_type":"display_data"
        }
      ],
      "metadata":{
        
      }
    },
    {
      "cell_type":"code",
      "source":[
        "medians = df[['median_avg_pledge_per_backer_in_subcat', 'total_category']].groupby('total_category').mean().round(2)\n",
        "medians = medians.sort_values(by='median_avg_pledge_per_backer_in_subcat', ascending=False)\n",
        "medians_selection = pd.concat([medians.tail(6),medians.head(6)]).sort_values(by='median_avg_pledge_per_backer_in_subcat', ascending=False)\n",
        "medians_selection\n",
        "\n",
        "\n",
        "f, ax = plt.subplots(figsize=(4, 6))\n",
        "sns.barplot(x=medians_selection.median_avg_pledge_per_backer_in_subcat, y=medians_selection.index, color='goldenrod')\n",
        "ax.set_title(\"\")\n",
        "sns.despine()\n",
        "plt.ylabel('')\n",
        "plt.xlabel('')\n",
        "plt.tick_params(labelsize=12)\n",
        "plt.savefig('figures\/median_avg_pledge_per_backer_in_subcat.png', transparent=True, bbox_inches='tight')\n",
        "plt.show()"
      ],
      "execution_count":45,
      "outputs":[
        {
          "data":{
            "image\/png":"[encoded data removed]"
          },
          "metadata":{
            "image\/png":{
              "width":0,
              "height":0
            }
          },
          "output_type":"display_data"
        }
      ],
      "metadata":{
        
      }
    },
    {
      "cell_type":"markdown",
      "source":[
        "## 6.5 Success Rates for Number of Backers\n",
        "How many backers are needed to good chance of Success?"
      ],
      "metadata":{
        
      }
    },
    {
      "cell_type":"code",
      "source":[
        "# Creating a dataframe with index = number-of-backers and columss fail-count, success-count and success-rate\n",
        "num_of_backers = df.groupby(['backers_count','success']).count()\n",
        "num_of_backers = num_of_backers['usd_pledged'].unstack()\n",
        "num_of_backers = num_of_backers.fillna(0)\n",
        "num_of_backers['success_rate'] = num_of_backers[1] \/ (num_of_backers[0] + num_of_backers[1])\n",
        "num_of_backers_plot = num_of_backers[0:751] # Begrenzung auf die ersten 750 Einträge von 3228\n",
        "f, ax = plt.subplots(figsize=(12, 8))\n",
        "sns.scatterplot(data = num_of_backers_plot['success_rate'], color='darkred', s=70)\n",
        "ax.set_title('Success Rate for Number of Backers')\n",
        "ax.set_xlabel('Number of Backers')\n",
        "ax.set_ylabel('Success Rate')\n",
        "ax.tick_params(labelsize=16)\n",
        "vals = ax.get_yticks()\n",
        "ax.set_yticklabels(['{:,.2%}'.format(x) for x in vals])\n",
        "plt.savefig('figures\/success_rates_for_number_of_backers.png', transparent=True)\n",
        "plt.show()"
      ],
      "execution_count":46,
      "outputs":[
        {
          "data":{
            "image\/png":"[encoded data removed]"
          },
          "metadata":{
            "image\/png":{
              "width":0,
              "height":0
            }
          },
          "output_type":"display_data"
        }
      ],
      "metadata":{
        
      }
    },
    {
      "cell_type":"markdown",
      "source":[
        "## 6.6 Success based on Staff Pick"
      ],
      "metadata":{
        
      }
    },
    {
      "cell_type":"code",
      "source":[
        "###### DATA SELECTION by defining a new table #######\n",
        "success_staffpick = df.groupby(by=['staff_pick', 'success']).count()\n",
        "success_staffpick = success_staffpick['usd_pledged'].unstack('success').fillna(0)\n",
        "success_staffpick.columns = ['failed', 'successful']\n",
        "success_staffpick['staff_pick'] = ['non-Staff Picks', 'Staff Picks']\n",
        "success_staffpick['total'] = success_staffpick['successful'] + success_staffpick['failed'] \n",
        "#success_staffpick['success_rate'] = bystaffpick['successful'] \/ (bystaffpick['successful'] + bystaffpick['failed'])\n",
        "\n",
        "###### PLOT SETTINGS #######\n",
        "f, ax = plt.subplots(figsize=(8, 12))\n",
        "\n",
        "sns.barplot(x='staff_pick', y='total', data=success_staffpick, label='Total', color=\"sandybrown\")\n",
        "sns.barplot(x='staff_pick', y='successful', data=success_staffpick, label='Successful', color='sienna')\n",
        "\n",
        "plt.tick_params(labelsize=16)\n",
        "plt.title(\"Success Rate based on Staff Pick\")\n",
        "plt.xlabel(\"\")\n",
        "plt.ylabel(\"Number of projects\")\n",
        "plt.legend()\n",
        "\n",
        "### CLEANING WORKSPACE ###\n",
        "del success_staffpick\n",
        "\n",
        "###### OUTPUT #######\n",
        "plt.savefig('figures\/success_per_staffpick.png', bbox_inches='tight', transparent=True)\n",
        "plt.show()"
      ],
      "execution_count":47,
      "outputs":[
        {
          "data":{
            "image\/png":"[encoded data removed]"
          },
          "metadata":{
            "image\/png":{
              "width":0,
              "height":0
            }
          },
          "output_type":"display_data"
        }
      ],
      "metadata":{
        
      }
    },
    {
      "cell_type":"markdown",
      "source":[
        "## 6.7 Correlation Matrix"
      ],
      "metadata":{
        
      }
    },
    {
      "cell_type":"code",
      "source":[
        "# Plot correlation heatmap for remaining continuous variables\n",
        "# Generate a mask for the upper triangle\n",
        "mask = np.triu(np.ones_like(df_clean.corr(), dtype=np.bool))\n",
        "\n",
        "#Set up the matplotlib figure\n",
        "f, ax = plt.subplots(figsize=(11, 9))\n",
        "\n",
        "#Generate a custom diverging colormap\n",
        "cmap = sns.diverging_palette(220, 10, as_cmap=True)\n",
        "\n",
        "#Draw the heatmap with the mask and correct aspect ratio\n",
        "sns.heatmap(df_clean.corr(), mask=mask, cmap=cmap, vmax=.3, center=0,\n",
        "            square=True, linewidths=.5, cbar_kws={\"shrink\": .5}, annot=True, fmt=\".1g\");"
      ],
      "execution_count":48,
      "outputs":[
        {
          "data":{
            "image\/png":"[encoded data removed]"
          },
          "metadata":{
            "image\/png":{
              "width":0,
              "height":0
            }
          },
          "output_type":"display_data"
        }
      ],
      "metadata":{
        
      }
    },
    {
      "cell_type":"markdown",
      "source":[
        "## 6.8 Remaining Columns"
      ],
      "metadata":{
        
      }
    },
    {
      "cell_type":"code",
      "source":[
        "print('REMAINING COLMS: ')\n",
        "print(df.columns)"
      ],
      "execution_count":49,
      "outputs":[
        {
          "name":"stdout",
          "text":[
            "REMAINING COLMS: \n",
            "Index(['backers_count', 'country', 'currency', 'staff_pick', 'usd_pledged',\n",
            "       'usd_goal', 'success', 'total_category', 'duration_days', 'launch_hour',\n",
            "       'launch_day', 'launch_month', 'launch_year', 'deadline_hour',\n",
            "       'deadline_day', 'deadline_month', 'deadline_year',\n",
            "       'avg_pledge_per_backer_at_project',\n",
            "       'median_avg_pledge_per_backer_in_subcat'],\n",
            "      dtype='object')\n"
          ],
          "output_type":"stream"
        }
      ],
      "metadata":{
        
      }
    },
    {
      "cell_type":"markdown",
      "source":[
        "# 7. Feature Engineering\n",
        "Select important features and construct more meaningful ones using the raw data that you have\n",
        "\n",
        "Annotation: Our addintinal features are:\n",
        "- 'total_category' created in 5.8\n",
        "- 'avg_pledge_per_backer_at_project' created in 5.11\n",
        "- 'median_avg_pledge_per_backer_in_subcat' created in 6.4"
      ],
      "metadata":{
        
      }
    },
    {
      "cell_type":"markdown",
      "source":[
        "# 8. Predictive Modeling\n",
        "Train machine learning models (supervised learning), evaluate their performance and use them to make predictions"
      ],
      "metadata":{
        
      }
    },
    {
      "cell_type":"code",
      "source":[
        "df_clean.info()"
      ],
      "execution_count":50,
      "outputs":[
        {
          "name":"stdout",
          "text":[
            "<class 'pandas.core.frame.DataFrame'>\n",
            "Int64Index: 170036 entries, 0 to 209221\n",
            "Data columns (total 19 columns):\n",
            " #   Column                                  Non-Null Count   Dtype   \n",
            "---  ------                                  --------------   -----   \n",
            " 0   backers_count                           170036 non-null  int64   \n",
            " 1   country                                 170036 non-null  category\n",
            " 2   currency                                170036 non-null  category\n",
            " 3   staff_pick                              170036 non-null  category\n",
            " 4   usd_pledged                             170036 non-null  float64 \n",
            " 5   usd_goal                                170036 non-null  float64 \n",
            " 6   success                                 170036 non-null  int64   \n",
            " 7   total_category                          170036 non-null  object  \n",
            " 8   duration_days                           170036 non-null  category\n",
            " 9   launch_hour                             170036 non-null  category\n",
            " 10  launch_day                              170036 non-null  category\n",
            " 11  launch_month                            170036 non-null  category\n",
            " 12  launch_year                             170036 non-null  category\n",
            " 13  deadline_hour                           170036 non-null  category\n",
            " 14  deadline_day                            170036 non-null  category\n",
            " 15  deadline_month                          170036 non-null  category\n",
            " 16  deadline_year                           170036 non-null  category\n",
            " 17  avg_pledge_per_backer_at_project        170036 non-null  float64 \n",
            " 18  median_avg_pledge_per_backer_in_subcat  170036 non-null  float64 \n",
            "dtypes: category(12), float64(4), int64(2), object(1)\n",
            "memory usage: 14.4+ MB\n"
          ],
          "output_type":"stream"
        }
      ],
      "metadata":{
        
      }
    },
    {
      "cell_type":"markdown",
      "source":[
        "## 8.1 Downsampling"
      ],
      "metadata":{
        
      }
    },
    {
      "cell_type":"code",
      "source":[
        "df_clean.shape"
      ],
      "execution_count":51,
      "outputs":[
        {
          "data":{
            "text\/plain":[
              "(170036, 19)"
            ]
          },
          "metadata":{
            
          },
          "output_type":"display_data"
        }
      ],
      "metadata":{
        
      }
    },
    {
      "cell_type":"code",
      "source":[
        "df_clean['success'].value_counts()"
      ],
      "execution_count":52,
      "outputs":[
        {
          "data":{
            "text\/plain":[
              "1    95836\n",
              "0    74200\n",
              "Name: success, dtype: int64"
            ]
          },
          "metadata":{
            
          },
          "output_type":"display_data"
        }
      ],
      "metadata":{
        
      }
    },
    {
      "cell_type":"code",
      "source":[
        "# Separate majority and minority classes\n",
        "df_clean_majority = df_clean[df_clean.success==1]\n",
        "df_clean_minority = df_clean[df_clean.success==0]\n",
        "\n",
        "# Downsample majority class\n",
        "df_clean_majority_downsampled = resample(df_clean_majority, \n",
        "                                         replace=False,      # sample without replacement\n",
        "                                         n_samples=74200,    # to match minority class\n",
        "                                         random_state=RSEED) # reproducible results"
      ],
      "execution_count":53,
      "outputs":[
        
      ],
      "metadata":{
        
      }
    },
    {
      "cell_type":"code",
      "source":[
        "df_clean_majority['success'].value_counts()"
      ],
      "execution_count":54,
      "outputs":[
        {
          "data":{
            "text\/plain":[
              "1    95836\n",
              "Name: success, dtype: int64"
            ]
          },
          "metadata":{
            
          },
          "output_type":"display_data"
        }
      ],
      "metadata":{
        
      }
    },
    {
      "cell_type":"code",
      "source":[
        "df_clean_majority_downsampled['success'].value_counts()"
      ],
      "execution_count":55,
      "outputs":[
        {
          "data":{
            "text\/plain":[
              "1    74200\n",
              "Name: success, dtype: int64"
            ]
          },
          "metadata":{
            
          },
          "output_type":"display_data"
        }
      ],
      "metadata":{
        
      }
    },
    {
      "cell_type":"code",
      "source":[
        "# Combine minority class with downsampled majority class\n",
        "df_model = pd.concat([df_clean_majority_downsampled, df_clean_minority])\n",
        " \n",
        "# Display new class counts\n",
        "df_model['success'].value_counts()"
      ],
      "execution_count":56,
      "outputs":[
        {
          "data":{
            "text\/plain":[
              "1    74200\n",
              "0    74200\n",
              "Name: success, dtype: int64"
            ]
          },
          "metadata":{
            
          },
          "output_type":"display_data"
        }
      ],
      "metadata":{
        
      }
    },
    {
      "cell_type":"markdown",
      "source":[
        "## 8.2 Deleting DataLeakage Candidates"
      ],
      "metadata":{
        
      }
    },
    {
      "cell_type":"code",
      "source":[
        "df_model.shape"
      ],
      "execution_count":57,
      "outputs":[
        {
          "data":{
            "text\/plain":[
              "(148400, 19)"
            ]
          },
          "metadata":{
            
          },
          "output_type":"display_data"
        }
      ],
      "metadata":{
        
      }
    },
    {
      "cell_type":"code",
      "source":[
        "df_model.drop('backers_count', axis=1, inplace=True) #--> a) most likely not known by client and b) high risk of data leakage\n",
        "df_model.drop('usd_pledged', axis=1, inplace=True) #--> high risk of data leakage since usd_pledget < usd_goal = failed \n",
        "df_model.shape"
      ],
      "execution_count":58,
      "outputs":[
        {
          "data":{
            "text\/plain":[
              "(148400, 17)"
            ]
          },
          "metadata":{
            
          },
          "output_type":"display_data"
        }
      ],
      "metadata":{
        
      }
    },
    {
      "cell_type":"markdown",
      "source":[
        "## 8.3 Saving downsampled 'df_model' to Pickle"
      ],
      "metadata":{
        
      }
    },
    {
      "cell_type":"code",
      "source":[
        "savepath = 'df_model.pkl'\n",
        "df_model.to_pickle(savepath)"
      ],
      "execution_count":59,
      "outputs":[
        
      ],
      "metadata":{
        
      }
    }
  ],
  "metadata":{
    
  },
  "nbformat":4,
  "nbformat_minor":0
}